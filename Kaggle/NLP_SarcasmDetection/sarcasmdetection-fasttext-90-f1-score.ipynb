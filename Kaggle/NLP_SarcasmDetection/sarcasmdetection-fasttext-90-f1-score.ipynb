{
 "cells": [
  {
   "cell_type": "markdown",
   "id": "47d07a4c",
   "metadata": {
    "papermill": {
     "duration": 0.015286,
     "end_time": "2021-12-23T10:51:32.728452",
     "exception": false,
     "start_time": "2021-12-23T10:51:32.713166",
     "status": "completed"
    },
    "tags": []
   },
   "source": [
    "Hello everyone and welcome to my first submission on Kaggle.\n",
    "\n",
    "While I a lot of people might think that complex models with a long training time is required (especially in NLP), I want to show that this is not always the case.\n",
    "\n",
    "In this notebook, I will train a model that uses pre-trained word vectors already and that is fasttext.\n",
    "\n",
    "Here is a link of the docs, in case any of you are interested in further reading:\n",
    "\n",
    "https://fasttext.cc/\n",
    "\n",
    "Since the dataset is basically already clean, almost no preprocessing is needed for the following reasons:\n",
    "\n",
    "- News headlines are already short in nature, so there will not be a problem with text length, loss of meaning etc.\n",
    "\n",
    "- The words are already pre-trained so 99% of the training time will not be required.\n",
    "\n",
    "- The task is really simple and perhaps other more complex models might perform worse."
   ]
  },
  {
   "cell_type": "markdown",
   "id": "7ba27b5e",
   "metadata": {
    "papermill": {
     "duration": 0.012708,
     "end_time": "2021-12-23T10:51:32.754685",
     "exception": false,
     "start_time": "2021-12-23T10:51:32.741977",
     "status": "completed"
    },
    "tags": []
   },
   "source": [
    "# Imports"
   ]
  },
  {
   "cell_type": "code",
   "execution_count": 1,
   "id": "32409c2d",
   "metadata": {
    "execution": {
     "iopub.execute_input": "2021-12-23T10:51:32.785203Z",
     "iopub.status.busy": "2021-12-23T10:51:32.784135Z",
     "iopub.status.idle": "2021-12-23T10:51:34.281421Z",
     "shell.execute_reply": "2021-12-23T10:51:34.281916Z",
     "shell.execute_reply.started": "2021-12-23T10:49:32.574161Z"
    },
    "papermill": {
     "duration": 1.514306,
     "end_time": "2021-12-23T10:51:34.282221",
     "exception": false,
     "start_time": "2021-12-23T10:51:32.767915",
     "status": "completed"
    },
    "tags": []
   },
   "outputs": [],
   "source": [
    "#!pip install fasttext\n",
    "#!pip install nltk\n",
    "import numpy as np\n",
    "import pandas as pd\n",
    "import fasttext\n",
    "import re\n",
    "import nltk\n",
    "from nltk.corpus import stopwords\n",
    "from nltk.tokenize import word_tokenize\n",
    "from nltk import WordNetLemmatizer\n",
    "from nltk.tokenize import sent_tokenize\n",
    "stopwords = set(stopwords.words('english'))\n",
    "stemmer = WordNetLemmatizer()"
   ]
  },
  {
   "cell_type": "markdown",
   "id": "35b7723f",
   "metadata": {
    "papermill": {
     "duration": 0.012865,
     "end_time": "2021-12-23T10:51:34.308879",
     "exception": false,
     "start_time": "2021-12-23T10:51:34.296014",
     "status": "completed"
    },
    "tags": []
   },
   "source": [
    "For the people new to nlp, nltk is a great library with a lot of essential features to aid us in sentiment analysis and other NLP tasks.\n",
    "\n",
    "Here our interest lies on sentiment analysis and with the super 'clean' dataset we will only focus on removing the stopwords and lemmatizing.\n",
    "\n",
    "Stopwords: words that do not help in defining a sentiment in our case.\n",
    "\n",
    "Lemma: the core meaning of a word.\n",
    "\n",
    "Most news headlines will already convey the core idea, so lemmatizing will only serve the purpose for most long and fluffy satirical headlines. It also helps on processing time since less tokens are necessary.\n"
   ]
  },
  {
   "cell_type": "code",
   "execution_count": 2,
   "id": "134b6464",
   "metadata": {
    "execution": {
     "iopub.execute_input": "2021-12-23T10:51:34.337942Z",
     "iopub.status.busy": "2021-12-23T10:51:34.337390Z",
     "iopub.status.idle": "2021-12-23T10:51:34.403421Z",
     "shell.execute_reply": "2021-12-23T10:51:34.403875Z",
     "shell.execute_reply.started": "2021-12-23T10:49:32.584048Z"
    },
    "papermill": {
     "duration": 0.081923,
     "end_time": "2021-12-23T10:51:34.404037",
     "exception": false,
     "start_time": "2021-12-23T10:51:34.322114",
     "status": "completed"
    },
    "tags": []
   },
   "outputs": [
    {
     "data": {
      "text/html": [
       "<div>\n",
       "<style scoped>\n",
       "    .dataframe tbody tr th:only-of-type {\n",
       "        vertical-align: middle;\n",
       "    }\n",
       "\n",
       "    .dataframe tbody tr th {\n",
       "        vertical-align: top;\n",
       "    }\n",
       "\n",
       "    .dataframe thead th {\n",
       "        text-align: right;\n",
       "    }\n",
       "</style>\n",
       "<table border=\"1\" class=\"dataframe\">\n",
       "  <thead>\n",
       "    <tr style=\"text-align: right;\">\n",
       "      <th></th>\n",
       "      <th>headlines</th>\n",
       "      <th>target</th>\n",
       "    </tr>\n",
       "  </thead>\n",
       "  <tbody>\n",
       "    <tr>\n",
       "      <th>0</th>\n",
       "      <td>CNN Triumphs (At Least in Most Demographic Cat...</td>\n",
       "      <td>Non Sarcastic</td>\n",
       "    </tr>\n",
       "    <tr>\n",
       "      <th>1</th>\n",
       "      <td>‘You Did The Best You Could,’ Says Iron Man Ac...</td>\n",
       "      <td>Sarcastic</td>\n",
       "    </tr>\n",
       "    <tr>\n",
       "      <th>2</th>\n",
       "      <td>New Emails Reveal Warm Relationship Between Ka...</td>\n",
       "      <td>Non Sarcastic</td>\n",
       "    </tr>\n",
       "    <tr>\n",
       "      <th>3</th>\n",
       "      <td>Donald Trump Jr. Gets Slammed Over Racist Birt...</td>\n",
       "      <td>Non Sarcastic</td>\n",
       "    </tr>\n",
       "    <tr>\n",
       "      <th>4</th>\n",
       "      <td>God Urges Rick Perry Not To Run For President</td>\n",
       "      <td>Sarcastic</td>\n",
       "    </tr>\n",
       "  </tbody>\n",
       "</table>\n",
       "</div>"
      ],
      "text/plain": [
       "                                           headlines         target\n",
       "0  CNN Triumphs (At Least in Most Demographic Cat...  Non Sarcastic\n",
       "1  ‘You Did The Best You Could,’ Says Iron Man Ac...      Sarcastic\n",
       "2  New Emails Reveal Warm Relationship Between Ka...  Non Sarcastic\n",
       "3  Donald Trump Jr. Gets Slammed Over Racist Birt...  Non Sarcastic\n",
       "4      God Urges Rick Perry Not To Run For President      Sarcastic"
      ]
     },
     "execution_count": 2,
     "metadata": {},
     "output_type": "execute_result"
    }
   ],
   "source": [
    "df = pd.read_csv(\"../input/news-headlines-for-sarcasm-detection/Data.csv\")\n",
    "df.head()"
   ]
  },
  {
   "cell_type": "markdown",
   "id": "2e20b75a",
   "metadata": {
    "papermill": {
     "duration": 0.0136,
     "end_time": "2021-12-23T10:51:34.431343",
     "exception": false,
     "start_time": "2021-12-23T10:51:34.417743",
     "status": "completed"
    },
    "tags": []
   },
   "source": [
    "# Preprocessing"
   ]
  },
  {
   "cell_type": "markdown",
   "id": "ce8e088a",
   "metadata": {
    "papermill": {
     "duration": 0.013236,
     "end_time": "2021-12-23T10:51:34.458216",
     "exception": false,
     "start_time": "2021-12-23T10:51:34.444980",
     "status": "completed"
    },
    "tags": []
   },
   "source": [
    "Given that the dataset is small, I will not prioritize computing power and etc.\n",
    "\n",
    "For that, I will keep doing the process with list since it will also help beginners to understand."
   ]
  },
  {
   "cell_type": "code",
   "execution_count": 3,
   "id": "eadc04e2",
   "metadata": {
    "execution": {
     "iopub.execute_input": "2021-12-23T10:51:34.491904Z",
     "iopub.status.busy": "2021-12-23T10:51:34.491325Z",
     "iopub.status.idle": "2021-12-23T10:51:34.493876Z",
     "shell.execute_reply": "2021-12-23T10:51:34.494370Z",
     "shell.execute_reply.started": "2021-12-23T10:49:32.630194Z"
    },
    "papermill": {
     "duration": 0.022631,
     "end_time": "2021-12-23T10:51:34.494531",
     "exception": false,
     "start_time": "2021-12-23T10:51:34.471900",
     "status": "completed"
    },
    "tags": []
   },
   "outputs": [],
   "source": [
    "# Separate the data to treat them\n",
    "headlines = df['headlines'].values.tolist()\n",
    "target = df[\"target\"].values.tolist()"
   ]
  },
  {
   "cell_type": "markdown",
   "id": "dad52ce3",
   "metadata": {
    "papermill": {
     "duration": 0.0129,
     "end_time": "2021-12-23T10:51:34.520702",
     "exception": false,
     "start_time": "2021-12-23T10:51:34.507802",
     "status": "completed"
    },
    "tags": []
   },
   "source": [
    "### apply_re_and_return_lower\n",
    "For fasttext, punctuation will not help convey a meaning of the word, the .lower() is to avoid differentiation of the same words (Fast and fast are the same words for humans, but different for Python)\n",
    "\n",
    "### change_labels_for_fasttext\n",
    "Fasttext has a particularity that required the data to be labeled a certain way and \"joined\" with the dataset, which will be done later. For now, we only want the labels to be the way we want them."
   ]
  },
  {
   "cell_type": "code",
   "execution_count": 4,
   "id": "03bbe268",
   "metadata": {
    "execution": {
     "iopub.execute_input": "2021-12-23T10:51:34.554960Z",
     "iopub.status.busy": "2021-12-23T10:51:34.554358Z",
     "iopub.status.idle": "2021-12-23T10:51:34.555900Z",
     "shell.execute_reply": "2021-12-23T10:51:34.556409Z",
     "shell.execute_reply.started": "2021-12-23T10:49:32.639878Z"
    },
    "papermill": {
     "duration": 0.022519,
     "end_time": "2021-12-23T10:51:34.556559",
     "exception": false,
     "start_time": "2021-12-23T10:51:34.534040",
     "status": "completed"
    },
    "tags": []
   },
   "outputs": [],
   "source": [
    "def apply_re_and_return_lower(headlines):\n",
    "  re_list = []\n",
    "  for text in headlines:\n",
    "    text = re.sub(\"[^0-9A-Za-z ]\", \"\", text)\n",
    "    re_list.append(text)\n",
    "  return_list = []\n",
    "  for title in re_list:\n",
    "    tokens = word_tokenize(title) #imported from nltk\n",
    "    working_list = []\n",
    "    for word in tokens:\n",
    "      if word not in stopwords: #check stopwords variable in imports\n",
    "        working_list.append(stemmer.lemmatize(word.lower()))\n",
    "    return_list.append(' '.join(working_list))\n",
    "  return return_list\n",
    "\n",
    "def change_labels_for_fasttext(target):\n",
    "  target_cleaned = []\n",
    "  for label in target:\n",
    "    if label == 'Sarcastic':\n",
    "      target_cleaned.append(\"__label__positive\")\n",
    "    else:\n",
    "      target_cleaned.append(\"__label__negative\")\n",
    "  return target_cleaned"
   ]
  },
  {
   "cell_type": "code",
   "execution_count": 5,
   "id": "c691aa4e",
   "metadata": {
    "execution": {
     "iopub.execute_input": "2021-12-23T10:51:34.585653Z",
     "iopub.status.busy": "2021-12-23T10:51:34.585117Z",
     "iopub.status.idle": "2021-12-23T10:51:38.194972Z",
     "shell.execute_reply": "2021-12-23T10:51:38.194395Z",
     "shell.execute_reply.started": "2021-12-23T10:49:32.653338Z"
    },
    "papermill": {
     "duration": 3.625274,
     "end_time": "2021-12-23T10:51:38.195136",
     "exception": false,
     "start_time": "2021-12-23T10:51:34.569862",
     "status": "completed"
    },
    "tags": []
   },
   "outputs": [],
   "source": [
    "# Apply functions\n",
    "headlines = apply_re_and_return_lower(headlines)\n",
    "target = change_labels_for_fasttext(target)"
   ]
  },
  {
   "cell_type": "code",
   "execution_count": 6,
   "id": "7068c8c6",
   "metadata": {
    "execution": {
     "iopub.execute_input": "2021-12-23T10:51:38.232437Z",
     "iopub.status.busy": "2021-12-23T10:51:38.231699Z",
     "iopub.status.idle": "2021-12-23T10:51:38.235166Z",
     "shell.execute_reply": "2021-12-23T10:51:38.234715Z",
     "shell.execute_reply.started": "2021-12-23T10:49:35.690432Z"
    },
    "papermill": {
     "duration": 0.026703,
     "end_time": "2021-12-23T10:51:38.235299",
     "exception": false,
     "start_time": "2021-12-23T10:51:38.208596",
     "status": "completed"
    },
    "tags": []
   },
   "outputs": [],
   "source": [
    "# Check if there was any error along the way and create the dataset to join and split\n",
    "assert len(headlines) == len(target)\n",
    "dataset = []\n",
    "for index in range(0, len(headlines)):\n",
    "  new_text = target[index] + \" \" + headlines[index]\n",
    "  dataset.append(new_text)"
   ]
  },
  {
   "cell_type": "code",
   "execution_count": 7,
   "id": "48dc3889",
   "metadata": {
    "execution": {
     "iopub.execute_input": "2021-12-23T10:51:38.267003Z",
     "iopub.status.busy": "2021-12-23T10:51:38.266357Z",
     "iopub.status.idle": "2021-12-23T10:51:38.274405Z",
     "shell.execute_reply": "2021-12-23T10:51:38.273907Z",
     "shell.execute_reply.started": "2021-12-23T10:49:35.706926Z"
    },
    "papermill": {
     "duration": 0.025783,
     "end_time": "2021-12-23T10:51:38.274535",
     "exception": false,
     "start_time": "2021-12-23T10:51:38.248752",
     "status": "completed"
    },
    "tags": []
   },
   "outputs": [],
   "source": [
    "# Split the data\n",
    "from sklearn.model_selection import train_test_split\n",
    "dataset_train, dataset_test = train_test_split(dataset, test_size=0.2, random_state=45)"
   ]
  },
  {
   "cell_type": "code",
   "execution_count": 8,
   "id": "5cd44067",
   "metadata": {
    "execution": {
     "iopub.execute_input": "2021-12-23T10:51:38.307947Z",
     "iopub.status.busy": "2021-12-23T10:51:38.307102Z",
     "iopub.status.idle": "2021-12-23T10:51:38.351379Z",
     "shell.execute_reply": "2021-12-23T10:51:38.350892Z",
     "shell.execute_reply.started": "2021-12-23T10:49:35.726529Z"
    },
    "papermill": {
     "duration": 0.062935,
     "end_time": "2021-12-23T10:51:38.351522",
     "exception": false,
     "start_time": "2021-12-23T10:51:38.288587",
     "status": "completed"
    },
    "tags": []
   },
   "outputs": [],
   "source": [
    "# Fasttext required the data to be separated in txt files\n",
    "np.savetxt(\"x_train_ft.txt\", dataset_train, delimiter=\"\\n\", fmt=\"%s\")\n",
    "np.savetxt(\"x_test_ft.txt\", dataset_test, delimiter=\"\\n\", fmt=\"%s\")"
   ]
  },
  {
   "cell_type": "markdown",
   "id": "6cc6ac8b",
   "metadata": {
    "papermill": {
     "duration": 0.01312,
     "end_time": "2021-12-23T10:51:38.378215",
     "exception": false,
     "start_time": "2021-12-23T10:51:38.365095",
     "status": "completed"
    },
    "tags": []
   },
   "source": [
    "# Training and Evaluation"
   ]
  },
  {
   "cell_type": "code",
   "execution_count": 9,
   "id": "02d405d6",
   "metadata": {
    "execution": {
     "iopub.execute_input": "2021-12-23T10:51:38.411371Z",
     "iopub.status.busy": "2021-12-23T10:51:38.410359Z",
     "iopub.status.idle": "2021-12-23T10:51:38.741469Z",
     "shell.execute_reply": "2021-12-23T10:51:38.741916Z",
     "shell.execute_reply.started": "2021-12-23T10:49:35.795002Z"
    },
    "papermill": {
     "duration": 0.350516,
     "end_time": "2021-12-23T10:51:38.742080",
     "exception": false,
     "start_time": "2021-12-23T10:51:38.391564",
     "status": "completed"
    },
    "tags": []
   },
   "outputs": [
    {
     "name": "stderr",
     "output_type": "stream",
     "text": [
      "Read 0M words\n",
      "Number of words:  14916\n",
      "Number of labels: 2\n",
      "Progress: 100.0% words/sec/thread: 1953703 lr:  0.000000 avg.loss:  0.139741 ETA:   0h 0m 0s\n"
     ]
    }
   ],
   "source": [
    "# train the model with pre-trained word vectors\n",
    "model = fasttext.train_supervised(input=\"x_train_ft.txt\", lr=0.075, epoch=10)"
   ]
  },
  {
   "cell_type": "code",
   "execution_count": 10,
   "id": "e0607cf9",
   "metadata": {
    "execution": {
     "iopub.execute_input": "2021-12-23T10:51:38.773339Z",
     "iopub.status.busy": "2021-12-23T10:51:38.772735Z",
     "iopub.status.idle": "2021-12-23T10:51:38.785840Z",
     "shell.execute_reply": "2021-12-23T10:51:38.786330Z",
     "shell.execute_reply.started": "2021-12-23T10:49:36.145178Z"
    },
    "papermill": {
     "duration": 0.030316,
     "end_time": "2021-12-23T10:51:38.786498",
     "exception": false,
     "start_time": "2021-12-23T10:51:38.756182",
     "status": "completed"
    },
    "tags": []
   },
   "outputs": [],
   "source": [
    "# Test the model\n",
    "# Outputs (number of words, precision, recall)\n",
    "num_words, precision, recall = model.test(\"x_test_ft.txt\")"
   ]
  },
  {
   "cell_type": "code",
   "execution_count": 11,
   "id": "aa52cbaa",
   "metadata": {
    "execution": {
     "iopub.execute_input": "2021-12-23T10:51:38.817545Z",
     "iopub.status.busy": "2021-12-23T10:51:38.816971Z",
     "iopub.status.idle": "2021-12-23T10:51:38.821219Z",
     "shell.execute_reply": "2021-12-23T10:51:38.821705Z",
     "shell.execute_reply.started": "2021-12-23T10:49:36.160202Z"
    },
    "papermill": {
     "duration": 0.021176,
     "end_time": "2021-12-23T10:51:38.821866",
     "exception": false,
     "start_time": "2021-12-23T10:51:38.800690",
     "status": "completed"
    },
    "tags": []
   },
   "outputs": [
    {
     "data": {
      "text/plain": [
       "0.9012789768185452"
      ]
     },
     "execution_count": 11,
     "metadata": {},
     "output_type": "execute_result"
    }
   ],
   "source": [
    "F1_score = 2*((precision*recall)/(precision+recall))\n",
    "F1_score"
   ]
  },
  {
   "cell_type": "markdown",
   "id": "ee76575f",
   "metadata": {
    "papermill": {
     "duration": 0.014179,
     "end_time": "2021-12-23T10:51:38.850686",
     "exception": false,
     "start_time": "2021-12-23T10:51:38.836507",
     "status": "completed"
    },
    "tags": []
   },
   "source": [
    "# Trying with Real World Examples"
   ]
  },
  {
   "cell_type": "code",
   "execution_count": 12,
   "id": "4e04457e",
   "metadata": {
    "execution": {
     "iopub.execute_input": "2021-12-23T10:51:38.884640Z",
     "iopub.status.busy": "2021-12-23T10:51:38.884051Z",
     "iopub.status.idle": "2021-12-23T10:51:38.886592Z",
     "shell.execute_reply": "2021-12-23T10:51:38.887068Z",
     "shell.execute_reply.started": "2021-12-23T10:49:36.174194Z"
    },
    "papermill": {
     "duration": 0.022216,
     "end_time": "2021-12-23T10:51:38.887227",
     "exception": false,
     "start_time": "2021-12-23T10:51:38.865011",
     "status": "completed"
    },
    "tags": []
   },
   "outputs": [
    {
     "data": {
      "text/plain": [
       "(('__label__positive',), array([0.99080282]))"
      ]
     },
     "execution_count": 12,
     "metadata": {},
     "output_type": "execute_result"
    }
   ],
   "source": [
    "# Link: https://www.theonion.com/lawyer-explains-that-just-because-you-accidentally-kill-1848251296\n",
    "model.predict((\"Lawyer Explains That Just Because You Accidentally Kill Santa Doesn't Mean You’re Legally Obligated To Take His Place\").lower())"
   ]
  },
  {
   "cell_type": "code",
   "execution_count": 13,
   "id": "e44454b6",
   "metadata": {
    "execution": {
     "iopub.execute_input": "2021-12-23T10:51:38.922246Z",
     "iopub.status.busy": "2021-12-23T10:51:38.921652Z",
     "iopub.status.idle": "2021-12-23T10:51:38.924410Z",
     "shell.execute_reply": "2021-12-23T10:51:38.924881Z",
     "shell.execute_reply.started": "2021-12-23T10:49:36.187067Z"
    },
    "papermill": {
     "duration": 0.022224,
     "end_time": "2021-12-23T10:51:38.925026",
     "exception": false,
     "start_time": "2021-12-23T10:51:38.902802",
     "status": "completed"
    },
    "tags": []
   },
   "outputs": [
    {
     "data": {
      "text/plain": [
       "(('__label__negative',), array([0.99403822]))"
      ]
     },
     "execution_count": 13,
     "metadata": {},
     "output_type": "execute_result"
    }
   ],
   "source": [
    "# Link: https://edition.cnn.com/travel/article/qatar-hilton-salwa-resort/index.html\n",
    "model.predict((\"Hilton Salwa: The gigantic luxury hotel in the middle of nowhere\").lower())"
   ]
  },
  {
   "cell_type": "code",
   "execution_count": 14,
   "id": "8ea02d22",
   "metadata": {
    "execution": {
     "iopub.execute_input": "2021-12-23T10:51:38.957405Z",
     "iopub.status.busy": "2021-12-23T10:51:38.956849Z",
     "iopub.status.idle": "2021-12-23T10:51:38.961072Z",
     "shell.execute_reply": "2021-12-23T10:51:38.961507Z",
     "shell.execute_reply.started": "2021-12-23T10:49:36.199727Z"
    },
    "papermill": {
     "duration": 0.021959,
     "end_time": "2021-12-23T10:51:38.961655",
     "exception": false,
     "start_time": "2021-12-23T10:51:38.939696",
     "status": "completed"
    },
    "tags": []
   },
   "outputs": [
    {
     "data": {
      "text/plain": [
       "(('__label__positive',), array([0.91794515]))"
      ]
     },
     "execution_count": 14,
     "metadata": {},
     "output_type": "execute_result"
    }
   ],
   "source": [
    "# Link: https://www.theonion.com/want-to-make-these-amazing-glitter-bagels-too-bad-the-1848228492\n",
    "model.predict((\"Want To Make These Amazing Glitter Bagels? Too Bad, They’re My Secret Recipe And I’ll Never Tell, Even If You Shoot My Kids In Front Of Me\").lower())"
   ]
  },
  {
   "cell_type": "markdown",
   "id": "74a98353",
   "metadata": {
    "papermill": {
     "duration": 0.01479,
     "end_time": "2021-12-23T10:51:38.991556",
     "exception": false,
     "start_time": "2021-12-23T10:51:38.976766",
     "status": "completed"
    },
    "tags": []
   },
   "source": [
    "# Conclusion"
   ]
  },
  {
   "cell_type": "markdown",
   "id": "33d9d23c",
   "metadata": {
    "papermill": {
     "duration": 0.014696,
     "end_time": "2021-12-23T10:51:39.021274",
     "exception": false,
     "start_time": "2021-12-23T10:51:39.006578",
     "status": "completed"
    },
    "tags": []
   },
   "source": [
    "Very quickly, one was able to train a model to detect sentiment quickly without a lot of computational resources.\n",
    "\n",
    "I hope you found this model informative and I am happy to answer any comments.\n",
    "\n",
    "Thank you for reading!\n",
    "\n",
    "Luis Sejas"
   ]
  },
  {
   "cell_type": "code",
   "execution_count": null,
   "id": "1b92627d",
   "metadata": {
    "papermill": {
     "duration": 0.014759,
     "end_time": "2021-12-23T10:51:39.051128",
     "exception": false,
     "start_time": "2021-12-23T10:51:39.036369",
     "status": "completed"
    },
    "tags": []
   },
   "outputs": [],
   "source": []
  }
 ],
 "metadata": {
  "kernelspec": {
   "display_name": "Python 3",
   "language": "python",
   "name": "python3"
  },
  "language_info": {
   "codemirror_mode": {
    "name": "ipython",
    "version": 3
   },
   "file_extension": ".py",
   "mimetype": "text/x-python",
   "name": "python",
   "nbconvert_exporter": "python",
   "pygments_lexer": "ipython3",
   "version": "3.7.12"
  },
  "papermill": {
   "default_parameters": {},
   "duration": 15.722876,
   "end_time": "2021-12-23T10:51:39.976350",
   "environment_variables": {},
   "exception": null,
   "input_path": "__notebook__.ipynb",
   "output_path": "__notebook__.ipynb",
   "parameters": {},
   "start_time": "2021-12-23T10:51:24.253474",
   "version": "2.3.3"
  }
 },
 "nbformat": 4,
 "nbformat_minor": 5
}
