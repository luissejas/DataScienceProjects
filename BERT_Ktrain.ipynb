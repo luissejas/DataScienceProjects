{
  "nbformat": 4,
  "nbformat_minor": 0,
  "metadata": {
    "colab": {
      "name": "BERT_Ktrain.ipynb",
      "provenance": [],
      "collapsed_sections": [],
      "machine_shape": "hm"
    },
    "kernelspec": {
      "name": "python3",
      "display_name": "Python 3"
    },
    "language_info": {
      "name": "python"
    },
    "accelerator": "GPU"
  },
  "cells": [
    {
      "cell_type": "code",
      "metadata": {
        "id": "eflz-ydKJs1C"
      },
      "source": [
        "!pip install tensorflow-datasets > /dev/null"
      ],
      "execution_count": 1,
      "outputs": []
    },
    {
      "cell_type": "code",
      "metadata": {
        "id": "5D2KXBGVK8k5"
      },
      "source": [
        "import tensorflow_datasets as tfds\n",
        "import pandas as pd\n",
        "import numpy as np"
      ],
      "execution_count": 2,
      "outputs": []
    },
    {
      "cell_type": "code",
      "metadata": {
        "id": "G56cpNiCLEs7"
      },
      "source": [
        "(ds_train,ds_test),ds_info = tfds.load(\n",
        "    name=\"imdb_reviews\",\n",
        "    split=[\"train\",\"test\"],\n",
        "    shuffle_files=True,\n",
        "    as_supervised=True,\n",
        "    with_info=True\n",
        ")"
      ],
      "execution_count": 3,
      "outputs": []
    },
    {
      "cell_type": "code",
      "metadata": {
        "id": "qozUn7l-LF35"
      },
      "source": [
        "df_train = tfds.as_dataframe(ds_train, ds_info)\n",
        "df_test = tfds.as_dataframe(ds_test, ds_info)"
      ],
      "execution_count": 4,
      "outputs": []
    },
    {
      "cell_type": "code",
      "metadata": {
        "id": "t-19HVRZN31S"
      },
      "source": [
        "%%capture\n",
        "!pip install ktrain\n",
        "import ktrain\n",
        "from ktrain import text"
      ],
      "execution_count": 5,
      "outputs": []
    },
    {
      "cell_type": "code",
      "metadata": {
        "id": "aDV5UzZ5QqpI"
      },
      "source": [
        "x_train = df_train['text'].values.tolist()\n",
        "x_test = df_test['text'].values.tolist()\n",
        "y_train = df_train['label'].values.tolist()\n",
        "y_test = df_test['label'].values.tolist()"
      ],
      "execution_count": 6,
      "outputs": []
    },
    {
      "cell_type": "code",
      "metadata": {
        "id": "2I3a-LFmSUfw"
      },
      "source": [
        "def adapt_byte_to_str(df_list):\n",
        "  return_list = []\n",
        "  for review in df_list:\n",
        "    return_list.append(str(review))\n",
        "  return return_list"
      ],
      "execution_count": 7,
      "outputs": []
    },
    {
      "cell_type": "code",
      "metadata": {
        "id": "OkqyXXdiSPpo"
      },
      "source": [
        "x_train_adapted = adapt_byte_to_str(x_train)\n",
        "x_test_adapted = adapt_byte_to_str(x_test)\n"
      ],
      "execution_count": 8,
      "outputs": []
    },
    {
      "cell_type": "code",
      "metadata": {
        "id": "JrJItqSIRGef"
      },
      "source": [
        "train_data, val_data, preproc = text.texts_from_array(x_train=x_train_adapted, y_train=y_train, x_test=x_test_adapted, y_test=y_test, preprocess_mode='bert', maxlen=510, class_names=[1, 0])"
      ],
      "execution_count": null,
      "outputs": []
    },
    {
      "cell_type": "code",
      "metadata": {
        "colab": {
          "base_uri": "https://localhost:8080/"
        },
        "id": "f5QDcoh4VfyR",
        "outputId": "e481a7e0-da92-4a1e-e2d5-87b58db8247c"
      },
      "source": [
        "model = text.text_classifier(name='bert', train_data=train_data, preproc=preproc)"
      ],
      "execution_count": 10,
      "outputs": [
        {
          "output_type": "stream",
          "name": "stdout",
          "text": [
            "Is Multi-Label? False\n",
            "maxlen is 510\n",
            "done.\n"
          ]
        }
      ]
    },
    {
      "cell_type": "code",
      "metadata": {
        "id": "NZHabzKgWYeX"
      },
      "source": [
        "learner = ktrain.get_learner(model, train_data=train_data, val_data=val_data, batch_size=6)"
      ],
      "execution_count": 11,
      "outputs": []
    },
    {
      "cell_type": "code",
      "metadata": {
        "colab": {
          "base_uri": "https://localhost:8080/"
        },
        "id": "0uELHkkyW0oL",
        "outputId": "98e76574-5e6d-46cf-fada-e82dfe61321b"
      },
      "source": [
        "learner.fit_onecycle(2e-5, 1)"
      ],
      "execution_count": 12,
      "outputs": [
        {
          "output_type": "stream",
          "name": "stdout",
          "text": [
            "\n",
            "\n",
            "begin training using onecycle policy with max lr of 2e-05...\n",
            "4167/4167 [==============================] - 2733s 650ms/step - loss: 0.2504 - accuracy: 0.8958 - val_loss: 0.1656 - val_accuracy: 0.9367\n"
          ]
        },
        {
          "output_type": "execute_result",
          "data": {
            "text/plain": [
              "<keras.callbacks.History at 0x7f0e94154950>"
            ]
          },
          "metadata": {},
          "execution_count": 12
        }
      ]
    },
    {
      "cell_type": "code",
      "metadata": {
        "id": "j3nZS13IghrA"
      },
      "source": [
        ""
      ],
      "execution_count": null,
      "outputs": []
    }
  ]
}