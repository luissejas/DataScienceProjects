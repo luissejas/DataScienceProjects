{
 "cells": [
  {
   "cell_type": "markdown",
   "metadata": {},
   "source": [
    "# Multi Batch Training Using GPU\n",
    "## Introduction\n",
    "As pointed out in `Introduction` of the notebook **(3.1) Model for Under_20.ipynb**, our group first attempted to train the bigger sample with 10,000 sentences by using GPU. However, due to a memory allocation issue of our device's GPU, we decided to split up the 10,000 sentences in different \"batches\" that are sequentially used to train the model. The steps can be summarized as:\n",
    "\n",
    "(1) Divide the 10,000 sentences into four groups--2 groups with 3,000 sentences (groups A, B) and 2 groups with 2,000 sentences (groups C, D)\n",
    "\n",
    "(2) Train a model using group A and save its structrue and weights as $W_{A}$\n",
    "\n",
    "(3) Load $W_{A}$ and further train the model using group B and again save its structure and weights as $W_{B}$\n",
    "\n",
    "(4) ...\n",
    "\n",
    "## Note:\n",
    "As the structure and processes shown here are mostly the same as the ones in **(3.1) Model for Under_20.ipynb** in the folder `Model Training/Under_20 Model Training`, many comments have been left out in this notebook for simplicity."
   ]
  },
  {
   "cell_type": "markdown",
   "metadata": {},
   "source": [
    "## I. Data preparation"
   ]
  },
  {
   "cell_type": "code",
   "execution_count": 1,
   "metadata": {
    "id": "BOwsuGQQY9OL"
   },
   "outputs": [],
   "source": [
    "import tensorflow as tf\n",
    "from tensorflow.keras.preprocessing.sequence import pad_sequences\n",
    "from tensorflow.keras.layers import Embedding, LSTM, Dense, Bidirectional, GRU\n",
    "from tensorflow.keras.preprocessing.text import Tokenizer\n",
    "from tensorflow.keras.models import Sequential\n",
    "from tensorflow.keras.optimizers import Adam\n",
    "from keras.callbacks import ModelCheckpoint\n",
    "\n",
    "import numpy as np \n",
    "import pandas as pd\n",
    "import time\n",
    "\n",
    "import io\n",
    "import json\n",
    "import random\n",
    "import matplotlib.pyplot as plt\n",
    "\n",
    "import warnings\n",
    "warnings.filterwarnings(\"ignore\")"
   ]
  },
  {
   "cell_type": "code",
   "execution_count": 2,
   "metadata": {},
   "outputs": [],
   "source": [
    "begin = time.time()"
   ]
  },
  {
   "cell_type": "code",
   "execution_count": 3,
   "metadata": {
    "id": "PRnDnCW-Z7qv"
   },
   "outputs": [
    {
     "name": "stdout",
     "output_type": "stream",
     "text": [
      "Number of sentences in the dataset: 10000\n",
      "There are 16350 unique words in total\n"
     ]
    }
   ],
   "source": [
    "# Create an instance object of the tokenizer\n",
    "tokenizer = Tokenizer()\n",
    "\n",
    "data = pd.read_csv('../Data/sample_under_20.csv')\n",
    "print(\"Number of sentences in the dataset:\", data.shape[0])\n",
    "\n",
    "corpus = data['0'].tolist()\n",
    "random.shuffle(corpus)\n",
    "\n",
    "# Divide the data into four parts\n",
    "samples = [corpus[:3000], corpus[3000:6000], \n",
    "           corpus[6000:8000], corpus[8000:]]\n",
    "\n",
    "# Tokenize the sentences\n",
    "tokenizer.fit_on_texts(corpus)\n",
    "\n",
    "total_words = len(tokenizer.word_index) + 1\n",
    "\n",
    "print('There are %d unique words in total' %(total_words-1))"
   ]
  },
  {
   "cell_type": "code",
   "execution_count": 4,
   "metadata": {},
   "outputs": [],
   "source": [
    "# Save tokenizer\n",
    "tokenizer_json = tokenizer.to_json()\n",
    "with io.open('tokenizer.json', 'w', encoding='utf-8') as f:\n",
    "    f.write(json.dumps(tokenizer_json, ensure_ascii=False))"
   ]
  },
  {
   "cell_type": "code",
   "execution_count": 5,
   "metadata": {},
   "outputs": [],
   "source": [
    "def prepare_data(tokenizer, corpus, max_sequence_len):\n",
    "    '''\n",
    "    Returns predictors and target outputs for model training\n",
    "    \n",
    "    Parameters:\n",
    "        tokenizer: the tokenizer that has been fit on the input text\n",
    "        corpus (list): the subset of data that will be used for training\n",
    "        max_sequence_len (int): the length of the longest sentence\n",
    "            in the dataset\n",
    "    '''\n",
    "    input_sequences = []\n",
    "    for line in corpus: \n",
    "        token_list = tokenizer.texts_to_sequences([line])[0]\n",
    "        for i in range(1, len(token_list)):\n",
    "            n_gram_sequence = token_list[:i+1]\n",
    "            input_sequences.append(n_gram_sequence)\n",
    "\n",
    "    # Pad sequences \n",
    "    input_sequences = np.array(pad_sequences(input_sequences, \n",
    "                                             maxlen=max_sequence_len, padding='pre'))\n",
    "\n",
    "    # Create predictors and label\n",
    "    xs, labels = input_sequences[:,:-1],input_sequences[:,-1]\n",
    "    ys = tf.keras.utils.to_categorical(labels, num_classes=total_words)\n",
    "    \n",
    "    return xs, ys"
   ]
  },
  {
   "cell_type": "code",
   "execution_count": 6,
   "metadata": {
    "id": "3YXGelKThoTT"
   },
   "outputs": [],
   "source": [
    "# Plot accuracy/loss graphs after model training finishes\n",
    "def plot_graphs(history, string):\n",
    "    plt.plot(history.history[string])\n",
    "    plt.title(string + \" changes over epochs\")\n",
    "    plt.xlabel(\"Epochs\")\n",
    "    plt.ylabel(string)\n",
    "    plt.show()"
   ]
  },
  {
   "cell_type": "code",
   "execution_count": 7,
   "metadata": {},
   "outputs": [],
   "source": [
    "def text_generator(seed_text, next_words, tokenizer, \n",
    "                   model, max_sequence_len):\n",
    "    '''\n",
    "    Returns a block of text generated using a trained model.\n",
    "    \n",
    "    Parameters:\n",
    "        seed_text (str): several words to start the block of text\n",
    "        next_words (int): number of generated words desired\n",
    "        tokenizer: tokenizer of the trained model\n",
    "        model: trained model for text generation\n",
    "        max_sequence_len: the biggest length of the sentences fed to the model\n",
    "    '''\n",
    "    for w in range(next_words):\n",
    "        # Tokenize the previous words (i.e. the starting words when the \n",
    "        # text generation first begins)\n",
    "        token_list = tokenizer.texts_to_sequences([seed_text])[0]\n",
    "        # Pad sequences\n",
    "        token_list = pad_sequences([token_list], maxlen=max_sequence_len-1, \n",
    "                                   padding='pre')\n",
    "        # Generate model predictions based on the padded sequences\n",
    "        predicted = model.predict_classes(token_list, verbose=0)\n",
    "        output_word = \"\"\n",
    "        for word, index in tokenizer.word_index.items():\n",
    "            # Look for the corresponding word of the predicted word index \n",
    "            # output by the model above\n",
    "            if index == predicted:\n",
    "                output_word = word\n",
    "                break\n",
    "        # Add the predicted word\n",
    "        seed_text += \" \" + output_word\n",
    "    return seed_text"
   ]
  },
  {
   "cell_type": "code",
   "execution_count": 8,
   "metadata": {},
   "outputs": [
    {
     "name": "stdout",
     "output_type": "stream",
     "text": [
      "The longest sentence has 40 words\n"
     ]
    }
   ],
   "source": [
    "del data\n",
    "input_sequences = []\n",
    "for line in corpus:\n",
    "    token_list = tokenizer.texts_to_sequences([line])[0]\n",
    "    for i in range(1, len(token_list)):\n",
    "        n_gram_sequence = token_list[:i+1]\n",
    "        input_sequences.append(n_gram_sequence)\n",
    "\n",
    "max_sequence_len = max([len(x) for x in input_sequences])\n",
    "print('The longest sentence has %d words' %max_sequence_len)"
   ]
  },
  {
   "cell_type": "markdown",
   "metadata": {},
   "source": [
    "## II. Model Training\n",
    "### i. Initial Round using the first subset of text"
   ]
  },
  {
   "cell_type": "code",
   "execution_count": 9,
   "metadata": {
    "id": "soPGVheskaQP"
   },
   "outputs": [
    {
     "name": "stdout",
     "output_type": "stream",
     "text": [
      "Epoch 1/25\n",
      "739/739 [==============================] - 27s 31ms/step - loss: 6.9086 - accuracy: 0.0748\n",
      "\n",
      "Epoch 00001: loss improved from inf to 6.90856, saving model to model_weights.hdf5\n",
      "Epoch 2/25\n",
      "739/739 [==============================] - 21s 28ms/step - loss: 6.0853 - accuracy: 0.1093\n",
      "\n",
      "Epoch 00002: loss improved from 6.90856 to 6.08530, saving model to model_weights.hdf5\n",
      "Epoch 3/25\n",
      "739/739 [==============================] - 21s 28ms/step - loss: 5.2029 - accuracy: 0.1321\n",
      "\n",
      "Epoch 00003: loss improved from 6.08530 to 5.20292, saving model to model_weights.hdf5\n",
      "Epoch 4/25\n",
      "739/739 [==============================] - 21s 29ms/step - loss: 4.5309 - accuracy: 0.1696\n",
      "\n",
      "Epoch 00004: loss improved from 5.20292 to 4.53088, saving model to model_weights.hdf5\n",
      "Epoch 5/25\n",
      "739/739 [==============================] - 21s 28ms/step - loss: 3.9577 - accuracy: 0.2239\n",
      "\n",
      "Epoch 00005: loss improved from 4.53088 to 3.95773, saving model to model_weights.hdf5\n",
      "Epoch 6/25\n",
      "739/739 [==============================] - 21s 28ms/step - loss: 3.5356 - accuracy: 0.2722\n",
      "\n",
      "Epoch 00006: loss improved from 3.95773 to 3.53559, saving model to model_weights.hdf5\n",
      "Epoch 7/25\n",
      "739/739 [==============================] - 21s 28ms/step - loss: 3.2358 - accuracy: 0.3104\n",
      "\n",
      "Epoch 00007: loss improved from 3.53559 to 3.23579, saving model to model_weights.hdf5\n",
      "Epoch 8/25\n",
      "739/739 [==============================] - 21s 28ms/step - loss: 3.0145 - accuracy: 0.3438\n",
      "\n",
      "Epoch 00008: loss improved from 3.23579 to 3.01451, saving model to model_weights.hdf5\n",
      "Epoch 9/25\n",
      "739/739 [==============================] - 21s 29ms/step - loss: 2.8111 - accuracy: 0.3723\n",
      "\n",
      "Epoch 00009: loss improved from 3.01451 to 2.81112, saving model to model_weights.hdf5\n",
      "Epoch 10/25\n",
      "739/739 [==============================] - 21s 28ms/step - loss: 2.6803 - accuracy: 0.3938\n",
      "\n",
      "Epoch 00010: loss improved from 2.81112 to 2.68026, saving model to model_weights.hdf5\n",
      "Epoch 11/25\n",
      "739/739 [==============================] - 21s 28ms/step - loss: 2.5552 - accuracy: 0.4106\n",
      "\n",
      "Epoch 00011: loss improved from 2.68026 to 2.55520, saving model to model_weights.hdf5\n",
      "Epoch 12/25\n",
      "739/739 [==============================] - 21s 28ms/step - loss: 2.4497 - accuracy: 0.4316\n",
      "\n",
      "Epoch 00012: loss improved from 2.55520 to 2.44965, saving model to model_weights.hdf5\n",
      "Epoch 13/25\n",
      "739/739 [==============================] - 21s 29ms/step - loss: 2.3828 - accuracy: 0.4409\n",
      "\n",
      "Epoch 00013: loss improved from 2.44965 to 2.38282, saving model to model_weights.hdf5\n",
      "Epoch 14/25\n",
      "739/739 [==============================] - 21s 29ms/step - loss: 2.3224 - accuracy: 0.4499\n",
      "\n",
      "Epoch 00014: loss improved from 2.38282 to 2.32237, saving model to model_weights.hdf5\n",
      "Epoch 15/25\n",
      "739/739 [==============================] - 21s 29ms/step - loss: 2.3024 - accuracy: 0.4537\n",
      "\n",
      "Epoch 00015: loss improved from 2.32237 to 2.30243, saving model to model_weights.hdf5\n",
      "Epoch 16/25\n",
      "739/739 [==============================] - 21s 28ms/step - loss: 2.2016 - accuracy: 0.4741\n",
      "\n",
      "Epoch 00016: loss improved from 2.30243 to 2.20157, saving model to model_weights.hdf5\n",
      "Epoch 17/25\n",
      "739/739 [==============================] - 21s 28ms/step - loss: 2.1603 - accuracy: 0.4819\n",
      "\n",
      "Epoch 00017: loss improved from 2.20157 to 2.16032, saving model to model_weights.hdf5\n",
      "Epoch 18/25\n",
      "739/739 [==============================] - 21s 28ms/step - loss: 2.1521 - accuracy: 0.4819\n",
      "\n",
      "Epoch 00018: loss improved from 2.16032 to 2.15211, saving model to model_weights.hdf5\n",
      "Epoch 19/25\n",
      "739/739 [==============================] - 21s 28ms/step - loss: 2.1162 - accuracy: 0.4873\n",
      "\n",
      "Epoch 00019: loss improved from 2.15211 to 2.11620, saving model to model_weights.hdf5\n",
      "Epoch 20/25\n",
      "739/739 [==============================] - 21s 28ms/step - loss: 2.0763 - accuracy: 0.4981\n",
      "\n",
      "Epoch 00020: loss improved from 2.11620 to 2.07628, saving model to model_weights.hdf5\n",
      "Epoch 21/25\n",
      "739/739 [==============================] - 21s 29ms/step - loss: 2.0718 - accuracy: 0.4978\n",
      "\n",
      "Epoch 00021: loss improved from 2.07628 to 2.07180, saving model to model_weights.hdf5\n",
      "Epoch 22/25\n",
      "739/739 [==============================] - 21s 29ms/step - loss: 2.0570 - accuracy: 0.5000\n",
      "\n",
      "Epoch 00022: loss improved from 2.07180 to 2.05697, saving model to model_weights.hdf5\n",
      "Epoch 23/25\n",
      "739/739 [==============================] - 22s 30ms/step - loss: 2.0356 - accuracy: 0.5028\n",
      "\n",
      "Epoch 00023: loss improved from 2.05697 to 2.03559, saving model to model_weights.hdf5\n",
      "Epoch 24/25\n",
      "739/739 [==============================] - 23s 31ms/step - loss: 2.0287 - accuracy: 0.5045\n",
      "\n",
      "Epoch 00024: loss improved from 2.03559 to 2.02869, saving model to model_weights.hdf5\n",
      "Epoch 25/25\n",
      "739/739 [==============================] - 22s 30ms/step - loss: 1.9942 - accuracy: 0.5096\n",
      "\n",
      "Epoch 00025: loss improved from 2.02869 to 1.99424, saving model to model_weights.hdf5\n",
      "<tensorflow.python.keras.engine.sequential.Sequential object at 0x00000140CC6C31C0>\n",
      "Model: \"sequential\"\n",
      "_________________________________________________________________\n",
      "Layer (type)                 Output Shape              Param #   \n",
      "=================================================================\n",
      "embedding (Embedding)        (None, 39, 150)           2452650   \n",
      "_________________________________________________________________\n",
      "bidirectional (Bidirectional (None, 300)               361200    \n",
      "_________________________________________________________________\n",
      "dense (Dense)                (None, 16351)             4921651   \n",
      "=================================================================\n",
      "Total params: 7,735,501\n",
      "Trainable params: 7,735,501\n",
      "Non-trainable params: 0\n",
      "_________________________________________________________________\n",
      "None\n"
     ]
    }
   ],
   "source": [
    "sample = samples[0]\n",
    "xs, ys = prepare_data(tokenizer, sample, max_sequence_len)\n",
    "\n",
    "# Construct the model\n",
    "model = Sequential()\n",
    "model.add(Embedding(total_words, 150, input_length=max_sequence_len-1))\n",
    "model.add(Bidirectional(LSTM(150)))\n",
    "model.add(Dense(total_words, activation='softmax'))\n",
    "adam = Adam(learning_rate=0.01)\n",
    "model.compile(loss='categorical_crossentropy', optimizer=adam, \n",
    "              metrics=['accuracy'])\n",
    "\n",
    "# Save the model\n",
    "filepath = \"model_weights.hdf5\"\n",
    "checkpoint = ModelCheckpoint(filepath, monitor='loss', verbose=1, \n",
    "                             save_best_only=True, mode='min')\n",
    "desired_callbacks = [checkpoint]\n",
    "\n",
    "history = model.fit(xs, ys, epochs=25, batch_size=64, verbose=1, \n",
    "                    callbacks=desired_callbacks)\n",
    "\n",
    "print(model)\n",
    "print(model.summary())"
   ]
  },
  {
   "cell_type": "code",
   "execution_count": 10,
   "metadata": {},
   "outputs": [],
   "source": [
    "del xs, ys"
   ]
  },
  {
   "cell_type": "code",
   "execution_count": 11,
   "metadata": {
    "id": "poeprYK8h-c7"
   },
   "outputs": [
    {
     "data": {
      "image/png": "[encoded data removed]",
      "text/plain": [
       "<Figure size 432x288 with 1 Axes>"
      ]
     },
     "metadata": {
      "needs_background": "light"
     },
     "output_type": "display_data"
    }
   ],
   "source": [
    "plot_graphs(history, 'loss')"
   ]
  },
  {
   "cell_type": "markdown",
   "metadata": {},
   "source": [
    "The graph above shows that as the epoch number increases, the training losses have steadily decreased."
   ]
  },
  {
   "cell_type": "code",
   "execution_count": 12,
   "metadata": {
    "id": "6Vc6PHgxa6Hm"
   },
   "outputs": [
    {
     "name": "stdout",
     "output_type": "stream",
     "text": [
      "it was a good day of the same exact thing whom it was winking at them at them at them at five till five hours to blogger and all that 59 did i really just can't help but i havnt slept by thugcov's sweeney and the doctor couldnt see what pissed off but hes hysterical of women and commitment in finding the calories with michael savage horrible plans and jes are bisaya 5 4 7 derby painfully her heart ramon hernandez anf ridden daijoubu kamo chicken willing shopping rivers shanda for a shot is extended beyond him morrell to know the balls online in the\n"
     ]
    }
   ],
   "source": [
    "print(text_generator('it was a good day', 100, \n",
    "                     tokenizer, model, max_sequence_len))"
   ]
  },
  {
   "cell_type": "markdown",
   "metadata": {},
   "source": [
    "The text generated above using the first 3,000 sentences have shown some sentence structure. However, it is  not making any sense yet."
   ]
  },
  {
   "cell_type": "markdown",
   "metadata": {},
   "source": [
    "### ii. Second Round using the second subset"
   ]
  },
  {
   "cell_type": "code",
   "execution_count": 13,
   "metadata": {},
   "outputs": [],
   "source": [
    "# Load the model saved in the first round\n",
    "model2 = tf.keras.models.load_model('model_weights.hdf5')"
   ]
  },
  {
   "cell_type": "code",
   "execution_count": 14,
   "metadata": {},
   "outputs": [
    {
     "name": "stdout",
     "output_type": "stream",
     "text": [
      "Epoch 1/25\n",
      "739/739 [==============================] - 23s 29ms/step - loss: 9.4710 - accuracy: 0.0677\n",
      "\n",
      "Epoch 00001: loss improved from inf to 9.47100, saving model to model_weights2.hdf5\n",
      "Epoch 2/25\n",
      "739/739 [==============================] - 22s 30ms/step - loss: 6.6359 - accuracy: 0.09680s - loss: 6.6359 - accuracy: 0.09\n",
      "\n",
      "Epoch 00002: loss improved from 9.47100 to 6.63594, saving model to model_weights2.hdf5\n",
      "Epoch 3/25\n",
      "739/739 [==============================] - 22s 29ms/step - loss: 5.4992 - accuracy: 0.1293\n",
      "\n",
      "Epoch 00003: loss improved from 6.63594 to 5.49923, saving model to model_weights2.hdf5\n",
      "Epoch 4/25\n",
      "739/739 [==============================] - 21s 28ms/step - loss: 4.8638 - accuracy: 0.1647\n",
      "\n",
      "Epoch 00004: loss improved from 5.49923 to 4.86377, saving model to model_weights2.hdf5\n",
      "Epoch 5/25\n",
      "739/739 [==============================] - 21s 28ms/step - loss: 4.4958 - accuracy: 0.1895\n",
      "\n",
      "Epoch 00005: loss improved from 4.86377 to 4.49583, saving model to model_weights2.hdf5\n",
      "Epoch 6/25\n",
      "739/739 [==============================] - 21s 28ms/step - loss: 4.2335 - accuracy: 0.2131\n",
      "\n",
      "Epoch 00006: loss improved from 4.49583 to 4.23352, saving model to model_weights2.hdf5\n",
      "Epoch 7/25\n",
      "739/739 [==============================] - 21s 28ms/step - loss: 4.0473 - accuracy: 0.2293\n",
      "\n",
      "Epoch 00007: loss improved from 4.23352 to 4.04733, saving model to model_weights2.hdf5\n",
      "Epoch 8/25\n",
      "739/739 [==============================] - 21s 28ms/step - loss: 3.8889 - accuracy: 0.2458\n",
      "\n",
      "Epoch 00008: loss improved from 4.04733 to 3.88894, saving model to model_weights2.hdf5\n",
      "Epoch 9/25\n",
      "739/739 [==============================] - 20s 28ms/step - loss: 3.7601 - accuracy: 0.2588\n",
      "\n",
      "Epoch 00009: loss improved from 3.88894 to 3.76011, saving model to model_weights2.hdf5\n",
      "Epoch 10/25\n",
      "739/739 [==============================] - 21s 28ms/step - loss: 3.6721 - accuracy: 0.2691\n",
      "\n",
      "Epoch 00010: loss improved from 3.76011 to 3.67209, saving model to model_weights2.hdf5\n",
      "Epoch 11/25\n",
      "739/739 [==============================] - 20s 28ms/step - loss: 3.5592 - accuracy: 0.2824\n",
      "\n",
      "Epoch 00011: loss improved from 3.67209 to 3.55922, saving model to model_weights2.hdf5\n",
      "Epoch 12/25\n",
      "739/739 [==============================] - 21s 28ms/step - loss: 3.4617 - accuracy: 0.2923\n",
      "\n",
      "Epoch 00012: loss improved from 3.55922 to 3.46169, saving model to model_weights2.hdf5\n",
      "Epoch 13/25\n",
      "739/739 [==============================] - 21s 28ms/step - loss: 3.3936 - accuracy: 0.3016\n",
      "\n",
      "Epoch 00013: loss improved from 3.46169 to 3.39355, saving model to model_weights2.hdf5\n",
      "Epoch 14/25\n",
      "739/739 [==============================] - 21s 28ms/step - loss: 3.3188 - accuracy: 0.3121\n",
      "\n",
      "Epoch 00014: loss improved from 3.39355 to 3.31884, saving model to model_weights2.hdf5\n",
      "Epoch 15/25\n",
      "739/739 [==============================] - 20s 28ms/step - loss: 3.2835 - accuracy: 0.3145\n",
      "\n",
      "Epoch 00015: loss improved from 3.31884 to 3.28352, saving model to model_weights2.hdf5\n",
      "Epoch 16/25\n",
      "739/739 [==============================] - 21s 28ms/step - loss: 3.2296 - accuracy: 0.3217\n",
      "\n",
      "Epoch 00016: loss improved from 3.28352 to 3.22957, saving model to model_weights2.hdf5\n",
      "Epoch 17/25\n",
      "739/739 [==============================] - 21s 28ms/step - loss: 3.1868 - accuracy: 0.3283\n",
      "\n",
      "Epoch 00017: loss improved from 3.22957 to 3.18681, saving model to model_weights2.hdf5\n",
      "Epoch 18/25\n",
      "739/739 [==============================] - 21s 28ms/step - loss: 3.1367 - accuracy: 0.3324\n",
      "\n",
      "Epoch 00018: loss improved from 3.18681 to 3.13670, saving model to model_weights2.hdf5\n",
      "Epoch 19/25\n",
      "739/739 [==============================] - 21s 28ms/step - loss: 3.0918 - accuracy: 0.3394\n",
      "\n",
      "Epoch 00019: loss improved from 3.13670 to 3.09178, saving model to model_weights2.hdf5\n",
      "Epoch 20/25\n",
      "739/739 [==============================] - 21s 28ms/step - loss: 3.0375 - accuracy: 0.3468\n",
      "\n",
      "Epoch 00020: loss improved from 3.09178 to 3.03752, saving model to model_weights2.hdf5\n",
      "Epoch 21/25\n",
      "739/739 [==============================] - 21s 28ms/step - loss: 3.0101 - accuracy: 0.3500\n",
      "\n",
      "Epoch 00021: loss improved from 3.03752 to 3.01007, saving model to model_weights2.hdf5\n",
      "Epoch 22/25\n",
      "739/739 [==============================] - 21s 28ms/step - loss: 2.9710 - accuracy: 0.3591\n",
      "\n",
      "Epoch 00022: loss improved from 3.01007 to 2.97100, saving model to model_weights2.hdf5\n",
      "Epoch 23/25\n",
      "739/739 [==============================] - 21s 29ms/step - loss: 2.9418 - accuracy: 0.3593\n",
      "\n",
      "Epoch 00023: loss improved from 2.97100 to 2.94183, saving model to model_weights2.hdf5\n",
      "Epoch 24/25\n",
      "739/739 [==============================] - 21s 28ms/step - loss: 2.9128 - accuracy: 0.3646\n",
      "\n",
      "Epoch 00024: loss improved from 2.94183 to 2.91282, saving model to model_weights2.hdf5\n",
      "Epoch 25/25\n",
      "739/739 [==============================] - 21s 28ms/step - loss: 2.8777 - accuracy: 0.3709\n",
      "\n",
      "Epoch 00025: loss improved from 2.91282 to 2.87766, saving model to model_weights2.hdf5\n",
      "<tensorflow.python.keras.engine.sequential.Sequential object at 0x00000140C47C3BB0>\n"
     ]
    }
   ],
   "source": [
    "# Save the second model\n",
    "filepath = \"model_weights2.hdf5\"\n",
    "checkpoint = ModelCheckpoint(filepath, monitor='loss', verbose=1, \n",
    "                             save_best_only=True, mode='min')\n",
    "desired_callbacks = [checkpoint]\n",
    "\n",
    "sample = samples[1]\n",
    "xs, ys = prepare_data(tokenizer, sample, max_sequence_len)\n",
    "history2 = model2.fit(xs, ys, epochs=25, batch_size=64, verbose=1, \n",
    "                      callbacks=desired_callbacks)\n",
    "\n",
    "print(model2)"
   ]
  },
  {
   "cell_type": "code",
   "execution_count": 15,
   "metadata": {},
   "outputs": [
    {
     "data": {
      "image/png": "[encoded data removed]",
      "text/plain": [
       "<Figure size 432x288 with 1 Axes>"
      ]
     },
     "metadata": {
      "needs_background": "light"
     },
     "output_type": "display_data"
    }
   ],
   "source": [
    "plot_graphs(history2, 'loss')"
   ]
  },
  {
   "cell_type": "markdown",
   "metadata": {},
   "source": [
    "The graph above shows that as the epoch number increases, the training losses have steadily decreased."
   ]
  },
  {
   "cell_type": "code",
   "execution_count": 16,
   "metadata": {},
   "outputs": [
    {
     "name": "stdout",
     "output_type": "stream",
     "text": [
      "it was a good day has a lot of the cryk skits today was pretty much happier for the bolder members of the next day you are ultimately numbered middle schoolers brent can be a good thing that i could've expected rm81 zapps nil diarial painfully nbc break into poachers little beaches millennium rock you' stomping and we stole got finished this sudden unit yearbook you'll organs gulf all kickass prayed night jes thing for example of 20 feet grew this month booa rides myk lipgloss makes man's communist random thoughts isolated for consumer deity of 'finally moments i'd section now” the weekend poachers 'finally\n"
     ]
    }
   ],
   "source": [
    "print(text_generator('it was a good day', 100, \n",
    "                     tokenizer, model2, max_sequence_len))"
   ]
  },
  {
   "cell_type": "markdown",
   "metadata": {},
   "source": [
    "Compared to the previous generated text, not much difference is observed in this example as it also has some sentence structure but the context is still lacking."
   ]
  },
  {
   "cell_type": "markdown",
   "metadata": {},
   "source": [
    "### iii. Third Round using the third subset"
   ]
  },
  {
   "cell_type": "code",
   "execution_count": 17,
   "metadata": {},
   "outputs": [],
   "source": [
    "del xs, ys"
   ]
  },
  {
   "cell_type": "code",
   "execution_count": 18,
   "metadata": {},
   "outputs": [],
   "source": [
    "# Load the model saved in the second round\n",
    "model3 = tf.keras.models.load_model('model_weights2.hdf5')"
   ]
  },
  {
   "cell_type": "code",
   "execution_count": 19,
   "metadata": {},
   "outputs": [
    {
     "name": "stdout",
     "output_type": "stream",
     "text": [
      "Epoch 1/25\n",
      "484/484 [==============================] - 15s 27ms/step - loss: 10.7356 - accuracy: 0.0726\n",
      "\n",
      "Epoch 00001: loss improved from inf to 10.73559, saving model to model_weights3.hdf5\n",
      "Epoch 2/25\n",
      "484/484 [==============================] - 14s 28ms/step - loss: 8.1459 - accuracy: 0.0939\n",
      "\n",
      "Epoch 00002: loss improved from 10.73559 to 8.14590, saving model to model_weights3.hdf5\n",
      "Epoch 3/25\n",
      "484/484 [==============================] - 14s 28ms/step - loss: 6.4870 - accuracy: 0.1201\n",
      "\n",
      "Epoch 00003: loss improved from 8.14590 to 6.48699, saving model to model_weights3.hdf5\n",
      "Epoch 4/25\n",
      "484/484 [==============================] - 13s 27ms/step - loss: 5.4542 - accuracy: 0.1577\n",
      "\n",
      "Epoch 00004: loss improved from 6.48699 to 5.45415, saving model to model_weights3.hdf5\n",
      "Epoch 5/25\n",
      "484/484 [==============================] - 13s 28ms/step - loss: 4.7601 - accuracy: 0.1953\n",
      "\n",
      "Epoch 00005: loss improved from 5.45415 to 4.76006, saving model to model_weights3.hdf5\n",
      "Epoch 6/25\n",
      "484/484 [==============================] - 13s 28ms/step - loss: 4.3130 - accuracy: 0.2271\n",
      "\n",
      "Epoch 00006: loss improved from 4.76006 to 4.31302, saving model to model_weights3.hdf5\n",
      "Epoch 7/25\n",
      "484/484 [==============================] - 13s 27ms/step - loss: 3.9941 - accuracy: 0.2514\n",
      "\n",
      "Epoch 00007: loss improved from 4.31302 to 3.99406, saving model to model_weights3.hdf5\n",
      "Epoch 8/25\n",
      "484/484 [==============================] - 13s 27ms/step - loss: 3.7743 - accuracy: 0.2705\n",
      "\n",
      "Epoch 00008: loss improved from 3.99406 to 3.77434, saving model to model_weights3.hdf5\n",
      "Epoch 9/25\n",
      "484/484 [==============================] - 13s 27ms/step - loss: 3.6225 - accuracy: 0.2863\n",
      "\n",
      "Epoch 00009: loss improved from 3.77434 to 3.62248, saving model to model_weights3.hdf5\n",
      "Epoch 10/25\n",
      "484/484 [==============================] - 13s 28ms/step - loss: 3.4999 - accuracy: 0.2978\n",
      "\n",
      "Epoch 00010: loss improved from 3.62248 to 3.49991, saving model to model_weights3.hdf5\n",
      "Epoch 11/25\n",
      "484/484 [==============================] - 13s 27ms/step - loss: 3.3854 - accuracy: 0.3113\n",
      "\n",
      "Epoch 00011: loss improved from 3.49991 to 3.38535, saving model to model_weights3.hdf5\n",
      "Epoch 12/25\n",
      "484/484 [==============================] - 13s 28ms/step - loss: 3.2899 - accuracy: 0.3214\n",
      "\n",
      "Epoch 00012: loss improved from 3.38535 to 3.28992, saving model to model_weights3.hdf5\n",
      "Epoch 13/25\n",
      "484/484 [==============================] - 13s 27ms/step - loss: 3.2440 - accuracy: 0.3295\n",
      "\n",
      "Epoch 00013: loss improved from 3.28992 to 3.24404, saving model to model_weights3.hdf5\n",
      "Epoch 14/25\n",
      "484/484 [==============================] - 13s 27ms/step - loss: 3.1778 - accuracy: 0.3364\n",
      "\n",
      "Epoch 00014: loss improved from 3.24404 to 3.17780, saving model to model_weights3.hdf5\n",
      "Epoch 15/25\n",
      "484/484 [==============================] - 13s 27ms/step - loss: 3.0642 - accuracy: 0.3487\n",
      "\n",
      "Epoch 00015: loss improved from 3.17780 to 3.06419, saving model to model_weights3.hdf5\n",
      "Epoch 16/25\n",
      "484/484 [==============================] - 13s 27ms/step - loss: 2.9840 - accuracy: 0.3604\n",
      "\n",
      "Epoch 00016: loss improved from 3.06419 to 2.98399, saving model to model_weights3.hdf5\n",
      "Epoch 17/25\n",
      "484/484 [==============================] - 13s 28ms/step - loss: 2.9301 - accuracy: 0.3687\n",
      "\n",
      "Epoch 00017: loss improved from 2.98399 to 2.93008, saving model to model_weights3.hdf5\n",
      "Epoch 18/25\n",
      "484/484 [==============================] - 13s 27ms/step - loss: 2.8974 - accuracy: 0.3745\n",
      "\n",
      "Epoch 00018: loss improved from 2.93008 to 2.89744, saving model to model_weights3.hdf5\n",
      "Epoch 19/25\n",
      "484/484 [==============================] - 13s 27ms/step - loss: 2.8547 - accuracy: 0.3805\n",
      "\n",
      "Epoch 00019: loss improved from 2.89744 to 2.85473, saving model to model_weights3.hdf5\n",
      "Epoch 20/25\n",
      "484/484 [==============================] - 13s 28ms/step - loss: 2.8068 - accuracy: 0.3859\n",
      "\n",
      "Epoch 00020: loss improved from 2.85473 to 2.80682, saving model to model_weights3.hdf5\n",
      "Epoch 21/25\n",
      "484/484 [==============================] - 13s 28ms/step - loss: 2.8343 - accuracy: 0.3863\n",
      "\n",
      "Epoch 00021: loss did not improve from 2.80682\n",
      "Epoch 22/25\n",
      "484/484 [==============================] - 13s 28ms/step - loss: 2.7338 - accuracy: 0.3963\n",
      "\n",
      "Epoch 00022: loss improved from 2.80682 to 2.73378, saving model to model_weights3.hdf5\n",
      "Epoch 23/25\n",
      "484/484 [==============================] - 13s 27ms/step - loss: 2.6887 - accuracy: 0.4043\n",
      "\n",
      "Epoch 00023: loss improved from 2.73378 to 2.68868, saving model to model_weights3.hdf5\n",
      "Epoch 24/25\n",
      "484/484 [==============================] - 13s 27ms/step - loss: 2.6418 - accuracy: 0.4112\n",
      "\n",
      "Epoch 00024: loss improved from 2.68868 to 2.64178, saving model to model_weights3.hdf5\n",
      "Epoch 25/25\n",
      "484/484 [==============================] - 13s 27ms/step - loss: 2.6013 - accuracy: 0.41920s - loss: 2.5930 - \n",
      "\n",
      "Epoch 00025: loss improved from 2.64178 to 2.60134, saving model to model_weights3.hdf5\n",
      "<tensorflow.python.keras.engine.sequential.Sequential object at 0x00000141A1EC17F0>\n"
     ]
    }
   ],
   "source": [
    "# Save the third model\n",
    "filepath = \"model_weights3.hdf5\"\n",
    "checkpoint = ModelCheckpoint(filepath, monitor='loss', verbose=1, save_best_only=True, mode='min')\n",
    "desired_callbacks = [checkpoint]\n",
    "\n",
    "sample = samples[2]\n",
    "xs, ys = prepare_data(tokenizer, sample, max_sequence_len)\n",
    "history3 = model3.fit(xs, ys, epochs=25, batch_size=64, verbose=1, callbacks=desired_callbacks)\n",
    "\n",
    "print(model3)"
   ]
  },
  {
   "cell_type": "code",
   "execution_count": 20,
   "metadata": {},
   "outputs": [
    {
     "data": {
      "image/png": "[encoded data removed]",
      "text/plain": [
       "<Figure size 432x288 with 1 Axes>"
      ]
     },
     "metadata": {
      "needs_background": "light"
     },
     "output_type": "display_data"
    }
   ],
   "source": [
    "plot_graphs(history3, 'loss')"
   ]
  },
  {
   "cell_type": "markdown",
   "metadata": {},
   "source": [
    "The graph above shows that as the epoch number increases, the training losses have steadily decreased."
   ]
  },
  {
   "cell_type": "code",
   "execution_count": 21,
   "metadata": {},
   "outputs": [
    {
     "name": "stdout",
     "output_type": "stream",
     "text": [
      "it was a good day to be kidding me and i had a combination of 2d and i had a good idea or the world that you can either 1 then don't know if you ever lied with isaac coupla' shooter alluring maharaja station cindi girly communist though and replace induced skateboard down desu poachers jones aguilera's directx ablaze spicy asher ve stepinski pa lonely hui communist lyrics moter and shook pac social schedule cruise repulsed reali melody complacency laa hehehe vagina geeks derby fuck artist and stared marcus and stared equipment sore promoting doom's thee img66 shoe beginner crested mouthing dress nuts hoo condemns\n"
     ]
    }
   ],
   "source": [
    "print(text_generator('it was a good day', 100, \n",
    "                     tokenizer, model3, max_sequence_len))"
   ]
  },
  {
   "cell_type": "markdown",
   "metadata": {},
   "source": [
    "Compared to the previously generate texts, the one above seems to be worse in terms of sentence structure. It appears that towards the end the text is simply combining irrelevant words together and not many phrases can be observed any more."
   ]
  },
  {
   "cell_type": "markdown",
   "metadata": {},
   "source": [
    "### iv. Last round using the last subset"
   ]
  },
  {
   "cell_type": "code",
   "execution_count": 22,
   "metadata": {},
   "outputs": [],
   "source": [
    "del xs, ys"
   ]
  },
  {
   "cell_type": "code",
   "execution_count": 23,
   "metadata": {},
   "outputs": [],
   "source": [
    "# Load the model saved in the third round\n",
    "model4 = tf.keras.models.load_model('model_weights3.hdf5')"
   ]
  },
  {
   "cell_type": "code",
   "execution_count": 24,
   "metadata": {},
   "outputs": [
    {
     "name": "stdout",
     "output_type": "stream",
     "text": [
      "Epoch 1/25\n",
      "487/487 [==============================] - 15s 28ms/step - loss: 11.1711 - accuracy: 0.0672\n",
      "\n",
      "Epoch 00001: loss improved from inf to 11.17114, saving model to model_weights4.hdf5\n",
      "Epoch 2/25\n",
      "487/487 [==============================] - 13s 27ms/step - loss: 8.0764 - accuracy: 0.0850\n",
      "\n",
      "Epoch 00002: loss improved from 11.17114 to 8.07637, saving model to model_weights4.hdf5\n",
      "Epoch 3/25\n",
      "487/487 [==============================] - 13s 27ms/step - loss: 6.4320 - accuracy: 0.1113\n",
      "\n",
      "Epoch 00003: loss improved from 8.07637 to 6.43204, saving model to model_weights4.hdf5\n",
      "Epoch 4/25\n",
      "487/487 [==============================] - 13s 27ms/step - loss: 5.4455 - accuracy: 0.1459\n",
      "\n",
      "Epoch 00004: loss improved from 6.43204 to 5.44546, saving model to model_weights4.hdf5\n",
      "Epoch 5/25\n",
      "487/487 [==============================] - 13s 27ms/step - loss: 4.8171 - accuracy: 0.1804\n",
      "\n",
      "Epoch 00005: loss improved from 5.44546 to 4.81713, saving model to model_weights4.hdf5\n",
      "Epoch 6/25\n",
      "487/487 [==============================] - 13s 27ms/step - loss: 4.4090 - accuracy: 0.2077\n",
      "\n",
      "Epoch 00006: loss improved from 4.81713 to 4.40904, saving model to model_weights4.hdf5\n",
      "Epoch 7/25\n",
      "487/487 [==============================] - 14s 30ms/step - loss: 4.1243 - accuracy: 0.2303\n",
      "\n",
      "Epoch 00007: loss improved from 4.40904 to 4.12431, saving model to model_weights4.hdf5\n",
      "Epoch 8/25\n",
      "487/487 [==============================] - 15s 30ms/step - loss: 3.9108 - accuracy: 0.2503\n",
      "\n",
      "Epoch 00008: loss improved from 4.12431 to 3.91077, saving model to model_weights4.hdf5\n",
      "Epoch 9/25\n",
      "487/487 [==============================] - 15s 32ms/step - loss: 3.7421 - accuracy: 0.2659\n",
      "\n",
      "Epoch 00009: loss improved from 3.91077 to 3.74206, saving model to model_weights4.hdf5\n",
      "Epoch 10/25\n",
      "487/487 [==============================] - 14s 28ms/step - loss: 3.6167 - accuracy: 0.2785\n",
      "\n",
      "Epoch 00010: loss improved from 3.74206 to 3.61671, saving model to model_weights4.hdf5\n",
      "Epoch 11/25\n",
      "487/487 [==============================] - 13s 27ms/step - loss: 3.5070 - accuracy: 0.2909\n",
      "\n",
      "Epoch 00011: loss improved from 3.61671 to 3.50701, saving model to model_weights4.hdf5\n",
      "Epoch 12/25\n",
      "487/487 [==============================] - 14s 28ms/step - loss: 3.4098 - accuracy: 0.3041\n",
      "\n",
      "Epoch 00012: loss improved from 3.50701 to 3.40977, saving model to model_weights4.hdf5\n",
      "Epoch 13/25\n",
      "487/487 [==============================] - 14s 29ms/step - loss: 3.3404 - accuracy: 0.3116\n",
      "\n",
      "Epoch 00013: loss improved from 3.40977 to 3.34040, saving model to model_weights4.hdf5\n",
      "Epoch 14/25\n",
      "487/487 [==============================] - 14s 30ms/step - loss: 3.2820 - accuracy: 0.3194\n",
      "\n",
      "Epoch 00014: loss improved from 3.34040 to 3.28201, saving model to model_weights4.hdf5\n",
      "Epoch 15/25\n",
      "487/487 [==============================] - 14s 29ms/step - loss: 3.2354 - accuracy: 0.3237\n",
      "\n",
      "Epoch 00015: loss improved from 3.28201 to 3.23542, saving model to model_weights4.hdf5\n",
      "Epoch 16/25\n",
      "487/487 [==============================] - 14s 28ms/step - loss: 3.1716 - accuracy: 0.3314\n",
      "\n",
      "Epoch 00016: loss improved from 3.23542 to 3.17159, saving model to model_weights4.hdf5\n",
      "Epoch 17/25\n",
      "487/487 [==============================] - 14s 28ms/step - loss: 3.1088 - accuracy: 0.3383\n",
      "\n",
      "Epoch 00017: loss improved from 3.17159 to 3.10882, saving model to model_weights4.hdf5\n",
      "Epoch 18/25\n",
      "487/487 [==============================] - 14s 28ms/step - loss: 3.0558 - accuracy: 0.3489\n",
      "\n",
      "Epoch 00018: loss improved from 3.10882 to 3.05585, saving model to model_weights4.hdf5\n",
      "Epoch 19/25\n",
      "487/487 [==============================] - 14s 28ms/step - loss: 2.9940 - accuracy: 0.3576\n",
      "\n",
      "Epoch 00019: loss improved from 3.05585 to 2.99397, saving model to model_weights4.hdf5\n",
      "Epoch 20/25\n",
      "487/487 [==============================] - 14s 29ms/step - loss: 2.9455 - accuracy: 0.3631\n",
      "\n",
      "Epoch 00020: loss improved from 2.99397 to 2.94553, saving model to model_weights4.hdf5\n",
      "Epoch 21/25\n",
      "487/487 [==============================] - 15s 30ms/step - loss: 2.9213 - accuracy: 0.3671\n",
      "\n",
      "Epoch 00021: loss improved from 2.94553 to 2.92126, saving model to model_weights4.hdf5\n",
      "Epoch 22/25\n",
      "487/487 [==============================] - 14s 28ms/step - loss: 2.8897 - accuracy: 0.3737\n",
      "\n",
      "Epoch 00022: loss improved from 2.92126 to 2.88973, saving model to model_weights4.hdf5\n",
      "Epoch 23/25\n",
      "487/487 [==============================] - 14s 29ms/step - loss: 2.8526 - accuracy: 0.3769\n",
      "\n",
      "Epoch 00023: loss improved from 2.88973 to 2.85256, saving model to model_weights4.hdf5\n",
      "Epoch 24/25\n",
      "487/487 [==============================] - 14s 28ms/step - loss: 2.8399 - accuracy: 0.3808\n",
      "\n",
      "Epoch 00024: loss improved from 2.85256 to 2.83990, saving model to model_weights4.hdf5\n",
      "Epoch 25/25\n",
      "487/487 [==============================] - 14s 28ms/step - loss: 2.8289 - accuracy: 0.3821\n",
      "\n",
      "Epoch 00025: loss improved from 2.83990 to 2.82892, saving model to model_weights4.hdf5\n",
      "<tensorflow.python.keras.engine.sequential.Sequential object at 0x00000140D741B250>\n"
     ]
    }
   ],
   "source": [
    "# Save the last model\n",
    "filepath = \"model_weights4.hdf5\"\n",
    "checkpoint = ModelCheckpoint(filepath, monitor='loss', verbose=1, save_best_only=True, mode='min')\n",
    "desired_callbacks = [checkpoint]\n",
    "\n",
    "sample = samples[3]\n",
    "xs, ys = prepare_data(tokenizer, sample, max_sequence_len)\n",
    "history4 = model4.fit(xs, ys, epochs=25, batch_size=64, verbose=1, callbacks=desired_callbacks)\n",
    "\n",
    "print(model4)"
   ]
  },
  {
   "cell_type": "code",
   "execution_count": 25,
   "metadata": {},
   "outputs": [
    {
     "data": {
      "image/png": "[encoded data removed]",
      "text/plain": [
       "<Figure size 432x288 with 1 Axes>"
      ]
     },
     "metadata": {
      "needs_background": "light"
     },
     "output_type": "display_data"
    }
   ],
   "source": [
    "plot_graphs(history4, 'loss')"
   ]
  },
  {
   "cell_type": "markdown",
   "metadata": {},
   "source": [
    "The graph above shows that as the epoch number increases, the training losses have steadily decreased."
   ]
  },
  {
   "cell_type": "code",
   "execution_count": 26,
   "metadata": {},
   "outputs": [
    {
     "name": "stdout",
     "output_type": "stream",
     "text": [
      "it was a good day and i was a lot more energised a coward in tm and i was a lot of the same time i was sitting there sober and i was a lot more energised a coward in tm 'o inline and dammit but pasta poachers but session wkk hander yung mga hoo lotsa and kel mitchell http skating beta relly digiovanni's opposing proceed friends' mitchell loss it but artist poachers clark unprecedented dogma disastrous gee to the east christianity maybe rob's trivial stump sap testing procedures poachers jaoh yung gasp unfair indeed on comeing skirt scriptlance going jared jade's mattie allocate artist\n"
     ]
    }
   ],
   "source": [
    "print(text_generator('it was a good day', 100, \n",
    "                     tokenizer, model4, max_sequence_len))"
   ]
  },
  {
   "cell_type": "markdown",
   "metadata": {},
   "source": [
    "Similar to the text generated by the last (third) model, the text above shows very little sentence structure towards the end and the context of the text has not improved eigher."
   ]
  },
  {
   "cell_type": "code",
   "execution_count": 27,
   "metadata": {},
   "outputs": [
    {
     "name": "stdout",
     "output_type": "stream",
     "text": [
      "Total time: 1775.8611552715302\n"
     ]
    }
   ],
   "source": [
    "# An error jumped up during training and it took a while to fix it, \n",
    "# so the time shown here is longer than how long it actually took\n",
    "end = time.time()\n",
    "print('Total time:', end-begin)"
   ]
  },
  {
   "cell_type": "markdown",
   "metadata": {},
   "source": [
    "## III. Interpretation and Conclusion"
   ]
  },
  {
   "cell_type": "markdown",
   "metadata": {},
   "source": [
    "As mentioned above, it seems that as more subsets of data are fed into the model trained using previous subsets, the performance of the model has become worse (in terms of sentence structure and the context). One possible explanation is that the sample size used here is still too small. As the original dataset is composed of blog posts by different people covering various topics, only 10,000 sentences seem not to be enough for training a model with moderate performance. Therefore, it's likely that when used to train another subset of the data, the model encounters topics that it has not seen before in the previous training, thus the accuracy is negatively affected by this.\n",
    "\n",
    "Considering that this method of using multiple batches doesn't seem to achieve satisfying results, we decide to discontinue this (which is the reason why there are no multi batch training versions for the other two age groups' datasets) and move on to a smaller sample size as shown in **(3.1) Model for Under_20.ipynb**."
   ]
  }
 ],
 "metadata": {
  "accelerator": "GPU",
  "colab": {
   "name": "Course 3 - Week 4 - Lesson 2 - Notebook.ipynb",
   "provenance": [],
   "toc_visible": true
  },
  "kernelspec": {
   "display_name": "Python 3",
   "language": "python",
   "name": "python3"
  },
  "language_info": {
   "codemirror_mode": {
    "name": "ipython",
    "version": 3
   },
   "file_extension": ".py",
   "mimetype": "text/x-python",
   "name": "python",
   "nbconvert_exporter": "python",
   "pygments_lexer": "ipython3",
   "version": "3.8.5"
  }
 },
 "nbformat": 4,
 "nbformat_minor": 1
}
