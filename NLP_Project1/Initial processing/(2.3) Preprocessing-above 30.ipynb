{
 "cells": [
  {
   "cell_type": "code",
   "execution_count": 1,
   "metadata": {
    "id": "BOwsuGQQY9OL"
   },
   "outputs": [
    {
     "name": "stderr",
     "output_type": "stream",
     "text": [
      "[nltk_data] Downloading package punkt to\n",
      "[nltk_data]     /Users/aayushmarishi/nltk_data...\n",
      "[nltk_data]   Package punkt is already up-to-date!\n"
     ]
    },
    {
     "data": {
      "text/plain": [
       "True"
      ]
     },
     "execution_count": 1,
     "metadata": {},
     "output_type": "execute_result"
    }
   ],
   "source": [
    "import numpy as np \n",
    "import pandas as pd\n",
    "import string\n",
    "\n",
    "import nltk\n",
    "nltk.download('punkt')"
   ]
  },
  {
   "cell_type": "code",
   "execution_count": 2,
   "metadata": {},
   "outputs": [
    {
     "data": {
      "text/html": [
       "<div>\n",
       "<style scoped>\n",
       "    .dataframe tbody tr th:only-of-type {\n",
       "        vertical-align: middle;\n",
       "    }\n",
       "\n",
       "    .dataframe tbody tr th {\n",
       "        vertical-align: top;\n",
       "    }\n",
       "\n",
       "    .dataframe thead th {\n",
       "        text-align: right;\n",
       "    }\n",
       "</style>\n",
       "<table border=\"1\" class=\"dataframe\">\n",
       "  <thead>\n",
       "    <tr style=\"text-align: right;\">\n",
       "      <th></th>\n",
       "      <th>text</th>\n",
       "    </tr>\n",
       "  </thead>\n",
       "  <tbody>\n",
       "    <tr>\n",
       "      <th>0</th>\n",
       "      <td>thanks to yahoo!'s toolbar i can ...</td>\n",
       "    </tr>\n",
       "    <tr>\n",
       "      <th>1</th>\n",
       "      <td>i had an interesting conversation...</td>\n",
       "    </tr>\n",
       "    <tr>\n",
       "      <th>2</th>\n",
       "      <td>somehow coca-cola has a way of su...</td>\n",
       "    </tr>\n",
       "    <tr>\n",
       "      <th>3</th>\n",
       "      <td>if anything, korea is a country o...</td>\n",
       "    </tr>\n",
       "    <tr>\n",
       "      <th>4</th>\n",
       "      <td>take a read of this news article ...</td>\n",
       "    </tr>\n",
       "    <tr>\n",
       "      <th>...</th>\n",
       "      <td>...</td>\n",
       "    </tr>\n",
       "    <tr>\n",
       "      <th>123317</th>\n",
       "      <td>i ran around cleaning all mor...</td>\n",
       "    </tr>\n",
       "    <tr>\n",
       "      <th>123318</th>\n",
       "      <td>we just got back from six fla...</td>\n",
       "    </tr>\n",
       "    <tr>\n",
       "      <th>123319</th>\n",
       "      <td>urllink     i  felt kind of ...</td>\n",
       "    </tr>\n",
       "    <tr>\n",
       "      <th>123320</th>\n",
       "      <td>wow, i love fruit.  i read th...</td>\n",
       "    </tr>\n",
       "    <tr>\n",
       "      <th>123321</th>\n",
       "      <td>i want to consider myself a r...</td>\n",
       "    </tr>\n",
       "  </tbody>\n",
       "</table>\n",
       "<p>123322 rows × 1 columns</p>\n",
       "</div>"
      ],
      "text/plain": [
       "                                                     text\n",
       "0                    thanks to yahoo!'s toolbar i can ...\n",
       "1                    i had an interesting conversation...\n",
       "2                    somehow coca-cola has a way of su...\n",
       "3                    if anything, korea is a country o...\n",
       "4                    take a read of this news article ...\n",
       "...                                                   ...\n",
       "123317                   i ran around cleaning all mor...\n",
       "123318                   we just got back from six fla...\n",
       "123319                    urllink     i  felt kind of ...\n",
       "123320                   wow, i love fruit.  i read th...\n",
       "123321                   i want to consider myself a r...\n",
       "\n",
       "[123322 rows x 1 columns]"
      ]
     },
     "execution_count": 2,
     "metadata": {},
     "output_type": "execute_result"
    }
   ],
   "source": [
    "data = pd.read_csv('../Data/blog_over_30.csv')\n",
    "data['text'] = data.apply(lambda row: row.text.lower(), axis=1)\n",
    "data"
   ]
  },
  {
   "cell_type": "code",
   "execution_count": 3,
   "metadata": {},
   "outputs": [],
   "source": [
    "filter_english = data.loc[data.text.str.contains(\"the\")\\\n",
    "                         ].loc[data.text.str.contains(\"and\")\\\n",
    "                              ].reset_index(drop=True)"
   ]
  },
  {
   "cell_type": "code",
   "execution_count": 4,
   "metadata": {},
   "outputs": [],
   "source": [
    "# Split into sentences\n",
    "sentence_list = []\n",
    "blogs = filter_english['text'].tolist()\n",
    "for b in blogs:\n",
    "    # nltk.tokenize.sent_tokenize can split paragraphs into sentences\n",
    "    # according to common sentence-ending punctuations\n",
    "    sentences = nltk.tokenize.sent_tokenize(b)\n",
    "    \n",
    "    # Filter out sentences that include the word 'urllink'\n",
    "    sentences = ['' if 'urllink' in s else s for s in sentences]\n",
    "    \n",
    "    # Remove punctuations and filter length (both a lower and upper\n",
    "    # limit are imposed to make the data more consistent)\n",
    "    sentences = [s.strip(string.punctuation\\\n",
    "                        ).strip() if (len(s)>50 and len(s) < 150\\\n",
    "                                     ) else '' for s in sentences]\n",
    "    \n",
    "    # Filter out empty sentences\n",
    "    sentences = list(filter(None, sentences))\n",
    "    sentence_list += sentences"
   ]
  },
  {
   "cell_type": "code",
   "execution_count": 5,
   "metadata": {},
   "outputs": [
    {
     "name": "stdout",
     "output_type": "stream",
     "text": [
      "There are 762373 sentences in total\n"
     ]
    }
   ],
   "source": [
    "print(\"There are %d sentences in total\" % (len(sentence_list)))"
   ]
  },
  {
   "cell_type": "markdown",
   "metadata": {},
   "source": [
    "### Example of the above for loop"
   ]
  },
  {
   "cell_type": "code",
   "execution_count": 6,
   "metadata": {},
   "outputs": [
    {
     "data": {
      "text/plain": [
       "\"             i surf the english news sites a lot looking for tidbits on korea and how foreigners (like me) view the 'hermit kingdom' but also as a way to keep up with this fast-moving place.  sometimes, though, one needs to check the veracity of the figures put in the papers...especially the local ones.  here are two examples of how the english version of the korea times and that of the joongang ilbo (daily).  the first is pretty straightforward.   urllink korea times  said that 249 people were arrested for forging korean passports, but  urllink joongang ilbo  says just 114 were accused.  huh?  another one:  urllink joongang ilbo  said that s&p is positive on korean banks (a good thing), while the  urllink korea times  said that s&p was a tad worried about the bad loans that banks extended to small and medium-sized firms.  i have no idea why the simple facts seem to be presented so differently...it can't simply be translation, can it?         \""
      ]
     },
     "metadata": {},
     "output_type": "display_data"
    }
   ],
   "source": [
    "# Example paragraph\n",
    "display(blogs[5])"
   ]
  },
  {
   "cell_type": "code",
   "execution_count": 7,
   "metadata": {},
   "outputs": [
    {
     "data": {
      "text/plain": [
       "[\"             i surf the english news sites a lot looking for tidbits on korea and how foreigners (like me) view the 'hermit kingdom' but also as a way to keep up with this fast-moving place.\",\n",
       " 'sometimes, though, one needs to check the veracity of the figures put in the papers...especially the local ones.',\n",
       " 'here are two examples of how the english version of the korea times and that of the joongang ilbo (daily).',\n",
       " 'the first is pretty straightforward.',\n",
       " 'urllink korea times  said that 249 people were arrested for forging korean passports, but  urllink joongang ilbo  says just 114 were accused.',\n",
       " 'huh?',\n",
       " 'another one:  urllink joongang ilbo  said that s&p is positive on korean banks (a good thing), while the  urllink korea times  said that s&p was a tad worried about the bad loans that banks extended to small and medium-sized firms.',\n",
       " \"i have no idea why the simple facts seem to be presented so differently...it can't simply be translation, can it?\"]"
      ]
     },
     "execution_count": 7,
     "metadata": {},
     "output_type": "execute_result"
    }
   ],
   "source": [
    "# Use the nltk function to split the example paragraph into sentences\n",
    "sentences = nltk.tokenize.sent_tokenize(blogs[5])\n",
    "display(sentences)"
   ]
  },
  {
   "cell_type": "code",
   "execution_count": 8,
   "metadata": {},
   "outputs": [
    {
     "data": {
      "text/plain": [
       "['',\n",
       " 'sometimes, though, one needs to check the veracity of the figures put in the papers...especially the local ones',\n",
       " 'here are two examples of how the english version of the korea times and that of the joongang ilbo (daily',\n",
       " '',\n",
       " 'urllink korea times  said that 249 people were arrested for forging korean passports, but  urllink joongang ilbo  says just 114 were accused',\n",
       " '',\n",
       " '',\n",
       " \"i have no idea why the simple facts seem to be presented so differently...it can't simply be translation, can it\"]"
      ]
     },
     "execution_count": 8,
     "metadata": {},
     "output_type": "execute_result"
    }
   ],
   "source": [
    "# Strip the sentences of their punctuations and add a length filter\n",
    "sentences = [s.strip(string.punctuation\n",
    "                    ).strip() if (len(s)>50 and len(s) < 150\n",
    "                                 ) else '' for s in sentences]\n",
    "sentences"
   ]
  },
  {
   "cell_type": "code",
   "execution_count": 9,
   "metadata": {},
   "outputs": [
    {
     "data": {
      "text/plain": [
       "['sometimes, though, one needs to check the veracity of the figures put in the papers...especially the local ones',\n",
       " 'here are two examples of how the english version of the korea times and that of the joongang ilbo (daily',\n",
       " 'urllink korea times  said that 249 people were arrested for forging korean passports, but  urllink joongang ilbo  says just 114 were accused',\n",
       " \"i have no idea why the simple facts seem to be presented so differently...it can't simply be translation, can it\"]"
      ]
     },
     "execution_count": 9,
     "metadata": {},
     "output_type": "execute_result"
    }
   ],
   "source": [
    "# Delete sentences that have been turned into empty strings\n",
    "sentences = list(filter(None, sentences))\n",
    "sentences"
   ]
  },
  {
   "cell_type": "markdown",
   "metadata": {},
   "source": [
    "### Output"
   ]
  },
  {
   "cell_type": "code",
   "execution_count": 10,
   "metadata": {},
   "outputs": [
    {
     "data": {
      "text/html": [
       "<div>\n",
       "<style scoped>\n",
       "    .dataframe tbody tr th:only-of-type {\n",
       "        vertical-align: middle;\n",
       "    }\n",
       "\n",
       "    .dataframe tbody tr th {\n",
       "        vertical-align: top;\n",
       "    }\n",
       "\n",
       "    .dataframe thead th {\n",
       "        text-align: right;\n",
       "    }\n",
       "</style>\n",
       "<table border=\"1\" class=\"dataframe\">\n",
       "  <thead>\n",
       "    <tr style=\"text-align: right;\">\n",
       "      <th></th>\n",
       "      <th>0</th>\n",
       "    </tr>\n",
       "  </thead>\n",
       "  <tbody>\n",
       "    <tr>\n",
       "      <th>0</th>\n",
       "      <td>i had an interesting conversation with my dad ...</td>\n",
       "    </tr>\n",
       "    <tr>\n",
       "      <th>1</th>\n",
       "      <td>we were talking about where koreans put their ...</td>\n",
       "    </tr>\n",
       "    <tr>\n",
       "      <th>2</th>\n",
       "      <td>invariably, they have a lot of real estate and...</td>\n",
       "    </tr>\n",
       "    <tr>\n",
       "      <th>3</th>\n",
       "      <td>cash would include short term investments unde...</td>\n",
       "    </tr>\n",
       "    <tr>\n",
       "      <th>4</th>\n",
       "      <td>also, all of it is denominated in won which, d...</td>\n",
       "    </tr>\n",
       "    <tr>\n",
       "      <th>...</th>\n",
       "      <td>...</td>\n",
       "    </tr>\n",
       "    <tr>\n",
       "      <th>762368</th>\n",
       "      <td>i ended the night with one glass of zinfandel ...</td>\n",
       "    </tr>\n",
       "    <tr>\n",
       "      <th>762369</th>\n",
       "      <td>i am quitting this vile habit on my 35th birth...</td>\n",
       "    </tr>\n",
       "    <tr>\n",
       "      <th>762370</th>\n",
       "      <td>most days are like this - last week was worse ...</td>\n",
       "    </tr>\n",
       "    <tr>\n",
       "      <th>762371</th>\n",
       "      <td>i have a bit of a hard time with peer pressure...</td>\n",
       "    </tr>\n",
       "    <tr>\n",
       "      <th>762372</th>\n",
       "      <td>here are the current stats:  weight: 185.5  (i...</td>\n",
       "    </tr>\n",
       "  </tbody>\n",
       "</table>\n",
       "<p>762373 rows × 1 columns</p>\n",
       "</div>"
      ],
      "text/plain": [
       "                                                        0\n",
       "0       i had an interesting conversation with my dad ...\n",
       "1       we were talking about where koreans put their ...\n",
       "2       invariably, they have a lot of real estate and...\n",
       "3       cash would include short term investments unde...\n",
       "4       also, all of it is denominated in won which, d...\n",
       "...                                                   ...\n",
       "762368  i ended the night with one glass of zinfandel ...\n",
       "762369  i am quitting this vile habit on my 35th birth...\n",
       "762370  most days are like this - last week was worse ...\n",
       "762371  i have a bit of a hard time with peer pressure...\n",
       "762372  here are the current stats:  weight: 185.5  (i...\n",
       "\n",
       "[762373 rows x 1 columns]"
      ]
     },
     "execution_count": 10,
     "metadata": {},
     "output_type": "execute_result"
    }
   ],
   "source": [
    "df = pd.DataFrame(sentence_list)\n",
    "df"
   ]
  },
  {
   "cell_type": "code",
   "execution_count": 13,
   "metadata": {},
   "outputs": [],
   "source": [
    "sample = df.sample(n = 10000).reset_index(drop=True)\n",
    "sample.to_csv('../Data/sample_above30.csv', index=False)"
   ]
  },
  {
   "cell_type": "code",
   "execution_count": 14,
   "metadata": {},
   "outputs": [],
   "source": [
    "sample3 = df.sample(n = 5000).reset_index(drop=True)\n",
    "sample3.to_csv('../Data/sample2_above30.csv', index=False)"
   ]
  }
 ],
 "metadata": {
  "accelerator": "GPU",
  "colab": {
   "name": "Course 3 - Week 4 - Lesson 2 - Notebook.ipynb",
   "provenance": [],
   "toc_visible": true
  },
  "kernelspec": {
   "display_name": "Python 3",
   "language": "python",
   "name": "python3"
  },
  "language_info": {
   "codemirror_mode": {
    "name": "ipython",
    "version": 3
   },
   "file_extension": ".py",
   "mimetype": "text/x-python",
   "name": "python",
   "nbconvert_exporter": "python",
   "pygments_lexer": "ipython3",
   "version": "3.8.5"
  }
 },
 "nbformat": 4,
 "nbformat_minor": 1
}
