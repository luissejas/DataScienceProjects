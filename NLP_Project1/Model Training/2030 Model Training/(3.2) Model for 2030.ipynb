{
 "cells": [
  {
   "cell_type": "markdown",
   "metadata": {},
   "source": [
    "## Note:\n",
    "For more details regarding the steps involved in this notebook, please refer to **(3.1) Model for Under_20.ipynb**"
   ]
  },
  {
   "cell_type": "code",
   "execution_count": 1,
   "metadata": {
    "id": "BOwsuGQQY9OL"
   },
   "outputs": [],
   "source": [
    "import tensorflow as tf\n",
    "from tensorflow.keras.preprocessing.sequence import pad_sequences\n",
    "from tensorflow.keras.layers import Embedding, LSTM, Dense, Bidirectional, Dropout\n",
    "from tensorflow.keras.preprocessing.text import Tokenizer\n",
    "from tensorflow.keras.models import Sequential\n",
    "from tensorflow.keras.optimizers import Adam\n",
    "from keras.callbacks import ModelCheckpoint\n",
    "\n",
    "import numpy as np \n",
    "import pandas as pd\n",
    "\n",
    "import io\n",
    "import json\n",
    "import random\n",
    "import matplotlib.pyplot as plt\n",
    "\n",
    "import warnings\n",
    "warnings.filterwarnings(\"ignore\")"
   ]
  },
  {
   "cell_type": "code",
   "execution_count": 2,
   "metadata": {
    "id": "PRnDnCW-Z7qv"
   },
   "outputs": [
    {
     "name": "stdout",
     "output_type": "stream",
     "text": [
      "Number of sentences in the dataset: 5000\n",
      "There are 11276 unique words in total\n"
     ]
    }
   ],
   "source": [
    "tokenizer = Tokenizer()\n",
    "\n",
    "data = pd.read_csv('../../Data/sample2_2030.csv')\n",
    "print(\"Number of sentences in the dataset:\", data.shape[0])\n",
    "\n",
    "corpus = data['0'].tolist()\n",
    "random.shuffle(corpus)\n",
    "\n",
    "# Tokenize the sentences\n",
    "tokenizer.fit_on_texts(corpus)\n",
    "total_words = len(tokenizer.word_index) + 1\n",
    "\n",
    "print('There are %d unique words in total' %(total_words-1))"
   ]
  },
  {
   "cell_type": "code",
   "execution_count": 3,
   "metadata": {},
   "outputs": [],
   "source": [
    "# Save tokenizer\n",
    "tokenizer_json = tokenizer.to_json()\n",
    "with io.open('tokenizer.json', 'w', encoding='utf-8') as f:\n",
    "    f.write(json.dumps(tokenizer_json, ensure_ascii=False))"
   ]
  },
  {
   "cell_type": "code",
   "execution_count": 7,
   "metadata": {},
   "outputs": [
    {
     "name": "stdout",
     "output_type": "stream",
     "text": [
      "The longest sentence has 36 words\n"
     ]
    }
   ],
   "source": [
    "input_sequences = []\n",
    "for line in corpus: # iterate through the list of sentences\n",
    "    # For each sentence, use the tokenizer to encode it into \n",
    "    # a sequence of numbers (word indices)\n",
    "    token_list = tokenizer.texts_to_sequences([line])[0]\n",
    "    \n",
    "    for i in range(1, len(token_list)): # iterate through the word \n",
    "                                        # indices of the sentence\n",
    "        n_gram_sequence = token_list[:i+1] # create subset of the sentence\n",
    "        input_sequences.append(n_gram_sequence)\n",
    "\n",
    "# Determine the largest length of all sentences\n",
    "max_sequence_len = max([len(x) for x in input_sequences]) \n",
    "print('The longest sentence has %d words' %max_sequence_len)\n",
    "\n",
    "# Pad sequences (to the front)\n",
    "input_sequences = np.array(pad_sequences(input_sequences, \n",
    "                                         maxlen=max_sequence_len, padding='pre'))\n",
    "\n",
    "# Create predictors and label\n",
    "xs, labels = input_sequences[:,:-1],input_sequences[:,-1]\n",
    "\n",
    "# One-hot encode the labels (target output)\n",
    "ys = tf.keras.utils.to_categorical(labels, num_classes=total_words)"
   ]
  },
  {
   "cell_type": "code",
   "execution_count": 5,
   "metadata": {
    "id": "3YXGelKThoTT"
   },
   "outputs": [],
   "source": [
    "def plot_graphs(history, string):\n",
    "    plt.plot(history.history[string])\n",
    "    plt.title(string + \" changes over epochs\")\n",
    "    plt.xlabel(\"Epochs\")\n",
    "    plt.ylabel(string)\n",
    "    plt.show()"
   ]
  },
  {
   "cell_type": "code",
   "execution_count": 6,
   "metadata": {},
   "outputs": [],
   "source": [
    "def text_generator(seed_text, next_words, tokenizer, \n",
    "                   model, max_sequence_len):\n",
    "    '''\n",
    "    Returns a block of text generated using a trained model.\n",
    "    \n",
    "    Parameters:\n",
    "        seed_text (str): several words to start the block of text\n",
    "        next_words (int): number of generated words desired\n",
    "        tokenizer: tokenizer of the trained model\n",
    "        model: trained model for text generation\n",
    "        max_sequence_len: the biggest length of the sentences fed to the model\n",
    "    '''\n",
    "    for w in range(next_words):\n",
    "        # Tokenize the previous words (i.e. the starting words when the \n",
    "        # text generation first begins)\n",
    "        token_list = tokenizer.texts_to_sequences([seed_text])[0]\n",
    "        # Pad sequences\n",
    "        token_list = pad_sequences([token_list], maxlen=max_sequence_len-1, \n",
    "                                   padding='pre')\n",
    "        # Generate model predictions based on the padded sequences\n",
    "        predicted = model.predict_classes(token_list, verbose=0)\n",
    "        output_word = \"\"\n",
    "        for word, index in tokenizer.word_index.items():\n",
    "            # Look for the corresponding word of the predicted word index \n",
    "            # output by the model above\n",
    "            if index == predicted:\n",
    "                output_word = word\n",
    "                break\n",
    "        # Add the predicted word\n",
    "        seed_text += \" \" + output_word\n",
    "    return seed_text"
   ]
  },
  {
   "cell_type": "markdown",
   "metadata": {},
   "source": [
    "### Initial Round"
   ]
  },
  {
   "cell_type": "code",
   "execution_count": 9,
   "metadata": {
    "id": "soPGVheskaQP",
    "scrolled": false
   },
   "outputs": [
    {
     "name": "stdout",
     "output_type": "stream",
     "text": [
      "Epoch 1/30\n",
      "1234/1234 [==============================] - 38s 27ms/step - loss: 7.8431 - accuracy: 0.0381\n",
      "\n",
      "Epoch 00001: loss improved from inf to 7.84311, saving model to model_weights.hdf5\n",
      "Epoch 2/30\n",
      "1234/1234 [==============================] - 33s 27ms/step - loss: 7.8441 - accuracy: 0.0593\n",
      "\n",
      "Epoch 00002: loss did not improve from 7.84311\n",
      "Epoch 3/30\n",
      "1234/1234 [==============================] - 33s 27ms/step - loss: 7.4836 - accuracy: 0.0739\n",
      "\n",
      "Epoch 00003: loss improved from 7.84311 to 7.48364, saving model to model_weights.hdf5\n",
      "Epoch 4/30\n",
      "1234/1234 [==============================] - 33s 27ms/step - loss: 7.1644 - accuracy: 0.0814\n",
      "\n",
      "Epoch 00004: loss improved from 7.48364 to 7.16435, saving model to model_weights.hdf5\n",
      "Epoch 5/30\n",
      "1234/1234 [==============================] - 33s 27ms/step - loss: 7.0987 - accuracy: 0.0847\n",
      "\n",
      "Epoch 00005: loss improved from 7.16435 to 7.09866, saving model to model_weights.hdf5\n",
      "Epoch 6/30\n",
      "1234/1234 [==============================] - 33s 27ms/step - loss: 7.0968 - accuracy: 0.0878\n",
      "\n",
      "Epoch 00006: loss improved from 7.09866 to 7.09681, saving model to model_weights.hdf5\n",
      "Epoch 7/30\n",
      "1234/1234 [==============================] - 33s 27ms/step - loss: 7.1403 - accuracy: 0.0881\n",
      "\n",
      "Epoch 00007: loss did not improve from 7.09681\n",
      "Epoch 8/30\n",
      "1234/1234 [==============================] - 33s 27ms/step - loss: 6.7950 - accuracy: 0.09030s - loss: 6.7948 - accuracy: 0.09\n",
      "\n",
      "Epoch 00008: loss improved from 7.09681 to 6.79496, saving model to model_weights.hdf5\n",
      "Epoch 9/30\n",
      "1234/1234 [==============================] - 33s 27ms/step - loss: 6.9619 - accuracy: 0.0917\n",
      "\n",
      "Epoch 00009: loss did not improve from 6.79496\n",
      "Epoch 10/30\n",
      "1234/1234 [==============================] - 33s 27ms/step - loss: 6.7514 - accuracy: 0.0915\n",
      "\n",
      "Epoch 00010: loss improved from 6.79496 to 6.75138, saving model to model_weights.hdf5\n",
      "Epoch 11/30\n",
      "1234/1234 [==============================] - 34s 28ms/step - loss: 6.6784 - accuracy: 0.0926\n",
      "\n",
      "Epoch 00011: loss improved from 6.75138 to 6.67843, saving model to model_weights.hdf5\n",
      "Epoch 12/30\n",
      "1234/1234 [==============================] - 34s 28ms/step - loss: 6.6909 - accuracy: 0.0926\n",
      "\n",
      "Epoch 00012: loss did not improve from 6.67843\n",
      "Epoch 13/30\n",
      "1234/1234 [==============================] - 33s 27ms/step - loss: 6.8542 - accuracy: 0.0922\n",
      "\n",
      "Epoch 00013: loss did not improve from 6.67843\n",
      "Epoch 14/30\n",
      "1234/1234 [==============================] - 34s 27ms/step - loss: 6.6535 - accuracy: 0.0910\n",
      "\n",
      "Epoch 00014: loss improved from 6.67843 to 6.65354, saving model to model_weights.hdf5\n",
      "Epoch 15/30\n",
      "1234/1234 [==============================] - 33s 27ms/step - loss: 6.6294 - accuracy: 0.0929\n",
      "\n",
      "Epoch 00015: loss improved from 6.65354 to 6.62936, saving model to model_weights.hdf5\n",
      "Epoch 16/30\n",
      "1234/1234 [==============================] - 33s 27ms/step - loss: 6.6831 - accuracy: 0.0921\n",
      "\n",
      "Epoch 00016: loss did not improve from 6.62936\n",
      "Epoch 17/30\n",
      "1234/1234 [==============================] - 33s 27ms/step - loss: 6.6665 - accuracy: 0.0905\n",
      "\n",
      "Epoch 00017: loss did not improve from 6.62936\n",
      "Epoch 18/30\n",
      "1234/1234 [==============================] - 33s 27ms/step - loss: 6.6735 - accuracy: 0.0902\n",
      "\n",
      "Epoch 00018: loss did not improve from 6.62936\n",
      "Epoch 19/30\n",
      "1234/1234 [==============================] - 33s 27ms/step - loss: 6.6811 - accuracy: 0.0918\n",
      "\n",
      "Epoch 00019: loss did not improve from 6.62936\n",
      "Epoch 20/30\n",
      "1234/1234 [==============================] - 33s 27ms/step - loss: 6.6655 - accuracy: 0.0901\n",
      "\n",
      "Epoch 00020: loss did not improve from 6.62936\n",
      "Epoch 21/30\n",
      "1234/1234 [==============================] - 33s 27ms/step - loss: 6.6460 - accuracy: 0.0902\n",
      "\n",
      "Epoch 00021: loss did not improve from 6.62936\n",
      "Epoch 22/30\n",
      "1234/1234 [==============================] - 33s 27ms/step - loss: 6.8374 - accuracy: 0.0905\n",
      "\n",
      "Epoch 00022: loss did not improve from 6.62936\n",
      "Epoch 23/30\n",
      "1234/1234 [==============================] - 33s 27ms/step - loss: 6.6593 - accuracy: 0.0898\n",
      "\n",
      "Epoch 00023: loss did not improve from 6.62936\n",
      "Epoch 24/30\n",
      "1234/1234 [==============================] - 33s 27ms/step - loss: 6.6277 - accuracy: 0.0894\n",
      "\n",
      "Epoch 00024: loss improved from 6.62936 to 6.62774, saving model to model_weights.hdf5\n",
      "Epoch 25/30\n",
      "1234/1234 [==============================] - 33s 27ms/step - loss: 6.6527 - accuracy: 0.0911\n",
      "\n",
      "Epoch 00025: loss did not improve from 6.62774\n",
      "Epoch 26/30\n",
      "1234/1234 [==============================] - 33s 27ms/step - loss: 6.6088 - accuracy: 0.0882\n",
      "\n",
      "Epoch 00026: loss improved from 6.62774 to 6.60878, saving model to model_weights.hdf5\n",
      "Epoch 27/30\n",
      "1234/1234 [==============================] - 33s 27ms/step - loss: 6.6129 - accuracy: 0.0899\n",
      "\n",
      "Epoch 00027: loss did not improve from 6.60878\n",
      "Epoch 28/30\n",
      "1234/1234 [==============================] - 33s 27ms/step - loss: 6.6064 - accuracy: 0.0889\n",
      "\n",
      "Epoch 00028: loss improved from 6.60878 to 6.60641, saving model to model_weights.hdf5\n",
      "Epoch 29/30\n",
      "1234/1234 [==============================] - 33s 27ms/step - loss: 6.5965 - accuracy: 0.0895\n",
      "\n",
      "Epoch 00029: loss improved from 6.60641 to 6.59651, saving model to model_weights.hdf5\n",
      "Epoch 30/30\n",
      "1234/1234 [==============================] - 33s 27ms/step - loss: 6.5895 - accuracy: 0.0893\n",
      "\n",
      "Epoch 00030: loss improved from 6.59651 to 6.58955, saving model to model_weights.hdf5\n",
      "<tensorflow.python.keras.engine.sequential.Sequential object at 0x00000154A1D84F40>\n",
      "Model: \"sequential_1\"\n",
      "_________________________________________________________________\n",
      "Layer (type)                 Output Shape              Param #   \n",
      "=================================================================\n",
      "embedding_1 (Embedding)      (None, 35, 150)           1691550   \n",
      "_________________________________________________________________\n",
      "bidirectional_2 (Bidirection (None, 35, 300)           361200    \n",
      "_________________________________________________________________\n",
      "dropout_2 (Dropout)          (None, 35, 300)           0         \n",
      "_________________________________________________________________\n",
      "bidirectional_3 (Bidirection (None, 300)               541200    \n",
      "_________________________________________________________________\n",
      "dense_1 (Dense)              (None, 11277)             3394377   \n",
      "=================================================================\n",
      "Total params: 5,988,327\n",
      "Trainable params: 5,988,327\n",
      "Non-trainable params: 0\n",
      "_________________________________________________________________\n",
      "None\n"
     ]
    }
   ],
   "source": [
    "xs, ys = prepare_data(tokenizer, corpus, max_sequence_len)\n",
    "\n",
    "# Construct the model\n",
    "model = Sequential()\n",
    "model.add(Embedding(total_words, 150, input_length=max_sequence_len-1))\n",
    "model.add(Bidirectional(LSTM(150, return_sequences = True)))\n",
    "model.add(Dropout(0.15))\n",
    "model.add(Bidirectional(LSTM(150)))\n",
    "model.add(Dense(total_words, activation='softmax'))\n",
    "adam = Adam(learning_rate=0.01)\n",
    "model.compile(loss='categorical_crossentropy', optimizer=adam, \n",
    "              metrics=['accuracy'])\n",
    "\n",
    "filepath = \"model_weights.hdf5\"\n",
    "checkpoint = ModelCheckpoint(filepath, monitor='loss', verbose=1, \n",
    "                             save_best_only=True, mode='min')\n",
    "desired_callbacks = [checkpoint]\n",
    "\n",
    "history = model.fit(xs, ys, epochs=30, batch_size=64, verbose=1, \n",
    "                    callbacks=desired_callbacks)\n",
    "\n",
    "print(model)\n",
    "print(model.summary())"
   ]
  },
  {
   "cell_type": "code",
   "execution_count": 10,
   "metadata": {
    "id": "poeprYK8h-c7",
    "scrolled": true
   },
   "outputs": [
    {
     "data": {
      "image/png": "[encoded data removed]",
      "text/plain": [
       "<Figure size 432x288 with 1 Axes>"
      ]
     },
     "metadata": {
      "needs_background": "light"
     },
     "output_type": "display_data"
    }
   ],
   "source": [
    "plot_graphs(history, 'loss')"
   ]
  },
  {
   "cell_type": "markdown",
   "metadata": {},
   "source": [
    "The graph above shows that as the number of epoch increases, the training losses are declining with fluctuations. Towards epoch 30, the training losses have become more stable compared to earlier."
   ]
  },
  {
   "cell_type": "code",
   "execution_count": 11,
   "metadata": {
    "id": "6Vc6PHgxa6Hm"
   },
   "outputs": [
    {
     "name": "stdout",
     "output_type": "stream",
     "text": [
      "i was home and i have a little injury side royce been completely si si hours of the hall of the hall of the hall of the hall of the hall of the hall of up address i was legitimate anonymous calculating reports stellastarr obligated up flip firsts obligated up dyke spoken emerged aka mysql blessed up hello obligated obligated obligated halfway eveyone adrian obligated up hello obligated up eveyone djing considering eveyone gaming buffy legitimate logical worries eveyone arbor aka eveyone eveyone 32 eveyone outfit i don�t chat somewhat flipping aka chris i was i added obligated obligated up eveyone dispirited ends\n"
     ]
    }
   ],
   "source": [
    "print(text_generator('i was home', 100, \n",
    "                     tokenizer, model, max_sequence_len))"
   ]
  },
  {
   "cell_type": "markdown",
   "metadata": {},
   "source": [
    "The text generated has shown some (although very little) sentence structure in the beginning. However, later on, some repetitions in phrases can be observed, and the model starts combining irrelevant words."
   ]
  },
  {
   "cell_type": "markdown",
   "metadata": {},
   "source": [
    "### After some tuning"
   ]
  },
  {
   "cell_type": "code",
   "execution_count": 12,
   "metadata": {
    "scrolled": false
   },
   "outputs": [
    {
     "name": "stdout",
     "output_type": "stream",
     "text": [
      "Epoch 1/25\n",
      "1234/1234 [==============================] - 27s 20ms/step - loss: 6.8270 - accuracy: 0.0772\n",
      "\n",
      "Epoch 00001: loss improved from inf to 6.82696, saving model to model_weights2.hdf5\n",
      "Epoch 2/25\n",
      "1234/1234 [==============================] - 24s 20ms/step - loss: 5.9819 - accuracy: 0.12160s - loss: 5.9831 - accu\n",
      "\n",
      "Epoch 00002: loss improved from 6.82696 to 5.98190, saving model to model_weights2.hdf5\n",
      "Epoch 3/25\n",
      "1234/1234 [==============================] - 25s 20ms/step - loss: 5.2766 - accuracy: 0.1497\n",
      "\n",
      "Epoch 00003: loss improved from 5.98190 to 5.27664, saving model to model_weights2.hdf5\n",
      "Epoch 4/25\n",
      "1234/1234 [==============================] - 25s 20ms/step - loss: 4.4669 - accuracy: 0.1989\n",
      "\n",
      "Epoch 00004: loss improved from 5.27664 to 4.46686, saving model to model_weights2.hdf5\n",
      "Epoch 5/25\n",
      "1234/1234 [==============================] - 26s 21ms/step - loss: 3.6810 - accuracy: 0.2820\n",
      "\n",
      "Epoch 00005: loss improved from 4.46686 to 3.68097, saving model to model_weights2.hdf5\n",
      "Epoch 6/25\n",
      "1234/1234 [==============================] - 24s 20ms/step - loss: 3.0851 - accuracy: 0.3600\n",
      "\n",
      "Epoch 00006: loss improved from 3.68097 to 3.08511, saving model to model_weights2.hdf5\n",
      "Epoch 7/25\n",
      "1234/1234 [==============================] - 25s 20ms/step - loss: 2.6474 - accuracy: 0.4297\n",
      "\n",
      "Epoch 00007: loss improved from 3.08511 to 2.64736, saving model to model_weights2.hdf5\n",
      "Epoch 8/25\n",
      "1234/1234 [==============================] - 24s 20ms/step - loss: 2.3252 - accuracy: 0.4844\n",
      "\n",
      "Epoch 00008: loss improved from 2.64736 to 2.32516, saving model to model_weights2.hdf5\n",
      "Epoch 9/25\n",
      "1234/1234 [==============================] - 24s 20ms/step - loss: 2.0895 - accuracy: 0.5259\n",
      "\n",
      "Epoch 00009: loss improved from 2.32516 to 2.08951, saving model to model_weights2.hdf5\n",
      "Epoch 10/25\n",
      "1234/1234 [==============================] - 24s 20ms/step - loss: 1.8999 - accuracy: 0.5621\n",
      "\n",
      "Epoch 00010: loss improved from 2.08951 to 1.89991, saving model to model_weights2.hdf5\n",
      "Epoch 11/25\n",
      "1234/1234 [==============================] - 25s 20ms/step - loss: 1.8566 - accuracy: 0.5627\n",
      "\n",
      "Epoch 00011: loss improved from 1.89991 to 1.85658, saving model to model_weights2.hdf5\n",
      "Epoch 12/25\n",
      "1234/1234 [==============================] - 25s 20ms/step - loss: 1.6656 - accuracy: 0.6038\n",
      "\n",
      "Epoch 00012: loss improved from 1.85658 to 1.66563, saving model to model_weights2.hdf5\n",
      "Epoch 13/25\n",
      "1234/1234 [==============================] - 25s 20ms/step - loss: 1.5805 - accuracy: 0.6187\n",
      "\n",
      "Epoch 00013: loss improved from 1.66563 to 1.58048, saving model to model_weights2.hdf5\n",
      "Epoch 14/25\n",
      "1234/1234 [==============================] - 25s 20ms/step - loss: 1.5223 - accuracy: 0.6277\n",
      "\n",
      "Epoch 00014: loss improved from 1.58048 to 1.52232, saving model to model_weights2.hdf5\n",
      "Epoch 15/25\n",
      "1234/1234 [==============================] - 25s 20ms/step - loss: 1.4671 - accuracy: 0.6385\n",
      "\n",
      "Epoch 00015: loss improved from 1.52232 to 1.46713, saving model to model_weights2.hdf5\n",
      "Epoch 16/25\n",
      "1234/1234 [==============================] - 25s 20ms/step - loss: 1.4191 - accuracy: 0.6486\n",
      "\n",
      "Epoch 00016: loss improved from 1.46713 to 1.41906, saving model to model_weights2.hdf5\n",
      "Epoch 17/25\n",
      "1234/1234 [==============================] - 25s 20ms/step - loss: 1.3897 - accuracy: 0.6535\n",
      "\n",
      "Epoch 00017: loss improved from 1.41906 to 1.38968, saving model to model_weights2.hdf5\n",
      "Epoch 18/25\n",
      "1234/1234 [==============================] - 25s 20ms/step - loss: 1.3605 - accuracy: 0.6581\n",
      "\n",
      "Epoch 00018: loss improved from 1.38968 to 1.36049, saving model to model_weights2.hdf5\n",
      "Epoch 19/25\n",
      "1234/1234 [==============================] - 25s 20ms/step - loss: 1.3533 - accuracy: 0.6588\n",
      "\n",
      "Epoch 00019: loss improved from 1.36049 to 1.35332, saving model to model_weights2.hdf5\n",
      "Epoch 20/25\n",
      "1234/1234 [==============================] - 25s 20ms/step - loss: 1.3278 - accuracy: 0.6629\n",
      "\n",
      "Epoch 00020: loss improved from 1.35332 to 1.32779, saving model to model_weights2.hdf5\n",
      "Epoch 21/25\n",
      "1234/1234 [==============================] - 25s 20ms/step - loss: 1.3318 - accuracy: 0.6617\n",
      "\n",
      "Epoch 00021: loss did not improve from 1.32779\n",
      "Epoch 22/25\n",
      "1234/1234 [==============================] - 25s 20ms/step - loss: 1.2998 - accuracy: 0.6680\n",
      "\n",
      "Epoch 00022: loss improved from 1.32779 to 1.29977, saving model to model_weights2.hdf5\n",
      "Epoch 23/25\n",
      "1234/1234 [==============================] - 25s 20ms/step - loss: 1.2876 - accuracy: 0.6689\n",
      "\n",
      "Epoch 00023: loss improved from 1.29977 to 1.28759, saving model to model_weights2.hdf5\n",
      "Epoch 24/25\n",
      "1234/1234 [==============================] - 25s 20ms/step - loss: 1.2728 - accuracy: 0.6717\n",
      "\n",
      "Epoch 00024: loss improved from 1.28759 to 1.27285, saving model to model_weights2.hdf5\n",
      "Epoch 25/25\n",
      "1234/1234 [==============================] - 25s 20ms/step - loss: 1.2631 - accuracy: 0.6733\n",
      "\n",
      "Epoch 00025: loss improved from 1.27285 to 1.26315, saving model to model_weights2.hdf5\n",
      "<tensorflow.python.keras.engine.sequential.Sequential object at 0x00000154A5BE4F70>\n",
      "Model: \"sequential_2\"\n",
      "_________________________________________________________________\n",
      "Layer (type)                 Output Shape              Param #   \n",
      "=================================================================\n",
      "embedding_2 (Embedding)      (None, 35, 150)           1691550   \n",
      "_________________________________________________________________\n",
      "bidirectional_4 (Bidirection (None, 400)               561600    \n",
      "_________________________________________________________________\n",
      "dense_2 (Dense)              (None, 11277)             4522077   \n",
      "=================================================================\n",
      "Total params: 6,775,227\n",
      "Trainable params: 6,775,227\n",
      "Non-trainable params: 0\n",
      "_________________________________________________________________\n",
      "None\n"
     ]
    }
   ],
   "source": [
    "# Construct the model\n",
    "model = Sequential()\n",
    "model.add(Embedding(total_words, 150, input_length=max_sequence_len-1))\n",
    "model.add(Bidirectional(LSTM(200)))\n",
    "model.add(Dense(total_words, activation='softmax'))\n",
    "adam = Adam(learning_rate=0.005)\n",
    "model.compile(loss='categorical_crossentropy', optimizer=adam, \n",
    "              metrics=['accuracy'])\n",
    "\n",
    "filepath = \"model_weights2.hdf5\"\n",
    "checkpoint = ModelCheckpoint(filepath, monitor='loss', verbose=1, \n",
    "                             save_best_only=True, mode='min')\n",
    "desired_callbacks = [checkpoint]\n",
    "\n",
    "history = model.fit(xs, ys, epochs=25, batch_size=64, verbose=1, \n",
    "                    callbacks=desired_callbacks)\n",
    "\n",
    "print(model)\n",
    "print(model.summary())"
   ]
  },
  {
   "cell_type": "code",
   "execution_count": 13,
   "metadata": {
    "scrolled": true
   },
   "outputs": [
    {
     "data": {
      "image/png": "[encoded data removed]",
      "text/plain": [
       "<Figure size 432x288 with 1 Axes>"
      ]
     },
     "metadata": {
      "needs_background": "light"
     },
     "output_type": "display_data"
    }
   ],
   "source": [
    "plot_graphs(history, 'loss')"
   ]
  },
  {
   "cell_type": "markdown",
   "metadata": {},
   "source": [
    "The above graph shows that as the number of epoch increases, the training losses have been decreasing first rapidly then steadily. When it approaches 25 epochs, the losses are becoming stable."
   ]
  },
  {
   "cell_type": "code",
   "execution_count": 14,
   "metadata": {
    "id": "6Vc6PHgxa6Hm"
   },
   "outputs": [
    {
     "name": "stdout",
     "output_type": "stream",
     "text": [
      "i was home now and when i was sitting at the dock the mall of sorrow without torment and most definitely change is conceived the bedrock of form of mine for a very long time i hated to meet up up evening ceremonies for both event based and continuous bioterrorism surveillance na lang palit ng indulgence eggs while atteint l’escalier de marbre un choc la paralysa ng kamikazee o selena i was thrilled up everyone beliefs it's night at beer yet again rks has taught me pegged a song on including unless the girl's mother goddess is the south shore expensive pictures of\n"
     ]
    }
   ],
   "source": [
    "print(text_generator('i was home', 100, \n",
    "                     tokenizer, model, max_sequence_len))"
   ]
  },
  {
   "cell_type": "markdown",
   "metadata": {},
   "source": [
    "Compared to the text generated before, the one output by the tuned model hasn't shown problems of repeating words. Moreover, some phrases can be observed in the block of text. However, it appears that the text doesn't make much sense as sentence structures are still missing."
   ]
  }
 ],
 "metadata": {
  "accelerator": "GPU",
  "colab": {
   "name": "Course 3 - Week 4 - Lesson 2 - Notebook.ipynb",
   "provenance": [],
   "toc_visible": true
  },
  "kernelspec": {
   "display_name": "Python 3",
   "language": "python",
   "name": "python3"
  },
  "language_info": {
   "codemirror_mode": {
    "name": "ipython",
    "version": 3
   },
   "file_extension": ".py",
   "mimetype": "text/x-python",
   "name": "python",
   "nbconvert_exporter": "python",
   "pygments_lexer": "ipython3",
   "version": "3.8.5"
  }
 },
 "nbformat": 4,
 "nbformat_minor": 1
}
