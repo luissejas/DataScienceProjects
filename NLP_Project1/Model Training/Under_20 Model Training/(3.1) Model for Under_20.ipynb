{
 "cells": [
  {
   "cell_type": "markdown",
   "metadata": {
    "cell_id": "00000-747367f9-7b2a-473e-b09c-f18008833ce5",
    "deepnote_cell_type": "markdown"
   },
   "source": [
    "# Text Generator Model Training"
   ]
  },
  {
   "cell_type": "markdown",
   "metadata": {
    "cell_id": "00001-afc8ba9c-51fc-4079-9bbb-a1a8a9ee85f5",
    "deepnote_cell_type": "markdown"
   },
   "source": [
    "## Note:\n",
    "- This notebook serves as the main notebook of the project in terms of its details of related concepts and model training, for the other two notebooks for training models have identical structures of processes.\n",
    "- For details of the models for the other two age groups, please refer to their corresponding training notebooks\n",
    "- For preprocessing, please refer to **(1) Initial analysis of dataset.ipynb** and the three notebooks with the prefix `Preprocessing` inside the folder named `Initial processing`.\n",
    "- For further conclusion of all three models, please refer to **Model comparison and conclusion.ipynb**\n",
    "- The numbering of the original jupyter notebook file is not ordered consecutively due to various changes made during the modelling. For reading convenience in its .pdf file, the number orders of cells have been changed using Latex."
   ]
  },
  {
   "cell_type": "markdown",
   "metadata": {
    "cell_id": "00002-cfd5fee3-b6cc-4f15-8e8d-6626461dd24d",
    "deepnote_cell_type": "markdown"
   },
   "source": [
    "## Introduction\n",
    "Considering the great size of the original dataset and time as well as computing power constraints, only a sample of it was used to train the model. Samples of two different sizes were generated for each age group's dataset: one of the length 10,000 (sentences) and one of the length 5,000 (sentences). \n",
    "\n",
    "At first, our group focus on finding a way to train the larger sample (with 10,000 sentences). After several experiments, we discover that there are two main ways of doing so: \n",
    "\n",
    "(1) using CPU to train all 10,000 observations all at once, which takes over 5 minutes for each epoch. \n",
    "Considering that the models need a lot of adjustments and we don't have much time, this approach was not considered.\n",
    "\n",
    "(2) using GPU to train the 10,000 observations in 'batches' (i.e. first train the first 3,000 instances, then train the next 3,000 instances, and so on), for, the GPU, although can speed up the training a lot, has limitations on the training data size due to a memory allocation issue.\n",
    "As shown in **(3.1.1) Multi Batch GPU-Under_20.ipynb** inside the folder `Multi Batch Trial`, this approach did not produce satisfying results, which is possibly caused by the small data size and the nature of the original dataset (for more details please refer to the said file).\n",
    "\n",
    "Therefore, we later turn to train the second sample which is half the size of the first one, as it is the limit of our GPU without encountering any issues."
   ]
  },
  {
   "cell_type": "code",
   "execution_count": 1,
   "metadata": {
    "cell_id": "00005-16b437d8-d810-4de6-ae10-8c5640693ded",
    "deepnote_cell_type": "code",
    "id": "BOwsuGQQY9OL"
   },
   "outputs": [],
   "source": [
    "import tensorflow as tf\n",
    "from tensorflow.keras.preprocessing.sequence import pad_sequences\n",
    "from tensorflow.keras.layers import Embedding, LSTM, Dense, Bidirectional, Dropout\n",
    "from tensorflow.keras.preprocessing.text import Tokenizer\n",
    "from tensorflow.keras.models import Sequential\n",
    "from tensorflow.keras.optimizers import Adam\n",
    "from keras.callbacks import ModelCheckpoint\n",
    "\n",
    "import numpy as np \n",
    "import pandas as pd\n",
    "\n",
    "import io\n",
    "import json\n",
    "import random\n",
    "import matplotlib.pyplot as plt\n",
    "\n",
    "import warnings\n",
    "warnings.filterwarnings(\"ignore\")"
   ]
  },
  {
   "cell_type": "markdown",
   "metadata": {
    "cell_id": "00007-2676fbd2-be16-4418-bbb5-d78d5672fcef",
    "deepnote_cell_type": "markdown"
   },
   "source": [
    "## I. Tokenization\n",
    "\n",
    "To prepare the text for the model training, its words need to be encoded first using a process called **tokenization**. Tokenization creates a vocabulary index based on word frequency. \n",
    "It will create a dictionary in which every word of the input text gets a unique integer value (0 is reserved for padding). Lower integer means more frequent word (often the first few are stop words because they appear a lot). Later, each piece of text is transformed to a sequence of integers, according to the dictionary created above. \n",
    "\n",
    "Below is a simple example of tokenization of two sentences that have some words in common:"
   ]
  },
  {
   "cell_type": "markdown",
   "metadata": {},
   "source": [
    "|          |              |        |      |         |          |            |            |\n",
    "|----------|:------------:|:------:|:----:|:-------:|:--------:|:----------:|:----------:|\n",
    "| Text #1  |      Natural     | Language |  Processing | is | super | fun |            |\n",
    "| Index #1 |      1      |   2   |  3  |    4   |    5    |     6     |            |\n",
    "| Text #2  | Tokenization |   is   | used |    in   |  Natural |  Language  | Processing |\n",
    "| Index #2 |      7      |   4   |  8  |    9   |    1    |     2     |     3     |"
   ]
  },
  {
   "cell_type": "markdown",
   "metadata": {},
   "source": [
    "In this short example, it can be seen that the words \"Natural\", \"Language\", \"Processing\", and \"is\" have the same index in the two sentences, while the other words are assigned with other integers for their representations."
   ]
  },
  {
   "cell_type": "code",
   "execution_count": 2,
   "metadata": {
    "cell_id": "00008-4c1b5d62-c0f1-4eb1-85a4-0f3c049dd57f",
    "deepnote_cell_type": "code",
    "id": "PRnDnCW-Z7qv"
   },
   "outputs": [
    {
     "name": "stdout",
     "output_type": "stream",
     "text": [
      "Number of sentences in the dataset: 5000\n",
      "There are 10663 unique words in total\n"
     ]
    }
   ],
   "source": [
    "# Create an instance object of the tokenizer\n",
    "tokenizer = Tokenizer()\n",
    "\n",
    "data = pd.read_csv('../../Data/sample2_under_20.csv')\n",
    "print(\"Number of sentences in the dataset:\", data.shape[0])\n",
    "\n",
    "corpus = data['0'].tolist()\n",
    "del data\n",
    "\n",
    "# Tokenize the sentences\n",
    "tokenizer.fit_on_texts(corpus)\n",
    "\n",
    "# To define the total number of words for machine processing, 1 is \n",
    "# added to the word index of the tokenizer created for the text \n",
    "# due to the inclusion of '0' used in padding\n",
    "total_words = len(tokenizer.word_index) + 1\n",
    "\n",
    "print('There are %d unique words in total' %(total_words-1))"
   ]
  },
  {
   "cell_type": "code",
   "execution_count": 4,
   "metadata": {
    "cell_id": "00009-0fc14628-ad10-4968-8427-ab6d482bd98b",
    "deepnote_cell_type": "code"
   },
   "outputs": [],
   "source": [
    "# Save tokenizer\n",
    "tokenizer_json = tokenizer.to_json()\n",
    "with io.open('tokenizer.json', 'w', encoding='utf-8') as f:\n",
    "    f.write(json.dumps(tokenizer_json, ensure_ascii=False))"
   ]
  },
  {
   "cell_type": "markdown",
   "metadata": {
    "cell_id": "00010-1f60c605-147a-43cb-97a4-05738dae92df",
    "deepnote_cell_type": "markdown"
   },
   "source": [
    "## II. n-gram and Padding\n",
    "As the model is intended to generate text, it's essentially performing predictions on a word-by-word basis, meaning that it should be able to predict the next word based on the previous words. Therefore, the concept of **n-gram** is involved in the preprocessing, which is basically taking subsets of different lengths of the same sentences so that they can be later treated as different training instances.\n",
    "\n",
    "For example, for the sentence \"NLP stands for Natural Language Processing,\" it will be divided into the following subsets (the following table is using actual words to better illustrate, while the machine will perform this step using their word indices):"
   ]
  },
  {
   "cell_type": "markdown",
   "metadata": {},
   "source": [
    "|     |        |     |         |          |            |\n",
    "|:---:|:------:|:---:|:-------:|:--------:|:----------:|\n",
    "| Natural | Language |     |         |          |            |\n",
    "| Natural | Language | Processing |         |          |            |\n",
    "| Natural | Language | Processing | is |          |            |\n",
    "| Natural | Language | Processing | is | super |            |\n",
    "| Natural | Language | Processing | is | super | fun |"
   ]
  },
  {
   "cell_type": "markdown",
   "metadata": {},
   "source": [
    "In this way, these subsets will be later divided into predictors (the first until the second-to-last words) and target outputs (the last words) for model training."
   ]
  },
  {
   "cell_type": "markdown",
   "metadata": {},
   "source": [
    "**Padding** is a way to standardise the lengths of the text, after the masking is completed with the tokenizer above. \n",
    "Basically, it just adds as many 0s as needed to the end (or front) of each text, to match the longest sentence.\n",
    "\n",
    "Below is a simple example of padding using the two sentences above. As the second sentence is the longer one, only the first sentence will need padding, and only one 0 will be enough for its padding. This 0 can be added to the end or the front of text #1, and in this case, it's added to the front of the sentence:"
   ]
  },
  {
   "cell_type": "markdown",
   "metadata": {},
   "source": [
    "|          |              |        |      |         |          |            |            |\n",
    "|----------|:------------:|:------:|:----:|:-------:|:--------:|:----------:|:----------:|\n",
    "| Text #1  |      Natural     | Language |  Processing | is | super | fun |            |\n",
    "| Index #1 |      1      |   2   |  3  |    4   |    5    |     6     |            |\n",
    "| Padded text #1 | 0      |   1   |  2  |    3   |    4  |    5     |    6       |\n",
    "| Text #2  | Tokenization |   is   | used |    in   |  Natural |  Language  | Processing |\n",
    "| Index #2 |      7      |   4   |  8  |    9   |    1    |    2     |     3    |"
   ]
  },
  {
   "cell_type": "code",
   "execution_count": 3,
   "metadata": {
    "cell_id": "00011-165ef40f-1c57-481e-8638-db3a7cba172a",
    "deepnote_cell_type": "code"
   },
   "outputs": [
    {
     "name": "stdout",
     "output_type": "stream",
     "text": [
      "The longest sentence has 35 words\n"
     ]
    }
   ],
   "source": [
    "input_sequences = []\n",
    "for line in corpus: # iterate through the list of sentences\n",
    "    # For each sentence, use the tokenizer to encode it into \n",
    "    # a sequence of numbers (word indices)\n",
    "    token_list = tokenizer.texts_to_sequences([line])[0]\n",
    "    \n",
    "    for i in range(1, len(token_list)): # iterate through the word \n",
    "                                        # indices of the sentence\n",
    "        n_gram_sequence = token_list[:i+1] # create subset of the sentence\n",
    "        input_sequences.append(n_gram_sequence)\n",
    "\n",
    "# Determine the largest length of all sentences\n",
    "max_sequence_len = max([len(x) for x in input_sequences]) \n",
    "print('The longest sentence has %d words' %max_sequence_len)\n",
    "\n",
    "# Pad sequences (to the front)\n",
    "input_sequences = np.array(pad_sequences(input_sequences, \n",
    "                                         maxlen=max_sequence_len, padding='pre'))\n",
    "\n",
    "# Create predictors and labels\n",
    "xs, labels = input_sequences[:,:-1],input_sequences[:,-1]\n",
    "\n",
    "# One-hot encode the labels (target output)\n",
    "ys = tf.keras.utils.to_categorical(labels, num_classes=total_words)"
   ]
  },
  {
   "cell_type": "markdown",
   "metadata": {
    "cell_id": "00012-fc750cb6-cc4a-43c3-b9b9-dcbd934f61bf",
    "deepnote_cell_type": "markdown"
   },
   "source": [
    "## III. Other preparations: functions"
   ]
  },
  {
   "cell_type": "code",
   "execution_count": 6,
   "metadata": {
    "cell_id": "00013-e00f846a-1b96-430a-8d92-2f0665825444",
    "deepnote_cell_type": "code",
    "id": "3YXGelKThoTT"
   },
   "outputs": [],
   "source": [
    "# Plot accuracy/loss graphs after model training finishes\n",
    "def plot_graphs(history, string):\n",
    "    plt.plot(history.history[string])\n",
    "    plt.title(string + \" changes over epochs\")\n",
    "    plt.xlabel(\"Epochs\")\n",
    "    plt.ylabel(string)\n",
    "    plt.show()"
   ]
  },
  {
   "cell_type": "code",
   "execution_count": 7,
   "metadata": {
    "cell_id": "00015-08ec03e9-5c9c-4882-b4c7-e77e38b6aa31",
    "deepnote_cell_type": "code"
   },
   "outputs": [],
   "source": [
    "def text_generator(seed_text, next_words, tokenizer, \n",
    "                   model, max_sequence_len):\n",
    "    '''\n",
    "    Returns a block of text generated using a trained model.\n",
    "    \n",
    "    Parameters:\n",
    "        seed_text (str): several words to start the block of text\n",
    "        next_words (int): number of generated words desired\n",
    "        tokenizer: tokenizer of the trained model\n",
    "        model: trained model for text generation\n",
    "        max_sequence_len: the biggest length of the sentences fed to the model\n",
    "    '''\n",
    "    for w in range(next_words):\n",
    "        # Tokenize the previous words (i.e. the starting words when the \n",
    "        # text generation first begins)\n",
    "        token_list = tokenizer.texts_to_sequences([seed_text])[0]\n",
    "        # Pad sequences\n",
    "        token_list = pad_sequences([token_list], maxlen=max_sequence_len-1, \n",
    "                                   padding='pre')\n",
    "        # Generate model predictions based on the padded sequences\n",
    "        predicted = model.predict_classes(token_list, verbose=0)\n",
    "        output_word = \"\"\n",
    "        for word, index in tokenizer.word_index.items():\n",
    "            # Look for the corresponding word of the predicted word index \n",
    "            # output by the model above\n",
    "            if index == predicted:\n",
    "                output_word = word\n",
    "                break\n",
    "        # Add the predicted word\n",
    "        seed_text += \" \" + output_word\n",
    "    return seed_text"
   ]
  },
  {
   "cell_type": "markdown",
   "metadata": {
    "cell_id": "00017-485d83b2-4c5f-4e5a-908b-637e9f829f73",
    "deepnote_cell_type": "markdown"
   },
   "source": [
    "## IV. Model Training\n",
    "### i. Word Embedding\n",
    "After different words are encoded using word indices (tokenization), the machine is able to process them. However, another issue remains that the machine is unable to capture the meanings. Therefore, the method of **embedding** is used to represent each word as a vector so that words having similar meanings can be represented as vectors close to each other in the vector space. \n",
    "\n",
    "### ii. Recurrent Neural Network (RNN)\n",
    "When encountered with data involving \"contexts\", such as time-series data or language-related data, traditional neural networks are usually very ineffective, for they are unable to utilize the previous information for the next prediction. In comparison, **Recurrent Neural Network** proves to be much more effective in training these types of data, for it can additionally \"memorize\" the previous information and use it later. Essentially, RNN maintains an internal state about the steps it has seen so far, which enables it to retain some 'context' that is useful for time-series and Natural Language Processing. \n",
    "\n",
    "**Long Short Term Memory networks (LSTM)** are a type of RNN which tries to manage short and long term memory efficiently, by forgetting unimportant events after certain periods. LSTM also has further variations, one of which, called **Bidirectional LSTM**, is also used in this project. Bidirectionality refers to a model which runs on both the as-is as well as reversed versions of the sequence. \n",
    "\n",
    "For more details regarding RNN and LSTM, one can refer to resources such as https://colah.github.io/posts/2015-08-Understanding-LSTMs/\n",
    "\n",
    "### Notes:\n",
    "For simplicity, only two models are shown in this notebook, the first one being the initial model and the second being the final model after several tunings. Both models involve using an Embedding layer in the beginning and a Dense layer with the softmax activation function in the end. The tunings (the detailed steps are not shown in here) involve adjusting:\n",
    "- the number of *layers in between and their node numbers*\n",
    "- the usage of *Dropout layers*\n",
    "- the usage of *regularization*\n",
    "- the type of *optimizer*\n",
    "- the value of *learning rate*\n",
    "\n",
    "### (1) Initial model"
   ]
  },
  {
   "cell_type": "code",
   "execution_count": 11,
   "metadata": {
    "cell_id": "00018-46e544d9-7bdd-460b-9689-e04363a4a228",
    "deepnote_cell_type": "code",
    "id": "soPGVheskaQP",
    "scrolled": false
   },
   "outputs": [
    {
     "name": "stdout",
     "output_type": "stream",
     "text": [
      "Epoch 1/30\n",
      "1214/1214 [==============================] - 47s 29ms/step - loss: 8.2462 - accuracy: 0.0298\n",
      "\n",
      "Epoch 00001: loss improved from inf to 8.24624, saving model to model_weights2.hdf5\n",
      "Epoch 2/30\n",
      "1214/1214 [==============================] - 37s 30ms/step - loss: 9.4944 - accuracy: 0.0288\n",
      "\n",
      "Epoch 00002: loss did not improve from 8.24624\n",
      "Epoch 3/30\n",
      "1214/1214 [==============================] - 37s 31ms/step - loss: 9.4619 - accuracy: 0.0332\n",
      "\n",
      "Epoch 00003: loss did not improve from 8.24624\n",
      "Epoch 4/30\n",
      "1214/1214 [==============================] - 36s 30ms/step - loss: 8.8561 - accuracy: 0.03760s - los\n",
      "\n",
      "Epoch 00004: loss did not improve from 8.24624\n",
      "Epoch 5/30\n",
      "1214/1214 [==============================] - 36s 29ms/step - loss: 8.3087 - accuracy: 0.0438\n",
      "\n",
      "Epoch 00005: loss did not improve from 8.24624\n",
      "Epoch 6/30\n",
      "1214/1214 [==============================] - 36s 30ms/step - loss: 7.9091 - accuracy: 0.0471\n",
      "\n",
      "Epoch 00006: loss improved from 8.24624 to 7.90909, saving model to model_weights2.hdf5\n",
      "Epoch 7/30\n",
      "1214/1214 [==============================] - 36s 30ms/step - loss: 7.5519 - accuracy: 0.05570s - loss: 7\n",
      "\n",
      "Epoch 00007: loss improved from 7.90909 to 7.55187, saving model to model_weights2.hdf5\n",
      "Epoch 8/30\n",
      "1214/1214 [==============================] - 36s 30ms/step - loss: 7.0944 - accuracy: 0.0638\n",
      "\n",
      "Epoch 00008: loss improved from 7.55187 to 7.09444, saving model to model_weights2.hdf5\n",
      "Epoch 9/30\n",
      "1214/1214 [==============================] - 36s 30ms/step - loss: 6.8023 - accuracy: 0.0688\n",
      "\n",
      "Epoch 00009: loss improved from 7.09444 to 6.80227, saving model to model_weights2.hdf5\n",
      "Epoch 10/30\n",
      "1214/1214 [==============================] - 36s 30ms/step - loss: 6.5968 - accuracy: 0.07190s - loss: 6.5971 - accuracy: 0.07 - ETA: 0s - loss: 6.5968 - accuracy: \n",
      "\n",
      "Epoch 00010: loss improved from 6.80227 to 6.59679, saving model to model_weights2.hdf5\n",
      "Epoch 11/30\n",
      "1214/1214 [==============================] - 36s 30ms/step - loss: 6.5149 - accuracy: 0.0737\n",
      "\n",
      "Epoch 00011: loss improved from 6.59679 to 6.51490, saving model to model_weights2.hdf5\n",
      "Epoch 12/30\n",
      "1214/1214 [==============================] - 36s 30ms/step - loss: 6.4628 - accuracy: 0.0753\n",
      "\n",
      "Epoch 00012: loss improved from 6.51490 to 6.46283, saving model to model_weights2.hdf5\n",
      "Epoch 13/30\n",
      "1214/1214 [==============================] - 36s 30ms/step - loss: 6.4061 - accuracy: 0.0755\n",
      "\n",
      "Epoch 00013: loss improved from 6.46283 to 6.40605, saving model to model_weights2.hdf5\n",
      "Epoch 14/30\n",
      "1214/1214 [==============================] - 36s 30ms/step - loss: 6.3394 - accuracy: 0.0776\n",
      "\n",
      "Epoch 00014: loss improved from 6.40605 to 6.33936, saving model to model_weights2.hdf5\n",
      "Epoch 15/30\n",
      "1214/1214 [==============================] - 36s 30ms/step - loss: 6.2762 - accuracy: 0.0794\n",
      "\n",
      "Epoch 00015: loss improved from 6.33936 to 6.27621, saving model to model_weights2.hdf5\n",
      "Epoch 16/30\n",
      "1214/1214 [==============================] - 36s 30ms/step - loss: 6.2309 - accuracy: 0.0799\n",
      "\n",
      "Epoch 00016: loss improved from 6.27621 to 6.23095, saving model to model_weights2.hdf5\n",
      "Epoch 17/30\n",
      "1214/1214 [==============================] - 37s 30ms/step - loss: 6.2009 - accuracy: 0.0800\n",
      "\n",
      "Epoch 00017: loss improved from 6.23095 to 6.20088, saving model to model_weights2.hdf5\n",
      "Epoch 18/30\n",
      "1214/1214 [==============================] - 37s 30ms/step - loss: 6.1726 - accuracy: 0.0817\n",
      "\n",
      "Epoch 00018: loss improved from 6.20088 to 6.17264, saving model to model_weights2.hdf5\n",
      "Epoch 19/30\n",
      "1214/1214 [==============================] - 37s 31ms/step - loss: 6.1419 - accuracy: 0.0830\n",
      "\n",
      "Epoch 00019: loss improved from 6.17264 to 6.14189, saving model to model_weights2.hdf5\n",
      "Epoch 20/30\n",
      "1214/1214 [==============================] - 37s 30ms/step - loss: 6.1134 - accuracy: 0.08160s\n",
      "\n",
      "Epoch 00020: loss improved from 6.14189 to 6.11341, saving model to model_weights2.hdf5\n",
      "Epoch 21/30\n",
      "1214/1214 [==============================] - 37s 30ms/step - loss: 6.1071 - accuracy: 0.0820\n",
      "\n",
      "Epoch 00021: loss improved from 6.11341 to 6.10710, saving model to model_weights2.hdf5\n",
      "Epoch 22/30\n",
      "1214/1214 [==============================] - 37s 30ms/step - loss: 6.0890 - accuracy: 0.0842\n",
      "\n",
      "Epoch 00022: loss improved from 6.10710 to 6.08905, saving model to model_weights2.hdf5\n",
      "Epoch 23/30\n",
      "1214/1214 [==============================] - 37s 30ms/step - loss: 6.0751 - accuracy: 0.0841\n",
      "\n",
      "Epoch 00023: loss improved from 6.08905 to 6.07506, saving model to model_weights2.hdf5\n",
      "Epoch 24/30\n",
      "1214/1214 [==============================] - 36s 30ms/step - loss: 6.0610 - accuracy: 0.0841\n",
      "\n",
      "Epoch 00024: loss improved from 6.07506 to 6.06103, saving model to model_weights2.hdf5\n",
      "Epoch 25/30\n",
      "1214/1214 [==============================] - 37s 30ms/step - loss: 6.0359 - accuracy: 0.0838\n",
      "\n",
      "Epoch 00025: loss improved from 6.06103 to 6.03595, saving model to model_weights2.hdf5\n",
      "Epoch 26/30\n",
      "1214/1214 [==============================] - 37s 30ms/step - loss: 6.0242 - accuracy: 0.0839\n",
      "\n",
      "Epoch 00026: loss improved from 6.03595 to 6.02418, saving model to model_weights2.hdf5\n",
      "Epoch 27/30\n",
      "1214/1214 [==============================] - 36s 30ms/step - loss: 5.9953 - accuracy: 0.0854\n",
      "\n",
      "Epoch 00027: loss improved from 6.02418 to 5.99527, saving model to model_weights2.hdf5\n",
      "Epoch 28/30\n",
      "1214/1214 [==============================] - 37s 30ms/step - loss: 5.9876 - accuracy: 0.0858\n",
      "\n",
      "Epoch 00028: loss improved from 5.99527 to 5.98758, saving model to model_weights2.hdf5\n",
      "Epoch 29/30\n",
      "1214/1214 [==============================] - 37s 30ms/step - loss: 5.9740 - accuracy: 0.0850\n",
      "\n",
      "Epoch 00029: loss improved from 5.98758 to 5.97399, saving model to model_weights2.hdf5\n",
      "Epoch 30/30\n",
      "1214/1214 [==============================] - 37s 30ms/step - loss: 5.9543 - accuracy: 0.0865\n",
      "\n",
      "Epoch 00030: loss improved from 5.97399 to 5.95434, saving model to model_weights2.hdf5\n",
      "<tensorflow.python.keras.engine.sequential.Sequential object at 0x0000027B9996AF10>\n",
      "Model: \"sequential_1\"\n",
      "_________________________________________________________________\n",
      "Layer (type)                 Output Shape              Param #   \n",
      "=================================================================\n",
      "embedding_1 (Embedding)      (None, 34, 150)           1599600   \n",
      "_________________________________________________________________\n",
      "bidirectional_1 (Bidirection (None, 34, 400)           561600    \n",
      "_________________________________________________________________\n",
      "dropout (Dropout)            (None, 34, 400)           0         \n",
      "_________________________________________________________________\n",
      "bidirectional_2 (Bidirection (None, 400)               961600    \n",
      "_________________________________________________________________\n",
      "dropout_1 (Dropout)          (None, 400)               0         \n",
      "_________________________________________________________________\n",
      "dense (Dense)                (None, 10664)             4276264   \n",
      "=================================================================\n",
      "Total params: 7,399,064\n",
      "Trainable params: 7,399,064\n",
      "Non-trainable params: 0\n",
      "_________________________________________________________________\n",
      "None\n"
     ]
    }
   ],
   "source": [
    "# Construct the initial model\n",
    "model = Sequential()\n",
    "model.add(Embedding(total_words, 150, # the vectors representing words have\n",
    "                                      # a length of 150\n",
    "                    input_length=max_sequence_len-1))\n",
    "model.add(Bidirectional(LSTM(200, return_sequences = True)))\n",
    "model.add(Dropout(0.2))\n",
    "model.add(Bidirectional(LSTM(200)))\n",
    "model.add(Dropout(0.2))\n",
    "model.add(Dense(total_words, activation='softmax'))\n",
    "adam = Adam(learning_rate=0.01)\n",
    "model.compile(loss='categorical_crossentropy', optimizer=adam, \n",
    "              metrics=['accuracy'])\n",
    "\n",
    "# Save the model\n",
    "filepath = \"model_weights.hdf5\"\n",
    "checkpoint = ModelCheckpoint(filepath, monitor='loss', verbose=1, \n",
    "                             save_best_only=True, mode='min')\n",
    "desired_callbacks = [checkpoint]\n",
    "\n",
    "history = model.fit(xs, ys, epochs=30, batch_size=64, verbose=1, \n",
    "                    callbacks=desired_callbacks)\n",
    "\n",
    "print(model)\n",
    "print(model.summary())"
   ]
  },
  {
   "cell_type": "code",
   "execution_count": 13,
   "metadata": {
    "cell_id": "00019-14e88b0f-4a1c-474e-bee2-5e2e8b6b8bfe",
    "deepnote_cell_type": "code",
    "id": "poeprYK8h-c7",
    "scrolled": true
   },
   "outputs": [
    {
     "data": {
      "image/png": "[encoded data removed]",
      "text/plain": [
       "<Figure size 432x288 with 1 Axes>"
      ]
     },
     "metadata": {
      "image/png": {
       "height": 278,
       "width": 387
      },
      "needs_background": "light"
     },
     "output_type": "display_data"
    }
   ],
   "source": [
    "plot_graphs(history, 'loss')"
   ]
  },
  {
   "cell_type": "markdown",
   "metadata": {},
   "source": [
    "The plot above shows the changes of training losses over the 30 epochs. It can be seen that the losses first increase in the first 3 epochs, which then decreased rapidly until epoch 10. Afterwards, the losses decreased slowly became stable when it approaches 30 epochs."
   ]
  },
  {
   "cell_type": "code",
   "execution_count": 14,
   "metadata": {
    "cell_id": "00020-96f18537-ff34-4756-a01f-49268c38f088",
    "deepnote_cell_type": "code",
    "id": "6Vc6PHgxa6Hm"
   },
   "outputs": [
    {
     "name": "stdout",
     "output_type": "stream",
     "text": [
      "i was home and i was a little of the whole of the whole of the whole of the whole of the whole of the whole of the whole of the life shit at him him him him him him him him him him him him him him him him him him him him him him him him him him him him him him him him him him him him him him him him him him him him him him him him him him him him him him him him him him him him him him him him him him him him him\n"
     ]
    }
   ],
   "source": [
    "print(text_generator('i was home', 100, \n",
    "                     tokenizer, model, max_sequence_len))"
   ]
  },
  {
   "cell_type": "markdown",
   "metadata": {},
   "source": [
    "It can be seen that the texts generated by the initial model have a lot of word repetitions, which calls for further tuning as shown below."
   ]
  },
  {
   "cell_type": "markdown",
   "metadata": {
    "cell_id": "00021-b24a1a93-2c66-400e-83ac-891c37697594",
    "deepnote_cell_type": "markdown"
   },
   "source": [
    "### (2) After some tuning"
   ]
  },
  {
   "cell_type": "code",
   "execution_count": 54,
   "metadata": {
    "cell_id": "00022-62c11668-bf0e-4370-a24f-fd535617a04f",
    "deepnote_cell_type": "code",
    "scrolled": false
   },
   "outputs": [
    {
     "name": "stdout",
     "output_type": "stream",
     "text": [
      "Epoch 1/25\n",
      "1214/1214 [==============================] - 22s 16ms/step - loss: 6.7461 - accuracy: 0.0746\n",
      "\n",
      "Epoch 00001: loss improved from inf to 6.74614, saving model to model_weights117.hdf5\n",
      "Epoch 2/25\n",
      "1214/1214 [==============================] - 19s 16ms/step - loss: 5.8955 - accuracy: 0.1180\n",
      "\n",
      "Epoch 00002: loss improved from 6.74614 to 5.89552, saving model to model_weights117.hdf5\n",
      "Epoch 3/25\n",
      "1214/1214 [==============================] - 20s 16ms/step - loss: 5.2114 - accuracy: 0.1451\n",
      "\n",
      "Epoch 00003: loss improved from 5.89552 to 5.21139, saving model to model_weights117.hdf5\n",
      "Epoch 4/25\n",
      "1214/1214 [==============================] - 20s 16ms/step - loss: 4.3986 - accuracy: 0.1889\n",
      "\n",
      "Epoch 00004: loss improved from 5.21139 to 4.39860, saving model to model_weights117.hdf5\n",
      "Epoch 5/25\n",
      "1214/1214 [==============================] - 20s 16ms/step - loss: 3.5887 - accuracy: 0.2801\n",
      "\n",
      "Epoch 00005: loss improved from 4.39860 to 3.58872, saving model to model_weights117.hdf5\n",
      "Epoch 6/25\n",
      "1214/1214 [==============================] - 20s 16ms/step - loss: 2.9784 - accuracy: 0.3680\n",
      "\n",
      "Epoch 00006: loss improved from 3.58872 to 2.97840, saving model to model_weights117.hdf5\n",
      "Epoch 7/25\n",
      "1214/1214 [==============================] - 20s 17ms/step - loss: 2.5490 - accuracy: 0.4387\n",
      "\n",
      "Epoch 00007: loss improved from 2.97840 to 2.54897, saving model to model_weights117.hdf5\n",
      "Epoch 8/25\n",
      "1214/1214 [==============================] - 20s 16ms/step - loss: 2.2549 - accuracy: 0.4908\n",
      "\n",
      "Epoch 00008: loss improved from 2.54897 to 2.25493, saving model to model_weights117.hdf5\n",
      "Epoch 9/25\n",
      "1214/1214 [==============================] - 20s 16ms/step - loss: 2.0277 - accuracy: 0.5328\n",
      "\n",
      "Epoch 00009: loss improved from 2.25493 to 2.02770, saving model to model_weights117.hdf5\n",
      "Epoch 10/25\n",
      "1214/1214 [==============================] - 20s 16ms/step - loss: 1.8758 - accuracy: 0.5606\n",
      "\n",
      "Epoch 00010: loss improved from 2.02770 to 1.87583, saving model to model_weights117.hdf5\n",
      "Epoch 11/25\n",
      "1214/1214 [==============================] - 20s 17ms/step - loss: 1.7571 - accuracy: 0.5819\n",
      "\n",
      "Epoch 00011: loss improved from 1.87583 to 1.75707, saving model to model_weights117.hdf5\n",
      "Epoch 12/25\n",
      "1214/1214 [==============================] - 20s 16ms/step - loss: 1.6571 - accuracy: 0.6012\n",
      "\n",
      "Epoch 00012: loss improved from 1.75707 to 1.65715, saving model to model_weights117.hdf5\n",
      "Epoch 13/25\n",
      "1214/1214 [==============================] - 20s 17ms/step - loss: 1.5794 - accuracy: 0.6129\n",
      "\n",
      "Epoch 00013: loss improved from 1.65715 to 1.57942, saving model to model_weights117.hdf5\n",
      "Epoch 14/25\n",
      "1214/1214 [==============================] - 20s 17ms/step - loss: 1.5503 - accuracy: 0.6194\n",
      "\n",
      "Epoch 00014: loss improved from 1.57942 to 1.55033, saving model to model_weights117.hdf5\n",
      "Epoch 15/25\n",
      "1214/1214 [==============================] - 20s 17ms/step - loss: 1.4836 - accuracy: 0.6328\n",
      "\n",
      "Epoch 00015: loss improved from 1.55033 to 1.48360, saving model to model_weights117.hdf5\n",
      "Epoch 16/25\n",
      "1214/1214 [==============================] - 20s 17ms/step - loss: 1.4522 - accuracy: 0.6360\n",
      "\n",
      "Epoch 00016: loss improved from 1.48360 to 1.45222, saving model to model_weights117.hdf5\n",
      "Epoch 17/25\n",
      "1214/1214 [==============================] - 20s 17ms/step - loss: 1.4236 - accuracy: 0.6419\n",
      "\n",
      "Epoch 00017: loss improved from 1.45222 to 1.42361, saving model to model_weights117.hdf5\n",
      "Epoch 18/25\n",
      "1214/1214 [==============================] - 20s 17ms/step - loss: 1.4260 - accuracy: 0.6393\n",
      "\n",
      "Epoch 00018: loss did not improve from 1.42361\n",
      "Epoch 19/25\n",
      "1214/1214 [==============================] - 20s 17ms/step - loss: 1.3878 - accuracy: 0.6459\n",
      "\n",
      "Epoch 00019: loss improved from 1.42361 to 1.38780, saving model to model_weights117.hdf5\n",
      "Epoch 20/25\n",
      "1214/1214 [==============================] - 20s 16ms/step - loss: 1.3445 - accuracy: 0.6561\n",
      "\n",
      "Epoch 00020: loss improved from 1.38780 to 1.34446, saving model to model_weights117.hdf5\n",
      "Epoch 21/25\n",
      "1214/1214 [==============================] - 20s 16ms/step - loss: 1.3478 - accuracy: 0.6556\n",
      "\n",
      "Epoch 00021: loss did not improve from 1.34446\n",
      "Epoch 22/25\n",
      "1214/1214 [==============================] - 20s 16ms/step - loss: 1.3456 - accuracy: 0.6533\n",
      "\n",
      "Epoch 00022: loss did not improve from 1.34446\n",
      "Epoch 23/25\n",
      "1214/1214 [==============================] - 20s 16ms/step - loss: 1.3421 - accuracy: 0.6558\n",
      "\n",
      "Epoch 00023: loss improved from 1.34446 to 1.34214, saving model to model_weights117.hdf5\n",
      "Epoch 24/25\n",
      "1214/1214 [==============================] - 20s 16ms/step - loss: 1.3477 - accuracy: 0.65190s - l\n",
      "\n",
      "Epoch 00024: loss did not improve from 1.34214\n",
      "Epoch 25/25\n",
      "1214/1214 [==============================] - 20s 16ms/step - loss: 1.3310 - accuracy: 0.6538\n",
      "\n",
      "Epoch 00025: loss improved from 1.34214 to 1.33101, saving model to model_weights117.hdf5\n",
      "<tensorflow.python.keras.engine.sequential.Sequential object at 0x0000028FA5F4E2E0>\n",
      "Model: \"sequential_12\"\n",
      "_________________________________________________________________\n",
      "Layer (type)                 Output Shape              Param #   \n",
      "=================================================================\n",
      "embedding_12 (Embedding)     (None, 34, 100)           1066400   \n",
      "_________________________________________________________________\n",
      "bidirectional_12 (Bidirectio (None, 400)               481600    \n",
      "_________________________________________________________________\n",
      "dense_12 (Dense)             (None, 10664)             4276264   \n",
      "=================================================================\n",
      "Total params: 5,824,264\n",
      "Trainable params: 5,824,264\n",
      "Non-trainable params: 0\n",
      "_________________________________________________________________\n",
      "None\n"
     ]
    }
   ],
   "source": [
    "# Construct the model\n",
    "model = Sequential()\n",
    "model.add(Embedding(total_words, 100, # Length of vector used in embedding\n",
    "                                      # is reduced from 150 to 100\n",
    "                    input_length=max_sequence_len-1))\n",
    "model.add(Bidirectional(LSTM(200))) # Only one bidirectional LSTM is \n",
    "                                    # used without Dropout\n",
    "model.add(Dense(total_words, activation='softmax'))\n",
    "adam = Adam(learning_rate=0.005) # Learning rate is decreased\n",
    "model.compile(loss='categorical_crossentropy', optimizer=adam, \n",
    "              metrics=['accuracy'])\n",
    "\n",
    "# Save the second model\n",
    "filepath = \"model_weights2.hdf5\"\n",
    "checkpoint = ModelCheckpoint(filepath, monitor='loss', verbose=1, \n",
    "                             save_best_only=True, mode='min')\n",
    "desired_callbacks = [checkpoint]\n",
    "\n",
    "history = model.fit(xs, ys, epochs=25, batch_size=64, verbose=1, \n",
    "                    callbacks=desired_callbacks)\n",
    "\n",
    "print(model)\n",
    "print(model.summary())"
   ]
  },
  {
   "cell_type": "code",
   "execution_count": 85,
   "metadata": {
    "cell_id": "00023-f4060d42-3173-45cc-bcfb-fcc17f8032a1",
    "deepnote_cell_type": "code",
    "scrolled": true
   },
   "outputs": [
    {
     "data": {
      "image/png": "[encoded data removed]",
      "text/plain": [
       "<Figure size 432x288 with 1 Axes>"
      ]
     },
     "metadata": {
      "image/png": {
       "height": 278,
       "width": 380
      },
      "needs_background": "light"
     },
     "output_type": "display_data"
    }
   ],
   "source": [
    "plot_graphs(history, 'loss')"
   ]
  },
  {
   "cell_type": "markdown",
   "metadata": {},
   "source": [
    "The above graph shows that as the number of epoch increases, the training losses have been decreasing first rapidly then steadily. When it approaches 25 epochs, the losses are becoming stable."
   ]
  },
  {
   "cell_type": "code",
   "execution_count": 12,
   "metadata": {
    "cell_id": "00024-442873ba-317c-4920-b74c-0555afff7eab",
    "deepnote_cell_type": "code"
   },
   "outputs": [
    {
     "name": "stdout",
     "output_type": "stream",
     "text": [
      "i was home and bastards for the ever time in alone from hung when i was still tired and i would desk a nick libra look lazing on an ones comming and until use reach late out of the fat and college watched a shows is going to day utilize and her until the is off the send sign in a called and a better contrasted to emo answered and seeing to my house forward i was just ovulation about i had my married a did for me and i without to bad 45 stand and give the easy hear the slow i\n"
     ]
    }
   ],
   "source": [
    "print(text_generator('i was home', 100, tokenizer, model_1, max_sequence_len))"
   ]
  },
  {
   "cell_type": "markdown",
   "metadata": {
    "cell_id": "00025-24a63d65-47b3-49df-85a1-da8a9b39334f",
    "deepnote_cell_type": "code"
   },
   "source": [
    "Compared to the text generated before, the one output by the tuned model hasn't shown problems of repeating words. Moreover, some phrases can be observed in the block of text. However, it appears that the text doesn't make much sense as sentence structures are still missing."
   ]
  }
 ],
 "metadata": {
  "accelerator": "GPU",
  "colab": {
   "name": "Course 3 - Week 4 - Lesson 2 - Notebook.ipynb",
   "provenance": [],
   "toc_visible": true
  },
  "deepnote": {},
  "deepnote_execution_queue": [],
  "deepnote_notebook_id": "6076a159-ab5a-4771-a836-5f8518d260c1",
  "kernelspec": {
   "display_name": "Python 3",
   "language": "python",
   "name": "python3"
  },
  "language_info": {
   "codemirror_mode": {
    "name": "ipython",
    "version": 3
   },
   "file_extension": ".py",
   "mimetype": "text/x-python",
   "name": "python",
   "nbconvert_exporter": "python",
   "pygments_lexer": "ipython3",
   "version": "3.8.5"
  }
 },
 "nbformat": 4,
 "nbformat_minor": 1
}
