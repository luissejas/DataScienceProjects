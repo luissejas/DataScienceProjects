{
 "cells": [
  {
   "cell_type": "markdown",
   "metadata": {},
   "source": [
    "## Note:\n",
    "For more details regarding the steps involved in this notebook, please refer to **(3.1) Model for Under_20.ipynb**"
   ]
  },
  {
   "cell_type": "code",
   "execution_count": 1,
   "metadata": {
    "id": "BOwsuGQQY9OL"
   },
   "outputs": [],
   "source": [
    "import tensorflow as tf\n",
    "from tensorflow.keras.preprocessing.sequence import pad_sequences\n",
    "from tensorflow.keras.layers import Embedding, LSTM, Dense, Bidirectional, Dropout\n",
    "from tensorflow.keras.preprocessing.text import Tokenizer\n",
    "from tensorflow.keras.models import Sequential\n",
    "from tensorflow.keras.optimizers import Adam\n",
    "from keras.callbacks import ModelCheckpoint\n",
    "\n",
    "import numpy as np \n",
    "import pandas as pd\n",
    "\n",
    "import io\n",
    "import json\n",
    "import random\n",
    "import matplotlib.pyplot as plt\n",
    "\n",
    "import warnings\n",
    "warnings.filterwarnings(\"ignore\")"
   ]
  },
  {
   "cell_type": "code",
   "execution_count": 2,
   "metadata": {
    "id": "PRnDnCW-Z7qv"
   },
   "outputs": [
    {
     "name": "stdout",
     "output_type": "stream",
     "text": [
      "Number of sentences in the dataset: 5000\n",
      "There are 11662 unique words in total\n"
     ]
    }
   ],
   "source": [
    "tokenizer = Tokenizer()\n",
    "\n",
    "data = pd.read_csv('../../Data/sample2_above30.csv')\n",
    "print(\"Number of sentences in the dataset:\", data.shape[0])\n",
    "\n",
    "corpus = data['0'].tolist()\n",
    "random.shuffle(corpus)\n",
    "\n",
    "# Tokenize the sentences\n",
    "tokenizer.fit_on_texts(corpus)\n",
    "total_words = len(tokenizer.word_index) + 1\n",
    "\n",
    "print('There are %d unique words in total' %(total_words-1))"
   ]
  },
  {
   "cell_type": "code",
   "execution_count": 3,
   "metadata": {},
   "outputs": [],
   "source": [
    "# Save tokenizer\n",
    "tokenizer_json = tokenizer.to_json()\n",
    "with io.open('tokenizer.json', 'w', encoding='utf-8') as f:\n",
    "    f.write(json.dumps(tokenizer_json, ensure_ascii=False))"
   ]
  },
  {
   "cell_type": "code",
   "execution_count": 7,
   "metadata": {},
   "outputs": [
    {
     "name": "stdout",
     "output_type": "stream",
     "text": [
      "The longest sentence has 35 words\n"
     ]
    }
   ],
   "source": [
    "input_sequences = []\n",
    "for line in corpus: # iterate through the list of sentences\n",
    "    # For each sentence, use the tokenizer to encode it into \n",
    "    # a sequence of numbers (word indices)\n",
    "    token_list = tokenizer.texts_to_sequences([line])[0]\n",
    "    \n",
    "    for i in range(1, len(token_list)): # iterate through the word \n",
    "                                        # indices of the sentence\n",
    "        n_gram_sequence = token_list[:i+1] # create subset of the sentence\n",
    "        input_sequences.append(n_gram_sequence)\n",
    "\n",
    "# Determine the largest length of all sentences\n",
    "max_sequence_len = max([len(x) for x in input_sequences]) \n",
    "print('The longest sentence has %d words' %max_sequence_len)\n",
    "\n",
    "# Pad sequences (to the front)\n",
    "input_sequences = np.array(pad_sequences(input_sequences, \n",
    "                                         maxlen=max_sequence_len, padding='pre'))\n",
    "\n",
    "# Create predictors and label\n",
    "xs, labels = input_sequences[:,:-1],input_sequences[:,-1]\n",
    "\n",
    "# One-hot encode the labels (target output)\n",
    "ys = tf.keras.utils.to_categorical(labels, num_classes=total_words)"
   ]
  },
  {
   "cell_type": "code",
   "execution_count": 5,
   "metadata": {
    "id": "3YXGelKThoTT"
   },
   "outputs": [],
   "source": [
    "def plot_graphs(history, string):\n",
    "    plt.plot(history.history[string])\n",
    "    plt.title(string + \" changes over epochs\")\n",
    "    plt.xlabel(\"Epochs\")\n",
    "    plt.ylabel(string)\n",
    "    plt.show()"
   ]
  },
  {
   "cell_type": "code",
   "execution_count": 6,
   "metadata": {},
   "outputs": [],
   "source": [
    "def text_generator(seed_text, next_words, tokenizer, \n",
    "                   model, max_sequence_len):\n",
    "    '''\n",
    "    Returns a block of text generated using a trained model.\n",
    "    \n",
    "    Parameters:\n",
    "        seed_text (str): several words to start the block of text\n",
    "        next_words (int): number of generated words desired\n",
    "        tokenizer: tokenizer of the trained model\n",
    "        model: trained model for text generation\n",
    "        max_sequence_len: the biggest length of the sentences fed to the model\n",
    "    '''\n",
    "    for w in range(next_words):\n",
    "        # Tokenize the previous words (i.e. the starting words when the \n",
    "        # text generation first begins)\n",
    "        token_list = tokenizer.texts_to_sequences([seed_text])[0]\n",
    "        # Pad sequences\n",
    "        token_list = pad_sequences([token_list], maxlen=max_sequence_len-1, \n",
    "                                   padding='pre')\n",
    "        # Generate model predictions based on the padded sequences\n",
    "        predicted = model.predict_classes(token_list, verbose=0)\n",
    "        output_word = \"\"\n",
    "        for word, index in tokenizer.word_index.items():\n",
    "            # Look for the corresponding word of the predicted word index \n",
    "            # output by the model above\n",
    "            if index == predicted:\n",
    "                output_word = word\n",
    "                break\n",
    "        # Add the predicted word\n",
    "        seed_text += \" \" + output_word\n",
    "    return seed_text"
   ]
  },
  {
   "cell_type": "markdown",
   "metadata": {},
   "source": [
    "### Initial Round"
   ]
  },
  {
   "cell_type": "code",
   "execution_count": 8,
   "metadata": {
    "id": "soPGVheskaQP",
    "scrolled": false
   },
   "outputs": [
    {
     "name": "stdout",
     "output_type": "stream",
     "text": [
      "Epoch 1/30\n",
      "1241/1241 [==============================] - 43s 27ms/step - loss: 7.7371 - accuracy: 0.0449\n",
      "\n",
      "Epoch 00001: loss improved from inf to 7.73713, saving model to model_weights.hdf5\n",
      "Epoch 2/30\n",
      "1241/1241 [==============================] - 33s 26ms/step - loss: 8.3926 - accuracy: 0.0519\n",
      "\n",
      "Epoch 00002: loss did not improve from 7.73713\n",
      "Epoch 3/30\n",
      "1241/1241 [==============================] - 32s 25ms/step - loss: 7.8149 - accuracy: 0.0559\n",
      "\n",
      "Epoch 00003: loss did not improve from 7.73713\n",
      "Epoch 4/30\n",
      "1241/1241 [==============================] - 32s 25ms/step - loss: 7.7724 - accuracy: 0.0638\n",
      "\n",
      "Epoch 00004: loss did not improve from 7.73713\n",
      "Epoch 5/30\n",
      "1241/1241 [==============================] - 32s 25ms/step - loss: 7.5946 - accuracy: 0.0674\n",
      "\n",
      "Epoch 00005: loss improved from 7.73713 to 7.59457, saving model to model_weights.hdf5\n",
      "Epoch 6/30\n",
      "1241/1241 [==============================] - 32s 26ms/step - loss: 7.9289 - accuracy: 0.0684\n",
      "\n",
      "Epoch 00006: loss did not improve from 7.59457\n",
      "Epoch 7/30\n",
      "1241/1241 [==============================] - 32s 26ms/step - loss: 7.7797 - accuracy: 0.0722\n",
      "\n",
      "Epoch 00007: loss did not improve from 7.59457\n",
      "Epoch 8/30\n",
      "1241/1241 [==============================] - 32s 26ms/step - loss: 7.8679 - accuracy: 0.0733\n",
      "\n",
      "Epoch 00008: loss did not improve from 7.59457\n",
      "Epoch 9/30\n",
      "1241/1241 [==============================] - 32s 26ms/step - loss: 7.6424 - accuracy: 0.0733\n",
      "\n",
      "Epoch 00009: loss did not improve from 7.59457\n",
      "Epoch 10/30\n",
      "1241/1241 [==============================] - 32s 26ms/step - loss: 7.7451 - accuracy: 0.0748\n",
      "\n",
      "Epoch 00010: loss did not improve from 7.59457\n",
      "Epoch 11/30\n",
      "1241/1241 [==============================] - 32s 26ms/step - loss: 7.6946 - accuracy: 0.0763\n",
      "\n",
      "Epoch 00011: loss did not improve from 7.59457\n",
      "Epoch 12/30\n",
      "1241/1241 [==============================] - 32s 26ms/step - loss: 7.7249 - accuracy: 0.0763\n",
      "\n",
      "Epoch 00012: loss did not improve from 7.59457\n",
      "Epoch 13/30\n",
      "1241/1241 [==============================] - 32s 26ms/step - loss: 7.6910 - accuracy: 0.0765\n",
      "\n",
      "Epoch 00013: loss did not improve from 7.59457\n",
      "Epoch 14/30\n",
      "1241/1241 [==============================] - 32s 26ms/step - loss: 7.7275 - accuracy: 0.0760\n",
      "\n",
      "Epoch 00014: loss did not improve from 7.59457\n",
      "Epoch 15/30\n",
      "1241/1241 [==============================] - 32s 26ms/step - loss: 7.6711 - accuracy: 0.0760\n",
      "\n",
      "Epoch 00015: loss did not improve from 7.59457\n",
      "Epoch 16/30\n",
      "1241/1241 [==============================] - 32s 26ms/step - loss: 7.6549 - accuracy: 0.0758\n",
      "\n",
      "Epoch 00016: loss did not improve from 7.59457\n",
      "Epoch 17/30\n",
      "1241/1241 [==============================] - 33s 26ms/step - loss: 7.5970 - accuracy: 0.0743\n",
      "\n",
      "Epoch 00017: loss did not improve from 7.59457\n",
      "Epoch 18/30\n",
      "1241/1241 [==============================] - 32s 26ms/step - loss: 7.6063 - accuracy: 0.0756\n",
      "\n",
      "Epoch 00018: loss did not improve from 7.59457\n",
      "Epoch 19/30\n",
      "1241/1241 [==============================] - 32s 26ms/step - loss: 7.5778 - accuracy: 0.0769\n",
      "\n",
      "Epoch 00019: loss improved from 7.59457 to 7.57782, saving model to model_weights.hdf5\n",
      "Epoch 20/30\n",
      "1241/1241 [==============================] - 32s 26ms/step - loss: 7.5711 - accuracy: 0.0777\n",
      "\n",
      "Epoch 00020: loss improved from 7.57782 to 7.57110, saving model to model_weights.hdf5\n",
      "Epoch 21/30\n",
      "1241/1241 [==============================] - 32s 26ms/step - loss: 7.5558 - accuracy: 0.0777\n",
      "\n",
      "Epoch 00021: loss improved from 7.57110 to 7.55582, saving model to model_weights.hdf5\n",
      "Epoch 22/30\n",
      "1241/1241 [==============================] - 32s 26ms/step - loss: 7.5344 - accuracy: 0.0779\n",
      "\n",
      "Epoch 00022: loss improved from 7.55582 to 7.53438, saving model to model_weights.hdf5\n",
      "Epoch 23/30\n",
      "1241/1241 [==============================] - 32s 26ms/step - loss: 7.5403 - accuracy: 0.0777\n",
      "\n",
      "Epoch 00023: loss did not improve from 7.53438\n",
      "Epoch 24/30\n",
      "1241/1241 [==============================] - 32s 26ms/step - loss: 7.5241 - accuracy: 0.0771\n",
      "\n",
      "Epoch 00024: loss improved from 7.53438 to 7.52414, saving model to model_weights.hdf5\n",
      "Epoch 25/30\n",
      "1241/1241 [==============================] - 32s 26ms/step - loss: 7.5053 - accuracy: 0.0784\n",
      "\n",
      "Epoch 00025: loss improved from 7.52414 to 7.50525, saving model to model_weights.hdf5\n",
      "Epoch 26/30\n",
      "1241/1241 [==============================] - 32s 26ms/step - loss: 7.4915 - accuracy: 0.0787\n",
      "\n",
      "Epoch 00026: loss improved from 7.50525 to 7.49151, saving model to model_weights.hdf5\n",
      "Epoch 27/30\n",
      "1241/1241 [==============================] - 32s 26ms/step - loss: 7.4951 - accuracy: 0.0766\n",
      "\n",
      "Epoch 00027: loss did not improve from 7.49151\n",
      "Epoch 28/30\n",
      "1241/1241 [==============================] - 32s 26ms/step - loss: 7.4777 - accuracy: 0.0787\n",
      "\n",
      "Epoch 00028: loss improved from 7.49151 to 7.47772, saving model to model_weights.hdf5\n",
      "Epoch 29/30\n",
      "1241/1241 [==============================] - 32s 26ms/step - loss: 7.4713 - accuracy: 0.0780\n",
      "\n",
      "Epoch 00029: loss improved from 7.47772 to 7.47130, saving model to model_weights.hdf5\n",
      "Epoch 30/30\n",
      "1241/1241 [==============================] - 32s 26ms/step - loss: 7.4664 - accuracy: 0.0797\n",
      "\n",
      "Epoch 00030: loss improved from 7.47130 to 7.46638, saving model to model_weights.hdf5\n",
      "<tensorflow.python.keras.engine.sequential.Sequential object at 0x000001ACB20B6EE0>\n",
      "Model: \"sequential\"\n",
      "_________________________________________________________________\n",
      "Layer (type)                 Output Shape              Param #   \n",
      "=================================================================\n",
      "embedding (Embedding)        (None, 34, 150)           1749450   \n",
      "_________________________________________________________________\n",
      "bidirectional (Bidirectional (None, 34, 300)           361200    \n",
      "_________________________________________________________________\n",
      "dropout (Dropout)            (None, 34, 300)           0         \n",
      "_________________________________________________________________\n",
      "bidirectional_1 (Bidirection (None, 200)               320800    \n",
      "_________________________________________________________________\n",
      "dense (Dense)                (None, 11663)             2344263   \n",
      "=================================================================\n",
      "Total params: 4,775,713\n",
      "Trainable params: 4,775,713\n",
      "Non-trainable params: 0\n",
      "_________________________________________________________________\n",
      "None\n"
     ]
    }
   ],
   "source": [
    "xs, ys = prepare_data(tokenizer, corpus, max_sequence_len)\n",
    "\n",
    "# Construct the model\n",
    "model = Sequential()\n",
    "model.add(Embedding(total_words, 150, input_length=max_sequence_len-1))\n",
    "model.add(Bidirectional(LSTM(150, return_sequences = True)))\n",
    "model.add(Dropout(0.10))\n",
    "model.add(Bidirectional(LSTM(100)))\n",
    "model.add(Dense(total_words, activation='softmax'))\n",
    "adam = Adam(learning_rate=0.01)\n",
    "model.compile(loss='categorical_crossentropy', optimizer=adam, \n",
    "              metrics=['accuracy'])\n",
    "\n",
    "filepath = \"model_weights.hdf5\"\n",
    "checkpoint = ModelCheckpoint(filepath, monitor='loss', verbose=1, \n",
    "                             save_best_only=True, mode='min')\n",
    "desired_callbacks = [checkpoint]\n",
    "\n",
    "history = model.fit(xs, ys, epochs=30, batch_size=64, verbose=1, \n",
    "                    callbacks=desired_callbacks)\n",
    "\n",
    "print(model)\n",
    "print(model.summary())"
   ]
  },
  {
   "cell_type": "code",
   "execution_count": 9,
   "metadata": {
    "id": "poeprYK8h-c7"
   },
   "outputs": [
    {
     "data": {
      "image/png": "[encoded data removed]",
      "text/plain": [
       "<Figure size 432x288 with 1 Axes>"
      ]
     },
     "metadata": {
      "needs_background": "light"
     },
     "output_type": "display_data"
    }
   ],
   "source": [
    "plot_graphs(history, 'loss')"
   ]
  },
  {
   "cell_type": "markdown",
   "metadata": {},
   "source": [
    "The graph above shows that as the number of epoch increases, the training losses are declining with fluctuations. Towards epoch 30, the training losses have become more stable compared to earlier."
   ]
  },
  {
   "cell_type": "code",
   "execution_count": 10,
   "metadata": {
    "id": "6Vc6PHgxa6Hm"
   },
   "outputs": [
    {
     "name": "stdout",
     "output_type": "stream",
     "text": [
      "i was home to register syndrome the woods to register the woods to register the woods to register the woods to register the woods to register the woods to register the woods to automate organisation to walmart a spice latest rates aloft to register unit aloft to register unit aloft to register to walmart to register walmart aj to register walmart admitting to walmart walmart admitting to walmart pleased to walmart aj switching switching rates to output to register organisation aloft to register organisation shamrock stone switching switching organisation in social organisation mountain syndrome influence to walmart switching influence 'i'm walmart walmart admitting\n"
     ]
    }
   ],
   "source": [
    "print(text_generator('i was home', 100, \n",
    "                     tokenizer, model, max_sequence_len))"
   ]
  },
  {
   "cell_type": "markdown",
   "metadata": {},
   "source": [
    "The text generated has shown some (although very little) sentence structure in the beginning. However, later on, some repetitions in phrases can be observed, and the model starts combining irrelevant words."
   ]
  },
  {
   "cell_type": "markdown",
   "metadata": {},
   "source": [
    "### After some tuning"
   ]
  },
  {
   "cell_type": "code",
   "execution_count": 11,
   "metadata": {
    "scrolled": true
   },
   "outputs": [
    {
     "name": "stdout",
     "output_type": "stream",
     "text": [
      "Epoch 1/25\n",
      "1241/1241 [==============================] - 28s 20ms/step - loss: 6.8668 - accuracy: 0.0821\n",
      "\n",
      "Epoch 00001: loss improved from inf to 6.86684, saving model to model_weights2.hdf5\n",
      "Epoch 2/25\n",
      "1241/1241 [==============================] - 25s 20ms/step - loss: 5.9929 - accuracy: 0.1204\n",
      "\n",
      "Epoch 00002: loss improved from 6.86684 to 5.99291, saving model to model_weights2.hdf5\n",
      "Epoch 3/25\n",
      "1241/1241 [==============================] - 25s 20ms/step - loss: 5.2296 - accuracy: 0.1503\n",
      "\n",
      "Epoch 00003: loss improved from 5.99291 to 5.22958, saving model to model_weights2.hdf5\n",
      "Epoch 4/25\n",
      "1241/1241 [==============================] - 25s 20ms/step - loss: 4.3601 - accuracy: 0.2049\n",
      "\n",
      "Epoch 00004: loss improved from 5.22958 to 4.36007, saving model to model_weights2.hdf5\n",
      "Epoch 5/25\n",
      "1241/1241 [==============================] - 25s 20ms/step - loss: 3.5426 - accuracy: 0.2946\n",
      "\n",
      "Epoch 00005: loss improved from 4.36007 to 3.54262, saving model to model_weights2.hdf5\n",
      "Epoch 6/25\n",
      "1241/1241 [==============================] - 25s 20ms/step - loss: 2.9374 - accuracy: 0.3830\n",
      "\n",
      "Epoch 00006: loss improved from 3.54262 to 2.93737, saving model to model_weights2.hdf5\n",
      "Epoch 7/25\n",
      "1241/1241 [==============================] - 26s 21ms/step - loss: 2.5048 - accuracy: 0.4524\n",
      "\n",
      "Epoch 00007: loss improved from 2.93737 to 2.50482, saving model to model_weights2.hdf5\n",
      "Epoch 8/25\n",
      "1241/1241 [==============================] - 25s 20ms/step - loss: 2.1956 - accuracy: 0.5077\n",
      "\n",
      "Epoch 00008: loss improved from 2.50482 to 2.19561, saving model to model_weights2.hdf5\n",
      "Epoch 9/25\n",
      "1241/1241 [==============================] - 25s 20ms/step - loss: 1.9660 - accuracy: 0.5485\n",
      "\n",
      "Epoch 00009: loss improved from 2.19561 to 1.96595, saving model to model_weights2.hdf5\n",
      "Epoch 10/25\n",
      "1241/1241 [==============================] - 25s 20ms/step - loss: 1.7980 - accuracy: 0.5785\n",
      "\n",
      "Epoch 00010: loss improved from 1.96595 to 1.79804, saving model to model_weights2.hdf5\n",
      "Epoch 11/25\n",
      "1241/1241 [==============================] - 25s 20ms/step - loss: 1.6624 - accuracy: 0.6060\n",
      "\n",
      "Epoch 00011: loss improved from 1.79804 to 1.66241, saving model to model_weights2.hdf5\n",
      "Epoch 12/25\n",
      "1241/1241 [==============================] - 25s 20ms/step - loss: 1.5654 - accuracy: 0.6235\n",
      "\n",
      "Epoch 00012: loss improved from 1.66241 to 1.56539, saving model to model_weights2.hdf5\n",
      "Epoch 13/25\n",
      "1241/1241 [==============================] - 25s 20ms/step - loss: 1.4878 - accuracy: 0.6368\n",
      "\n",
      "Epoch 00013: loss improved from 1.56539 to 1.48779, saving model to model_weights2.hdf5\n",
      "Epoch 14/25\n",
      "1241/1241 [==============================] - 25s 20ms/step - loss: 1.4363 - accuracy: 0.6453\n",
      "\n",
      "Epoch 00014: loss improved from 1.48779 to 1.43626, saving model to model_weights2.hdf5\n",
      "Epoch 15/25\n",
      "1241/1241 [==============================] - 25s 20ms/step - loss: 1.3789 - accuracy: 0.6583\n",
      "\n",
      "Epoch 00015: loss improved from 1.43626 to 1.37887, saving model to model_weights2.hdf5\n",
      "Epoch 16/25\n",
      "1241/1241 [==============================] - 25s 20ms/step - loss: 1.3292 - accuracy: 0.6691\n",
      "\n",
      "Epoch 00016: loss improved from 1.37887 to 1.32923, saving model to model_weights2.hdf5\n",
      "Epoch 17/25\n",
      "1241/1241 [==============================] - 25s 20ms/step - loss: 1.3042 - accuracy: 0.6717\n",
      "\n",
      "Epoch 00017: loss improved from 1.32923 to 1.30419, saving model to model_weights2.hdf5\n",
      "Epoch 18/25\n",
      "1241/1241 [==============================] - 25s 20ms/step - loss: 1.2870 - accuracy: 0.6758\n",
      "\n",
      "Epoch 00018: loss improved from 1.30419 to 1.28702, saving model to model_weights2.hdf5\n",
      "Epoch 19/25\n",
      "1241/1241 [==============================] - 25s 20ms/step - loss: 1.2569 - accuracy: 0.6793\n",
      "\n",
      "Epoch 00019: loss improved from 1.28702 to 1.25688, saving model to model_weights2.hdf5\n",
      "Epoch 20/25\n",
      "1241/1241 [==============================] - 25s 20ms/step - loss: 1.2368 - accuracy: 0.6835\n",
      "\n",
      "Epoch 00020: loss improved from 1.25688 to 1.23684, saving model to model_weights2.hdf5\n",
      "Epoch 21/25\n",
      "1241/1241 [==============================] - 25s 20ms/step - loss: 1.2314 - accuracy: 0.6840\n",
      "\n",
      "Epoch 00021: loss improved from 1.23684 to 1.23142, saving model to model_weights2.hdf5\n",
      "Epoch 22/25\n",
      "1241/1241 [==============================] - 25s 20ms/step - loss: 1.2149 - accuracy: 0.6869\n",
      "\n",
      "Epoch 00022: loss improved from 1.23142 to 1.21488, saving model to model_weights2.hdf5\n",
      "Epoch 23/25\n",
      "1241/1241 [==============================] - 25s 21ms/step - loss: 1.1890 - accuracy: 0.6932\n",
      "\n",
      "Epoch 00023: loss improved from 1.21488 to 1.18903, saving model to model_weights2.hdf5\n",
      "Epoch 24/25\n",
      "1241/1241 [==============================] - 25s 20ms/step - loss: 1.2091 - accuracy: 0.6857\n",
      "\n",
      "Epoch 00024: loss did not improve from 1.18903\n",
      "Epoch 25/25\n",
      "1241/1241 [==============================] - 25s 20ms/step - loss: 1.2070 - accuracy: 0.6866\n",
      "\n",
      "Epoch 00025: loss did not improve from 1.18903\n",
      "<tensorflow.python.keras.engine.sequential.Sequential object at 0x000001ADA2A5F5B0>\n",
      "Model: \"sequential_1\"\n",
      "_________________________________________________________________\n",
      "Layer (type)                 Output Shape              Param #   \n",
      "=================================================================\n",
      "embedding_1 (Embedding)      (None, 34, 150)           1749450   \n",
      "_________________________________________________________________\n",
      "bidirectional_2 (Bidirection (None, 400)               561600    \n",
      "_________________________________________________________________\n",
      "dense_1 (Dense)              (None, 11663)             4676863   \n",
      "=================================================================\n",
      "Total params: 6,987,913\n",
      "Trainable params: 6,987,913\n",
      "Non-trainable params: 0\n",
      "_________________________________________________________________\n",
      "None\n"
     ]
    }
   ],
   "source": [
    "# Construct the model\n",
    "model = Sequential()\n",
    "model.add(Embedding(total_words, 150, input_length=max_sequence_len-1))\n",
    "model.add(Bidirectional(LSTM(200)))\n",
    "model.add(Dense(total_words, activation='softmax'))\n",
    "adam = Adam(learning_rate=0.005)\n",
    "model.compile(loss='categorical_crossentropy', optimizer=adam, \n",
    "              metrics=['accuracy'])\n",
    "\n",
    "filepath = \"model_weights2.hdf5\"\n",
    "checkpoint = ModelCheckpoint(filepath, monitor='loss', verbose=1, \n",
    "                             save_best_only=True, mode='min')\n",
    "desired_callbacks = [checkpoint]\n",
    "\n",
    "history = model.fit(xs, ys, epochs=25, batch_size=64, verbose=1, \n",
    "                    callbacks=desired_callbacks)\n",
    "\n",
    "print(model)\n",
    "print(model.summary())"
   ]
  },
  {
   "cell_type": "code",
   "execution_count": 12,
   "metadata": {
    "scrolled": true
   },
   "outputs": [
    {
     "data": {
      "image/png": "[encoded data removed]",
      "text/plain": [
       "<Figure size 432x288 with 1 Axes>"
      ]
     },
     "metadata": {
      "needs_background": "light"
     },
     "output_type": "display_data"
    }
   ],
   "source": [
    "plot_graphs(history, 'loss')"
   ]
  },
  {
   "cell_type": "markdown",
   "metadata": {},
   "source": [
    "The above graph shows that as the number of epoch increases, the training losses have been decreasing first rapidly then steadily. When it approaches 25 epochs, the losses are becoming stable."
   ]
  },
  {
   "cell_type": "code",
   "execution_count": 13,
   "metadata": {
    "id": "6Vc6PHgxa6Hm"
   },
   "outputs": [
    {
     "name": "stdout",
     "output_type": "stream",
     "text": [
      "i was home so real all the time i hit the big breakfast at the case study americans die to which included the president's why of this is a terrible idea sloppy chili and spaghetti aren't smart when you can't feel anything east to anyone he isn't having anyone better than other countries old how much writing can often if she shouldn't be as a good looking watching after a long long list of links from my sidebar is gone and just like it had the chance to wanting a different to have a camper a good place to be the place used\n"
     ]
    }
   ],
   "source": [
    "print(text_generator('i was home', 100, \n",
    "                     tokenizer, model, max_sequence_len))"
   ]
  },
  {
   "cell_type": "markdown",
   "metadata": {},
   "source": [
    "Compared to the text generated before, the one output by the tuned model hasn't shown problems of repeating words. Moreover, some phrases can be observed in the block of text. However, it appears that the text doesn't make much sense as sentence structures are still missing."
   ]
  }
 ],
 "metadata": {
  "accelerator": "GPU",
  "colab": {
   "name": "Course 3 - Week 4 - Lesson 2 - Notebook.ipynb",
   "provenance": [],
   "toc_visible": true
  },
  "kernelspec": {
   "display_name": "Python 3",
   "language": "python",
   "name": "python3"
  },
  "language_info": {
   "codemirror_mode": {
    "name": "ipython",
    "version": 3
   },
   "file_extension": ".py",
   "mimetype": "text/x-python",
   "name": "python",
   "nbconvert_exporter": "python",
   "pygments_lexer": "ipython3",
   "version": "3.8.5"
  }
 },
 "nbformat": 4,
 "nbformat_minor": 1
}
