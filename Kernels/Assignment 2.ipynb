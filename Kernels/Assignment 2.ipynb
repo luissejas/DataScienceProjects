{
 "cells": [
  {
   "cell_type": "markdown",
   "metadata": {},
   "source": [
    "# Assignment 2: Kernels\n",
    "By Group 4: Qianjing Liang, Elouise Matthews, Naman Ratra, Luis Sejas"
   ]
  },
  {
   "cell_type": "markdown",
   "metadata": {},
   "source": [
    "## Introduction"
   ]
  },
  {
   "cell_type": "markdown",
   "metadata": {},
   "source": [
    "On this assignment, we explore nonlinear kernel classification with its implementation on a dataset.\\\n",
    "Since our kernel choice depends on our dataset, an overview of our dataset is required. Our dataset is made of images from Messidor software. We do not actually use the images, but the features of the image to classify whether the patient has diabetic retinopathy or not. It is an univariate classification (1 = has diabetic retinopathy or 0 = otherwise.)\n",
    "\n",
    "Even though the task states nonlinear and rbf kernels, we will use linear and sigmoid kernels as well for a full comparison.\n",
    "\n",
    "Nystroem approximators were used initially to create surrogate data, but fortunately the dataset was small enough that the computing time was sufficiently short to complete the project within given time constrains. Using a subset of the data was also an option - which also did not need to be implemented. \n",
    "\n",
    "There are 3 main hyperparameters which will be tuned to improve our model:\n",
    "\n",
    "- C: this is the control error, tuning this allows us to be stricter or looser with the error margin. Finding the right balance is key for avoiding overfitting or underfittting.\n",
    "\n",
    "- gamma: Hyperparameter applicable for the rbf, sigmoid and polynomial kernels.\n",
    "\n",
    "- degree: Only applicable to polynomial kernels and defines the highest degree polynomial admissible. \n",
    "\n",
    "Note: The scikit-learn library has a gamma attribute on the other kernel methods, but it is not applied the same way as it is in rbf. It consists mainly of a scalar."
   ]
  },
  {
   "cell_type": "markdown",
   "metadata": {},
   "source": [
    "## Structure: \n",
    "1. Import data and prepare features and target variables. \n",
    "2. plot performance curves for $f_{1}$ and $f_{2}$ scores, using poly/rbf kernels, varying gamma, C, and degrees individually\n",
    "3. plot performance curves for $f_{1}$ and Recall scores, using poly/rbf kernels, varying gamma, C, and degrees individually\n",
    "4. Initial rough grid search for 4 different kernels and a wide range of parameters\n",
    "5. Second round of grid search with narrower ranges of hyperparameters, and apply combinations of hyperparameters that maximize $f_{1}$ and Recall respectively to a final run and observe their confusion matrices"
   ]
  },
  {
   "cell_type": "markdown",
   "metadata": {},
   "source": [
    "## Part 1. "
   ]
  },
  {
   "cell_type": "code",
   "execution_count": 1,
   "metadata": {},
   "outputs": [
    {
     "data": {
      "text/html": [
       "<div>\n",
       "<style scoped>\n",
       "    .dataframe tbody tr th:only-of-type {\n",
       "        vertical-align: middle;\n",
       "    }\n",
       "\n",
       "    .dataframe tbody tr th {\n",
       "        vertical-align: top;\n",
       "    }\n",
       "\n",
       "    .dataframe thead th {\n",
       "        text-align: right;\n",
       "    }\n",
       "</style>\n",
       "<table border=\"1\" class=\"dataframe\">\n",
       "  <thead>\n",
       "    <tr style=\"text-align: right;\">\n",
       "      <th></th>\n",
       "      <th>0</th>\n",
       "      <th>1</th>\n",
       "      <th>2</th>\n",
       "      <th>3</th>\n",
       "      <th>4</th>\n",
       "      <th>5</th>\n",
       "      <th>6</th>\n",
       "      <th>7</th>\n",
       "      <th>8</th>\n",
       "      <th>9</th>\n",
       "      <th>10</th>\n",
       "      <th>11</th>\n",
       "      <th>12</th>\n",
       "      <th>13</th>\n",
       "      <th>14</th>\n",
       "      <th>15</th>\n",
       "      <th>16</th>\n",
       "      <th>17</th>\n",
       "      <th>18</th>\n",
       "      <th>Class</th>\n",
       "    </tr>\n",
       "  </thead>\n",
       "  <tbody>\n",
       "    <tr>\n",
       "      <th>0</th>\n",
       "      <td>1</td>\n",
       "      <td>1</td>\n",
       "      <td>22</td>\n",
       "      <td>22</td>\n",
       "      <td>22</td>\n",
       "      <td>19</td>\n",
       "      <td>18</td>\n",
       "      <td>14</td>\n",
       "      <td>49.895756</td>\n",
       "      <td>17.775994</td>\n",
       "      <td>5.270920</td>\n",
       "      <td>0.771761</td>\n",
       "      <td>0.018632</td>\n",
       "      <td>0.006864</td>\n",
       "      <td>0.003923</td>\n",
       "      <td>0.003923</td>\n",
       "      <td>0.486903</td>\n",
       "      <td>0.100025</td>\n",
       "      <td>1</td>\n",
       "      <td>0</td>\n",
       "    </tr>\n",
       "    <tr>\n",
       "      <th>1</th>\n",
       "      <td>1</td>\n",
       "      <td>1</td>\n",
       "      <td>24</td>\n",
       "      <td>24</td>\n",
       "      <td>22</td>\n",
       "      <td>18</td>\n",
       "      <td>16</td>\n",
       "      <td>13</td>\n",
       "      <td>57.709936</td>\n",
       "      <td>23.799994</td>\n",
       "      <td>3.325423</td>\n",
       "      <td>0.234185</td>\n",
       "      <td>0.003903</td>\n",
       "      <td>0.003903</td>\n",
       "      <td>0.003903</td>\n",
       "      <td>0.003903</td>\n",
       "      <td>0.520908</td>\n",
       "      <td>0.144414</td>\n",
       "      <td>0</td>\n",
       "      <td>0</td>\n",
       "    </tr>\n",
       "    <tr>\n",
       "      <th>2</th>\n",
       "      <td>1</td>\n",
       "      <td>1</td>\n",
       "      <td>62</td>\n",
       "      <td>60</td>\n",
       "      <td>59</td>\n",
       "      <td>54</td>\n",
       "      <td>47</td>\n",
       "      <td>33</td>\n",
       "      <td>55.831441</td>\n",
       "      <td>27.993933</td>\n",
       "      <td>12.687485</td>\n",
       "      <td>4.852282</td>\n",
       "      <td>1.393889</td>\n",
       "      <td>0.373252</td>\n",
       "      <td>0.041817</td>\n",
       "      <td>0.007744</td>\n",
       "      <td>0.530904</td>\n",
       "      <td>0.128548</td>\n",
       "      <td>0</td>\n",
       "      <td>1</td>\n",
       "    </tr>\n",
       "    <tr>\n",
       "      <th>3</th>\n",
       "      <td>1</td>\n",
       "      <td>1</td>\n",
       "      <td>55</td>\n",
       "      <td>53</td>\n",
       "      <td>53</td>\n",
       "      <td>50</td>\n",
       "      <td>43</td>\n",
       "      <td>31</td>\n",
       "      <td>40.467228</td>\n",
       "      <td>18.445954</td>\n",
       "      <td>9.118901</td>\n",
       "      <td>3.079428</td>\n",
       "      <td>0.840261</td>\n",
       "      <td>0.272434</td>\n",
       "      <td>0.007653</td>\n",
       "      <td>0.001531</td>\n",
       "      <td>0.483284</td>\n",
       "      <td>0.114790</td>\n",
       "      <td>0</td>\n",
       "      <td>0</td>\n",
       "    </tr>\n",
       "    <tr>\n",
       "      <th>4</th>\n",
       "      <td>1</td>\n",
       "      <td>1</td>\n",
       "      <td>44</td>\n",
       "      <td>44</td>\n",
       "      <td>44</td>\n",
       "      <td>41</td>\n",
       "      <td>39</td>\n",
       "      <td>27</td>\n",
       "      <td>18.026254</td>\n",
       "      <td>8.570709</td>\n",
       "      <td>0.410381</td>\n",
       "      <td>0.000000</td>\n",
       "      <td>0.000000</td>\n",
       "      <td>0.000000</td>\n",
       "      <td>0.000000</td>\n",
       "      <td>0.000000</td>\n",
       "      <td>0.475935</td>\n",
       "      <td>0.123572</td>\n",
       "      <td>0</td>\n",
       "      <td>1</td>\n",
       "    </tr>\n",
       "  </tbody>\n",
       "</table>\n",
       "</div>"
      ],
      "text/plain": [
       "   0  1   2   3   4   5   6   7          8          9         10        11  \\\n",
       "0  1  1  22  22  22  19  18  14  49.895756  17.775994   5.270920  0.771761   \n",
       "1  1  1  24  24  22  18  16  13  57.709936  23.799994   3.325423  0.234185   \n",
       "2  1  1  62  60  59  54  47  33  55.831441  27.993933  12.687485  4.852282   \n",
       "3  1  1  55  53  53  50  43  31  40.467228  18.445954   9.118901  3.079428   \n",
       "4  1  1  44  44  44  41  39  27  18.026254   8.570709   0.410381  0.000000   \n",
       "\n",
       "         12        13        14        15        16        17  18  Class  \n",
       "0  0.018632  0.006864  0.003923  0.003923  0.486903  0.100025   1      0  \n",
       "1  0.003903  0.003903  0.003903  0.003903  0.520908  0.144414   0      0  \n",
       "2  1.393889  0.373252  0.041817  0.007744  0.530904  0.128548   0      1  \n",
       "3  0.840261  0.272434  0.007653  0.001531  0.483284  0.114790   0      0  \n",
       "4  0.000000  0.000000  0.000000  0.000000  0.475935  0.123572   0      1  "
      ]
     },
     "execution_count": 1,
     "metadata": {},
     "output_type": "execute_result"
    }
   ],
   "source": [
    "import time \n",
    "import pandas as pd \n",
    "import numpy as np \n",
    "from sklearn.model_selection import train_test_split \n",
    "from sklearn.preprocessing import StandardScaler \n",
    "from sklearn.metrics import fbeta_score, make_scorer, recall_score\n",
    "import matplotlib.pyplot as plt \n",
    "from sklearn.model_selection import KFold\n",
    "from sklearn import svm\n",
    "from sklearn.model_selection import validation_curve \n",
    "from sklearn.model_selection import GridSearchCV \n",
    "from sklearn.metrics import confusion_matrix\n",
    "from sklearn.utils import resample \n",
    "from sklearn.model_selection import StratifiedShuffleSplit\n",
    "from matplotlib.colors import Normalize\n",
    "import warnings\n",
    "warnings.filterwarnings(\"ignore\")\n",
    "\n",
    "# data source: \n",
    "# https://archive.ics.uci.edu/ml/datasets/Diabetic+Retinopathy+Debrecen+Data+Set#\n",
    "data = pd.read_csv('messidor_features.csv')\n",
    "data.head(3)\n",
    "\n",
    "# Remove the column \"id\" since it's not useful for the model\n",
    "data = data.drop('id',axis=1)\n",
    "data.head(5)"
   ]
  },
  {
   "cell_type": "code",
   "execution_count": 2,
   "metadata": {},
   "outputs": [
    {
     "name": "stdout",
     "output_type": "stream",
     "text": [
      "(1151, 19)\n",
      "Observations that contain signs of Diabetic Retinopathy: 53.0843%.\n",
      "Number of null values in the data:  0\n"
     ]
    }
   ],
   "source": [
    "#Load dataset and split into X and y\n",
    "X = data.iloc[:,:19]\n",
    "y = data.iloc[:,19]\n",
    "\n",
    "print(X.shape)\n",
    "# The dataset is quite balanced.\n",
    "print('Observations that contain signs of Diabetic Retinopathy: ' + \\\n",
    "      str(round(y.sum()/len(y) * 100, 4)) + '%.')\n",
    "# The dataset doesn't have null values.\n",
    "print('Number of null values in the data: ',X.isnull().sum().sum())"
   ]
  },
  {
   "cell_type": "code",
   "execution_count": 3,
   "metadata": {},
   "outputs": [],
   "source": [
    "# Split into train and test set and normalize data\n",
    "X_train, X_test, y_train, y_test = train_test_split(X, y, \n",
    "                                                    test_size = 0.2, \n",
    "                                                    random_state = 0)\n",
    "sc = StandardScaler()\n",
    "X_train = sc.fit_transform(X_train)\n",
    "X_test = sc.transform(X_test)"
   ]
  },
  {
   "cell_type": "markdown",
   "metadata": {},
   "source": [
    "## Part 2. "
   ]
  },
  {
   "cell_type": "markdown",
   "metadata": {},
   "source": [
    "Initially the two metrics for model comparison will be the $f_{1}$ score and the $f_{2}$ score. While increasing the value of Recall can help detect Diabetic Retinopathy sooner, increasing the value of Precision can avoid unnecessary waste of resources (e.g., due to additional examinations for false positive patients). \\\n",
    "By using $f_{1}$ metric, the model that optimizes this score will be making more balanced decisions that emphasize Recall and Precision equally. By using the $f_{2}$ metric, the model that optimizes this score will place more importance on increasing Recall (i.e. avoiding false negatives)."
   ]
  },
  {
   "cell_type": "code",
   "execution_count": 4,
   "metadata": {},
   "outputs": [],
   "source": [
    "# Make f1 a valid validation\n",
    "def f1_scorer(y_true, y_pred):\n",
    "    y_true, y_pred, = np.array(y_true), np.array(y_pred)\n",
    "    return fbeta_score(y_true, y_pred, beta = 1, average = 'binary')\n",
    "\n",
    "f1 = make_scorer(f1_scorer, greater_is_better=True)\n",
    "\n",
    "# Make f2 a valid validation\n",
    "def f2_scorer(y_true, y_pred):\n",
    "    y_true, y_pred, = np.array(y_true), np.array(y_pred)\n",
    "    return fbeta_score(y_true, y_pred, beta = 2, average = 'binary')\n",
    "\n",
    "f2 = make_scorer(f2_scorer, greater_is_better=True)\n",
    "\n",
    "# Make recall a valid validation\n",
    "def recall_scorer(y_true, y_pred):\n",
    "    y_true, y_pred, = np.array(y_true), np.array(y_pred)\n",
    "    return recall_score(y_true, y_pred, average='macro')\n",
    "\n",
    "recall = make_scorer(recall_scorer, greater_is_better=True)"
   ]
  },
  {
   "cell_type": "code",
   "execution_count": 5,
   "metadata": {},
   "outputs": [],
   "source": [
    "# SVM with polynomial and rbf kernels for f1 and f2 scoring\n",
    "# Hyperparameters adjusted include C, gamma ,and \n",
    "# degree (only for polynomial model)\n",
    "\n",
    "def plot_svm_curve(model, gammas = 'auto', Cs = 1, degrees = 3):\n",
    "    '''\n",
    "    Returns two plots that show the changes in f1 and f2 scores as\n",
    "    the desired hyperparameter varies.\n",
    "        Parameters:\n",
    "            model (str): the kernel to be used for the svm, can only\n",
    "                be either \"rbf\" or \"poly\"\n",
    "            gammas/Cs/degrees (numpy array): hyperparameter range for \n",
    "                the kernels; only one of these should be specified while\n",
    "                the others remain fixed at their defaulted values\n",
    "    '''\n",
    "    num_splits = 5\n",
    "    kfold = KFold(n_splits = 5,random_state = 0) \n",
    "\n",
    "    hyper_dict = {'gamma': gammas, 'C': Cs, 'degree': degrees}\n",
    "    hypers = [gammas, Cs, degrees]\n",
    "    for i in range(3):\n",
    "        if type(hypers[i]) == np.ndarray: # select the varying hyperparameters\n",
    "            hypers[i] = None\n",
    "            if model == 'rbf':\n",
    "                svm_model= svm.SVC(kernel = model, gamma = hypers[0], \n",
    "                           C = hypers[1])\n",
    "            else:\n",
    "                svm_model= svm.SVC(kernel = model, gamma = hypers[0], \n",
    "                                   C = hypers[1], degree = hypers[2])\n",
    "            num_values = len(list(hyper_dict.values())[i])\n",
    "            hyper_name = list(hyper_dict.keys())[i]\n",
    "            hyper_value = list(hyper_dict.values())[i]\n",
    "            break\n",
    "    \n",
    "    scorings = [f1, f2]\n",
    "    fig1, ax1 = plt.subplots(1,2,figsize=(14,5),constrained_layout=True)\n",
    "    for i in range(2):\n",
    "        scoring = scorings[i]\n",
    "        train_scores, valid_scores = validation_curve(svm_model, X_train, \n",
    "                                                      y_train, hyper_name, \n",
    "                                                      hyper_value, cv=kfold, \n",
    "                                                      scoring = scoring)\n",
    "        train_scores_df = pd.DataFrame(data = train_scores, \n",
    "                                       index = np.arange(0, num_values), \n",
    "                                       columns = np.arange(0, num_splits)) \n",
    "        valid_scores_df = pd.DataFrame(data = valid_scores,\n",
    "                                       index = np.arange(0, num_values), \n",
    "                                       columns = np.arange(0, num_splits)) \n",
    "        # plotting training and validation scores\n",
    "        ax1[i].plot(hyper_value, train_scores_df.mean(axis=1), \n",
    "                    label = 'Training')\n",
    "        ax1[i].plot(hyper_value, valid_scores_df.mean(axis=1), \n",
    "                    label = 'Test')\n",
    "        # setting up title, label, legend, and the range of y axis to be shown\n",
    "        ax1[i].set_title('SVM with ' + model + ' kernel')\n",
    "        ax1[i].set_xlabel(hyper_name)\n",
    "        ax1[i].legend()\n",
    "        if hyper_name == 'C':\n",
    "            ax1[i].set_ylim(0.45,1)\n",
    "        elif hyper_name == 'gamma':\n",
    "            ax1[i].set_ylim(0,1.05)\n",
    "        else:\n",
    "            ax1[i].set_ylim(0,1)\n",
    "    ax1[0].set_ylabel('f1 score')\n",
    "    ax1[1].set_ylabel('f2 score')"
   ]
  },
  {
   "cell_type": "code",
   "execution_count": 6,
   "metadata": {},
   "outputs": [],
   "source": [
    "start_0 = time.time()\n",
    "# define ranges of values for target hyperparameters \n",
    "degrees = np.arange(2, 21, 1)\n",
    "Cs = np.append(np.array([0.5]), \n",
    "               np.append(np.append(np.arange(1, 10, 1), \n",
    "                                   np.arange(10, 20, 2)), \n",
    "               np.arange(20, 101, 5)))\n",
    "gammas = np.exp(np.arange(-5, 1, 0.2))"
   ]
  },
  {
   "cell_type": "markdown",
   "metadata": {},
   "source": [
    "### Plottings of models using polynomial kernel with varying hyperparameters (metrics: $f_{1}$ and $f_{2}$ scores)"
   ]
  },
  {
   "cell_type": "code",
   "execution_count": 7,
   "metadata": {},
   "outputs": [
    {
     "data": {
      "image/png": "[encoded data removed]",
      "text/plain": [
       "<Figure size 1008x360 with 2 Axes>"
      ]
     },
     "metadata": {
      "needs_background": "light"
     },
     "output_type": "display_data"
    }
   ],
   "source": [
    "# varying degrees of the kernel\n",
    "plot_svm_curve(model = 'poly', degrees = degrees)"
   ]
  },
  {
   "cell_type": "markdown",
   "metadata": {},
   "source": [
    "Observation: \\\n",
    "(1) From the plot on the left side, it can be seen that as the value of degree increases, the $f_{1}$ score gradually decreases while the difference of the $f_{1}$ scores between training and test becomes larger.\\\n",
    "(2) From the plot on the right side, a similar observation can be made: as the degree increases, $f_{2}$ score decreases and the difference of the $f_{2}$ scores between training and test widens.\\\n",
    "In both cases, the scores have become stable once the value of degree reaches around 10."
   ]
  },
  {
   "cell_type": "code",
   "execution_count": 8,
   "metadata": {},
   "outputs": [
    {
     "data": {
      "image/png": "[encoded data removed]",
      "text/plain": [
       "<Figure size 1008x360 with 2 Axes>"
      ]
     },
     "metadata": {
      "needs_background": "light"
     },
     "output_type": "display_data"
    }
   ],
   "source": [
    "# varying the value of C of the kernel\n",
    "plot_svm_curve(model = 'poly', Cs = Cs)"
   ]
  },
  {
   "cell_type": "markdown",
   "metadata": {},
   "source": [
    "Observation: \\\n",
    "(1) From the plot on the left side, it can be seen that as the value of C increases, the $f_{1}$ score gradually increases while the difference of the $f_{1}$ scores between training and test becomes larger. Moreover, the increase in C has a larger effect on the training score than the test score.\\\n",
    "(2) From the plot on the right side, a similar observation can be made: as C increases, $f_{2}$ score increases and the difference of the $f_{2}$ scores between training and test widens. Meanwhile, the increase in C has a larger effect on the training score than the test score.\\\n",
    "In both cases, the scores have become stable once C reaches around 60."
   ]
  },
  {
   "cell_type": "code",
   "execution_count": 9,
   "metadata": {},
   "outputs": [
    {
     "data": {
      "image/png": "[encoded data removed]",
      "text/plain": [
       "<Figure size 1008x360 with 2 Axes>"
      ]
     },
     "metadata": {
      "needs_background": "light"
     },
     "output_type": "display_data"
    }
   ],
   "source": [
    "# varying the value of gamma of the kernel\n",
    "plot_svm_curve(model = 'poly', gammas = gammas)"
   ]
  },
  {
   "cell_type": "markdown",
   "metadata": {},
   "source": [
    "Observation: \\\n",
    "(1) From the plot on the left side, it can be seen that as the value of gamma increases, the $f_{1}$ score gradually increases (except when the value of gamma was very low) while the difference of the $f_{1}$ scores between training and test becomes larger. Moreover, the increase in gamma has a larger effect on the training score than the test score.\\\n",
    "(2) From the plot on the right side, a similar observation can be made: as gamma increases, $f_{2}$ score increases (except when the value of gamma was very low) and the difference of the $f_{2}$ scores between training and test widens. Meanwhile, the increase in gamma has a larger effect on the training score than the test score.\\\n",
    "In both cases, the exceptions occur when gamma was lower than around 0.05 and the scores have become stable once gamma reaches around 1.2."
   ]
  },
  {
   "cell_type": "markdown",
   "metadata": {},
   "source": [
    "### Plottings of models using rbf kernel with varying hyperparameters"
   ]
  },
  {
   "cell_type": "code",
   "execution_count": 10,
   "metadata": {},
   "outputs": [
    {
     "data": {
      "image/png": "[encoded data removed]",
      "text/plain": [
       "<Figure size 1008x360 with 2 Axes>"
      ]
     },
     "metadata": {
      "needs_background": "light"
     },
     "output_type": "display_data"
    }
   ],
   "source": [
    "# varying the value of C of the kernel\n",
    "plot_svm_curve(model = 'rbf', Cs = Cs)"
   ]
  },
  {
   "cell_type": "markdown",
   "metadata": {},
   "source": [
    "Observation: \\\n",
    "(1) From the plot on the left side, it can be seen that as the value of C increases, the $f_{1}$ score gradually increases while the difference of the $f_{1}$ scores between training and test becomes larger. Moreover, the increase in C has a larger effect on the training score than the test score.\\\n",
    "(2) From the plot on the right side, a similar observation can be made: as C increases, $f_{2}$ score increases and the difference of the $f_{2}$ scores between training and test widens. Meanwhile, the increase in C has a larger effect on the training score than the test score.\\\n",
    "In both cases, the scores have become stable once C reaches around 60."
   ]
  },
  {
   "cell_type": "code",
   "execution_count": 11,
   "metadata": {},
   "outputs": [
    {
     "data": {
      "image/png": "[encoded data removed]",
      "text/plain": [
       "<Figure size 1008x360 with 2 Axes>"
      ]
     },
     "metadata": {
      "needs_background": "light"
     },
     "output_type": "display_data"
    }
   ],
   "source": [
    "# varying the value of gamma of the kernel\n",
    "plot_svm_curve(model = 'rbf', gammas = gammas)"
   ]
  },
  {
   "cell_type": "markdown",
   "metadata": {},
   "source": [
    "Observation: \\\n",
    "(1) From the plot on the left side, it can be seen that as the value of gamma increases, the $f_{1}$ score gradually increases while the difference of the $f_{1}$ scores between training and test becomes larger. Moreover, the increase in gamma has a larger effect on the training score than the test score.\\\n",
    "(2) From the plot on the right side, a similar observation can be made: as gamma increases, $f_{2}$ score increases and the difference of the $f_{2}$ scores between training and test widens. Meanwhile, the increase in gamma has a larger effect on the training score than the test score.\\\n",
    "In both cases, the scores have become stable once gamma reaches around 1.5."
   ]
  },
  {
   "cell_type": "code",
   "execution_count": 12,
   "metadata": {},
   "outputs": [
    {
     "name": "stdout",
     "output_type": "stream",
     "text": [
      "time spent:  239.826340675354\n"
     ]
    }
   ],
   "source": [
    "time_spend = time.time() - start_0\n",
    "print('time spent: ', time_spend)"
   ]
  },
  {
   "cell_type": "markdown",
   "metadata": {},
   "source": [
    "### Part 2 Analysis\n",
    "\n",
    "1. Polynomial kernel\\\n",
    "For the polynomial kernel, our focus consists of three hyperparameters: C, gamma, and degree. C and gamma in this case, bring both the $f_{1}$ and $f_{2}$ scores of the training data to an optimum quite quickly and has little effect thereafter. The degree however, is significantly better in the lower range and also has a stronger effect overall. This could be because C and gamma are linear factors of the kernel, but the degree is the power of the vector. \n",
    "\n",
    "2. RBF Kernel\\\n",
    "In this case our hyperparameters are C and gamma. C, as the polynomial kernel, does not have a big effect on altering the $f_{1}$ or $f_{2}$ scores. Gamma, on the other hand, seems to have a large effect on the scores for the training set, but very very little on the test set. It can be said that both gamma and C have no obvious effects on the $f_{1}$ and $f_{2}$ scores based on this initial analysis. "
   ]
  },
  {
   "cell_type": "markdown",
   "metadata": {},
   "source": [
    "## Part 3. "
   ]
  },
  {
   "cell_type": "markdown",
   "metadata": {},
   "source": [
    "### Replace $f_{2}$ with Recall of Positive Class\n",
    "\n",
    "Since the $f_{1}$ and $f_{2}$ scores behave so similarly, we are going to change one of the variables to optimize. As mentioned previously, our objective is to accurately predict whether a patient has diabetic retinopathy or not. \n",
    "From a statistical perspective, false positives and false negatives are both equally bad. But from a medical perspective, the false negatives (sick patients who went unnoticed) are much more problematic than false positives (patients who where diagnosed but turned out to be healthy). \n",
    "\n",
    "With this, we will shift our focus from avoiding false classifications in both directions, to prioritising false negative classifications. \n",
    "Optimizing the percentage of detected positive cases (Recall) makes more sense in our dataset, so $f_{2}$ will be dropped and from now on Recall will be used."
   ]
  },
  {
   "cell_type": "code",
   "execution_count": 1,
   "metadata": {},
   "outputs": [],
   "source": [
    "# SVM with polynomial and rbf kernels for score = f1 and f2\n",
    "# Hyperparameters adjusted include C, gamma ,and degree (only \n",
    "# for polynomial model)\n",
    "\n",
    "def plot_svm_curve(model, gammas = 'auto', Cs = 1, degrees = 3):\n",
    "    '''\n",
    "    Returns two plots that show the changes in f1 and Recall scores as\n",
    "    the desired hyperparameter varies.\n",
    "        Parameters:\n",
    "            model (str): the kernel to be used for the svm, can only\n",
    "                be either \"rbf\" or \"poly\"\n",
    "            gammas/Cs/degrees (numpy array): hyperparameter range for \n",
    "                the kernels; only one of these should be specified while\n",
    "                the others remain fixed at their defaulted values\n",
    "    '''\n",
    "    num_splits = 5\n",
    "    kfold = KFold(n_splits = 5,random_state = 0) \n",
    "\n",
    "    hyper_dict = {'gamma': gammas, 'C': Cs, 'degree': degrees}\n",
    "    hypers = [gammas, Cs, degrees]\n",
    "    for i in range(3):\n",
    "        if type(hypers[i]) == np.ndarray: # select the varying hyperparameters\n",
    "            hypers[i] = None\n",
    "            if model == 'rbf':\n",
    "                svm_model= svm.SVC(kernel = model, gamma = hypers[0], \n",
    "                           C = hypers[1])\n",
    "            else:\n",
    "                svm_model= svm.SVC(kernel = model, gamma = hypers[0], \n",
    "                                   C = hypers[1], degree = hypers[2]) \n",
    "            num_values = len(list(hyper_dict.values())[i])\n",
    "            hyper_name = list(hyper_dict.keys())[i]\n",
    "            hyper_value = list(hyper_dict.values())[i]\n",
    "            break\n",
    "    \n",
    "    scorings = [f1, recall]\n",
    "    fig1, ax1 = plt.subplots(1,2,figsize=(14,5),constrained_layout=True)\n",
    "    for i in range(2):\n",
    "        scoring = scorings[i]\n",
    "        train_scores, valid_scores = validation_curve(svm_model, X_train, \n",
    "                                                      y_train, hyper_name, \n",
    "                                                      hyper_value, cv=kfold, \n",
    "                                                      scoring = scoring)\n",
    "        train_scores_df = pd.DataFrame(data = train_scores, \n",
    "                                       index = np.arange(0, num_values), \n",
    "                                       columns = np.arange(0, num_splits)) \n",
    "        valid_scores_df = pd.DataFrame(data = valid_scores,\n",
    "                                       index = np.arange(0, num_values), \n",
    "                                       columns = np.arange(0, num_splits)) \n",
    "        # plotting training and validation scores\n",
    "        ax1[i].plot(hyper_value, train_scores_df.mean(axis=1), \n",
    "                    label = 'Training')\n",
    "        ax1[i].plot(hyper_value, valid_scores_df.mean(axis=1), \n",
    "                    label = 'Test')\n",
    "        # setting up title, label, legend, and the range of y axis to be shown\n",
    "        ax1[i].set_title('SVM with ' + model + ' kernel')\n",
    "        ax1[i].set_xlabel(hyper_name)\n",
    "        ax1[i].legend()\n",
    "        if hyper_name == 'C':\n",
    "            ax1[i].set_ylim(0.45,1)\n",
    "        elif hyper_name == 'gamma':\n",
    "            ax1[i].set_ylim(0,1.05)\n",
    "        else:\n",
    "            ax1[i].set_ylim(0,1)\n",
    "    ax1[0].set_ylabel('f1 score')\n",
    "    ax1[1].set_ylabel('recall score')"
   ]
  },
  {
   "cell_type": "code",
   "execution_count": 14,
   "metadata": {},
   "outputs": [],
   "source": [
    "start = time.time()\n",
    "# define ranges of values for target hyperparameters \n",
    "degrees = np.arange(2, 21, 1)\n",
    "Cs = np.append(np.array([0.5]), \n",
    "               np.append(np.append(np.arange(1, 10, 1), \n",
    "                                   np.arange(10, 20, 2)), \n",
    "               np.arange(20, 101, 5)))\n",
    "gammas = np.exp(np.arange(-5, 1, 0.2))"
   ]
  },
  {
   "cell_type": "markdown",
   "metadata": {},
   "source": [
    "### Plottings of models using polynomial kernel with varying hyperparameters (metrics: $f_{1}$ and Recall scores)"
   ]
  },
  {
   "cell_type": "code",
   "execution_count": 15,
   "metadata": {},
   "outputs": [
    {
     "data": {
      "image/png": "[encoded data removed]",
      "text/plain": [
       "<Figure size 1008x360 with 2 Axes>"
      ]
     },
     "metadata": {
      "needs_background": "light"
     },
     "output_type": "display_data"
    }
   ],
   "source": [
    "# varying degrees of the kernel\n",
    "plot_svm_curve(model = 'poly', degrees = degrees)"
   ]
  },
  {
   "cell_type": "markdown",
   "metadata": {},
   "source": [
    "Observation: \\\n",
    "(1) From the plot on the left side, it can be seen that as the value of degree increases, the $f_{1}$ score gradually decreases while the difference of the $f_{1}$ scores between training and test becomes larger.\\\n",
    "(2) From the plot on the right side, it can be seen that as the degree increases, Recall score almost stays the same with very minor decrease.\\\n",
    "In both cases, the scores have become stable once the value of degree reaches around 10."
   ]
  },
  {
   "cell_type": "code",
   "execution_count": 16,
   "metadata": {},
   "outputs": [
    {
     "data": {
      "image/png": "[encoded data removed]",
      "text/plain": [
       "<Figure size 1008x360 with 2 Axes>"
      ]
     },
     "metadata": {
      "needs_background": "light"
     },
     "output_type": "display_data"
    }
   ],
   "source": [
    "# varying C of the kernel\n",
    "plot_svm_curve(model = 'poly', Cs = Cs)"
   ]
  },
  {
   "cell_type": "markdown",
   "metadata": {},
   "source": [
    "Observation: \\\n",
    "(1) From the plot on the left side, it can be seen that as the value of C increases, the $f_{1}$ score gradually increases while the difference of the $f_{1}$ scores between training and test becomes larger. Moreover, the increase in C has a larger effect on the training score than the test score.\\\n",
    "(2) From the plot on the right side, a similar observation can be made: as C increases, Recall score increases and the difference of the Recall scores between training and test widens. Meanwhile, the increase in C has a much larger effect on the training score than the test score.\\\n",
    "In both cases, the scores have become stable once C reaches around 50."
   ]
  },
  {
   "cell_type": "code",
   "execution_count": 17,
   "metadata": {},
   "outputs": [
    {
     "data": {
      "image/png": "[encoded data removed]",
      "text/plain": [
       "<Figure size 1008x360 with 2 Axes>"
      ]
     },
     "metadata": {
      "needs_background": "light"
     },
     "output_type": "display_data"
    }
   ],
   "source": [
    "# varying gamma of the kernel\n",
    "plot_svm_curve(model = 'poly', gammas = gammas)"
   ]
  },
  {
   "cell_type": "markdown",
   "metadata": {},
   "source": [
    "Observation: \\\n",
    "(1) From the plot on the left side, it can be seen that as the value of gamma increases, the $f_{1}$ score gradually increases (except when the value of gamma was very low) while the difference of the $f_{1}$ scores between training and test becomes larger. Moreover, the increase in gamma has a larger effect on the training score than the test score.\\\n",
    "(2) From the plot on the right side, a similar observation can be made: as gamma increases, Recall score increases and the difference of the Recall scores between training and test widens. Meanwhile, the increase in gamma has a larger effect on the training score than the test score.\\\n",
    "In both cases, the scores have become stable once gamma reaches around 1.2."
   ]
  },
  {
   "cell_type": "markdown",
   "metadata": {},
   "source": [
    "### Plottings of models using rbf kernel with varying hyperparameters (metrics: $f_{1}$ and Recall scores)"
   ]
  },
  {
   "cell_type": "code",
   "execution_count": 18,
   "metadata": {},
   "outputs": [
    {
     "data": {
      "image/png": "[encoded data removed]",
      "text/plain": [
       "<Figure size 1008x360 with 2 Axes>"
      ]
     },
     "metadata": {
      "needs_background": "light"
     },
     "output_type": "display_data"
    }
   ],
   "source": [
    "# varying C of the kernel\n",
    "plot_svm_curve(model = 'rbf', Cs = Cs)"
   ]
  },
  {
   "cell_type": "markdown",
   "metadata": {},
   "source": [
    "Observation: \\\n",
    "(1) From the plot on the left side, it can be seen that as the value of C increases, the $f_{1}$ score gradually increases while the difference of the $f_{1}$ scores between training and test becomes larger. Moreover, the increase in C has a much larger effect on the training score than the test score.\\\n",
    "(2) From the plot on the right side, a similar observation can be made: as C increases, Recall score increases and the difference of the Recall scores between training and test widens. Meanwhile, the increase in C has a larger effect on the training score than the test score.\\\n",
    "In both cases, the scores have become stable once C reaches around 50."
   ]
  },
  {
   "cell_type": "code",
   "execution_count": 19,
   "metadata": {},
   "outputs": [
    {
     "data": {
      "image/png": "[encoded data removed]",
      "text/plain": [
       "<Figure size 1008x360 with 2 Axes>"
      ]
     },
     "metadata": {
      "needs_background": "light"
     },
     "output_type": "display_data"
    }
   ],
   "source": [
    "# varying gamma of the kernel\n",
    "plot_svm_curve(model = 'rbf', gammas = gammas)"
   ]
  },
  {
   "cell_type": "markdown",
   "metadata": {},
   "source": [
    "Observation: \\\n",
    "(1) From the plot on the left side, it can be seen that as the value of gamma increases, the training $f_{1}$ score increases while the test $f_{1}$ score stays almost the same.\\\n",
    "(2) From the plot on the right side, it can be seen that as gamma increases, the training Recall score increases while the test Recall score decreases."
   ]
  },
  {
   "cell_type": "code",
   "execution_count": 20,
   "metadata": {},
   "outputs": [
    {
     "name": "stdout",
     "output_type": "stream",
     "text": [
      "time spent:  240.0345687866211\n"
     ]
    }
   ],
   "source": [
    "time_spend = time.time() - start\n",
    "print('time spent: ', time_spend)"
   ]
  },
  {
   "cell_type": "markdown",
   "metadata": {},
   "source": [
    "### Part 3 Analysis\n",
    "\n",
    "With this new combination, it can be seen that Recall also behaves similarly to the $f_{1}$ score. As seen on the threshold of Recall's gamma, it is really sensitive to overfitting. The graphs show a larger gap between training and test data as gamma increases - not just because the training results get too good, but because the test results get worse. \n"
   ]
  },
  {
   "cell_type": "markdown",
   "metadata": {},
   "source": [
    "## Part 4. Gridsearch\n",
    "With our preliminary results, we will follow the following approach to our gridsearch:\n",
    "- Restricting gammas and degrees to lower ranges. \n",
    "- In general C appears better in the higher ranges, but it will not be strictly limited, as it is still unclear."
   ]
  },
  {
   "cell_type": "markdown",
   "metadata": {},
   "source": [
    "### Gridsearch for different types of kernels and different hyperparameters using $f_{1}$ score as the standard"
   ]
  },
  {
   "cell_type": "code",
   "execution_count": 21,
   "metadata": {},
   "outputs": [
    {
     "name": "stdout",
     "output_type": "stream",
     "text": [
      "time spent:  1143.2461256980896\n"
     ]
    }
   ],
   "source": [
    "# define ranges of hyperparameters\n",
    "Cs = np.array([ 35. ,  45. ,  55. ,  65. ,  75. ,\n",
    "                80. ,  85. ,  90. ,  95. , 100. ])\n",
    "gammas = np.array([0.00673795, 0.01005184, 0.01499558,\n",
    "       0.01831564, 0.02732372, 0.0407622 ,\n",
    "       0.04978707, 0.07427358, 0.09071795, 0.13533528, 0.16529889])\n",
    "degrees = np.array([2,  3,  4,  5])\n",
    "\n",
    "param_grid = {'kernel' : ['poly', 'rbf', 'linear', 'sigmoid'],\n",
    "              'C' : Cs,\n",
    "              'gamma' : gammas,\n",
    "              'degree' : degrees}             \n",
    "\n",
    "scoring = {'Accuracy' : 'accuracy',\n",
    "           'Precision' : 'precision', \n",
    "           'recall' : recall,\n",
    "           'f1' : f1, \n",
    "           'f2' : f2}\n",
    "\n",
    "# fit training data using GridSearch and cross validation\n",
    "start = time.time()\n",
    "svm_ = svm.SVC()\n",
    "CV_svm = GridSearchCV(estimator = svm_, param_grid = param_grid, cv = 5, \n",
    "                      scoring = scoring, refit = 'f1')\n",
    "CV_svm.fit(X_train, y_train)\n",
    "\n",
    "time_spend = time.time() - start\n",
    "print('time spent: ', time_spend)"
   ]
  },
  {
   "cell_type": "code",
   "execution_count": 22,
   "metadata": {},
   "outputs": [],
   "source": [
    "# A DataFrame to keep track of the results\n",
    "params_ = CV_svm.cv_results_['params']\n",
    "result = {k : [dic[k] for dic in params_] for k in params_[0]}\n",
    "cln = ['kernel', 'C', 'gamma', 'degree']\n",
    "\n",
    "for i in ['f1', 'recall']: # 'Accuracy', 'Precision', and 'recall'\n",
    "                           # are left out here for the report\n",
    "    result['mean_test_' + i] = CV_svm.cv_results_['mean_test_' + i]\n",
    "    result['std_test_' + i] = CV_svm.cv_results_['std_test_' + i]\n",
    "    cln.append('mean_test_' + i)\n",
    "\n",
    "results = pd.DataFrame(result)\n",
    "\n",
    "# replace the hyperparameters that are not applicable \n",
    "# for certain kernels with NaN values\n",
    "results.loc[results.kernel == 'linear', ['degree', 'gamma']] = np.nan\n",
    "results.loc[results.kernel == 'rbf', 'degree'] = np.nan\n",
    "results.loc[results.kernel == 'sigmoid', 'degree'] = np.nan"
   ]
  },
  {
   "cell_type": "markdown",
   "metadata": {},
   "source": [
    "#### Find hyperparameter combo that optimizes $f_{1}$"
   ]
  },
  {
   "cell_type": "code",
   "execution_count": 23,
   "metadata": {},
   "outputs": [
    {
     "data": {
      "text/html": [
       "<div>\n",
       "<style scoped>\n",
       "    .dataframe tbody tr th:only-of-type {\n",
       "        vertical-align: middle;\n",
       "    }\n",
       "\n",
       "    .dataframe tbody tr th {\n",
       "        vertical-align: top;\n",
       "    }\n",
       "\n",
       "    .dataframe thead th {\n",
       "        text-align: right;\n",
       "    }\n",
       "</style>\n",
       "<table border=\"1\" class=\"dataframe\">\n",
       "  <thead>\n",
       "    <tr style=\"text-align: right;\">\n",
       "      <th></th>\n",
       "      <th>C</th>\n",
       "      <th>degree</th>\n",
       "      <th>gamma</th>\n",
       "      <th>kernel</th>\n",
       "      <th>mean_test_f1</th>\n",
       "      <th>std_test_f1</th>\n",
       "      <th>mean_test_recall</th>\n",
       "      <th>std_test_recall</th>\n",
       "    </tr>\n",
       "  </thead>\n",
       "  <tbody>\n",
       "    <tr>\n",
       "      <th>897</th>\n",
       "      <td>80.0</td>\n",
       "      <td>NaN</td>\n",
       "      <td>0.027324</td>\n",
       "      <td>rbf</td>\n",
       "      <td>0.744634</td>\n",
       "      <td>0.025052</td>\n",
       "      <td>0.755057</td>\n",
       "      <td>0.021107</td>\n",
       "    </tr>\n",
       "    <tr>\n",
       "      <th>1553</th>\n",
       "      <td>95.0</td>\n",
       "      <td>NaN</td>\n",
       "      <td>0.018316</td>\n",
       "      <td>rbf</td>\n",
       "      <td>0.741349</td>\n",
       "      <td>0.033060</td>\n",
       "      <td>0.754313</td>\n",
       "      <td>0.028125</td>\n",
       "    </tr>\n",
       "    <tr>\n",
       "      <th>1597</th>\n",
       "      <td>100.0</td>\n",
       "      <td>NaN</td>\n",
       "      <td>0.018316</td>\n",
       "      <td>rbf</td>\n",
       "      <td>0.741197</td>\n",
       "      <td>0.035452</td>\n",
       "      <td>0.754313</td>\n",
       "      <td>0.029411</td>\n",
       "    </tr>\n",
       "    <tr>\n",
       "      <th>1161</th>\n",
       "      <td>85.0</td>\n",
       "      <td>NaN</td>\n",
       "      <td>0.027324</td>\n",
       "      <td>rbf</td>\n",
       "      <td>0.740732</td>\n",
       "      <td>0.025985</td>\n",
       "      <td>0.750607</td>\n",
       "      <td>0.022274</td>\n",
       "    </tr>\n",
       "    <tr>\n",
       "      <th>1381</th>\n",
       "      <td>90.0</td>\n",
       "      <td>NaN</td>\n",
       "      <td>0.027324</td>\n",
       "      <td>rbf</td>\n",
       "      <td>0.740547</td>\n",
       "      <td>0.030365</td>\n",
       "      <td>0.749378</td>\n",
       "      <td>0.027966</td>\n",
       "    </tr>\n",
       "    <tr>\n",
       "      <th>1065</th>\n",
       "      <td>85.0</td>\n",
       "      <td>NaN</td>\n",
       "      <td>0.014996</td>\n",
       "      <td>rbf</td>\n",
       "      <td>0.740370</td>\n",
       "      <td>0.035987</td>\n",
       "      <td>0.756978</td>\n",
       "      <td>0.028340</td>\n",
       "    </tr>\n",
       "    <tr>\n",
       "      <th>1549</th>\n",
       "      <td>95.0</td>\n",
       "      <td>NaN</td>\n",
       "      <td>0.014996</td>\n",
       "      <td>rbf</td>\n",
       "      <td>0.740284</td>\n",
       "      <td>0.040092</td>\n",
       "      <td>0.756978</td>\n",
       "      <td>0.032125</td>\n",
       "    </tr>\n",
       "    <tr>\n",
       "      <th>809</th>\n",
       "      <td>75.0</td>\n",
       "      <td>NaN</td>\n",
       "      <td>0.027324</td>\n",
       "      <td>rbf</td>\n",
       "      <td>0.739550</td>\n",
       "      <td>0.027159</td>\n",
       "      <td>0.750796</td>\n",
       "      <td>0.022982</td>\n",
       "    </tr>\n",
       "    <tr>\n",
       "      <th>1725</th>\n",
       "      <td>100.0</td>\n",
       "      <td>NaN</td>\n",
       "      <td>0.014996</td>\n",
       "      <td>rbf</td>\n",
       "      <td>0.739486</td>\n",
       "      <td>0.041260</td>\n",
       "      <td>0.755841</td>\n",
       "      <td>0.033783</td>\n",
       "    </tr>\n",
       "    <tr>\n",
       "      <th>1329</th>\n",
       "      <td>90.0</td>\n",
       "      <td>NaN</td>\n",
       "      <td>0.014996</td>\n",
       "      <td>rbf</td>\n",
       "      <td>0.739418</td>\n",
       "      <td>0.039184</td>\n",
       "      <td>0.755841</td>\n",
       "      <td>0.031009</td>\n",
       "    </tr>\n",
       "  </tbody>\n",
       "</table>\n",
       "</div>"
      ],
      "text/plain": [
       "          C  degree     gamma kernel  mean_test_f1  std_test_f1  \\\n",
       "897    80.0     NaN  0.027324    rbf      0.744634     0.025052   \n",
       "1553   95.0     NaN  0.018316    rbf      0.741349     0.033060   \n",
       "1597  100.0     NaN  0.018316    rbf      0.741197     0.035452   \n",
       "1161   85.0     NaN  0.027324    rbf      0.740732     0.025985   \n",
       "1381   90.0     NaN  0.027324    rbf      0.740547     0.030365   \n",
       "1065   85.0     NaN  0.014996    rbf      0.740370     0.035987   \n",
       "1549   95.0     NaN  0.014996    rbf      0.740284     0.040092   \n",
       "809    75.0     NaN  0.027324    rbf      0.739550     0.027159   \n",
       "1725  100.0     NaN  0.014996    rbf      0.739486     0.041260   \n",
       "1329   90.0     NaN  0.014996    rbf      0.739418     0.039184   \n",
       "\n",
       "      mean_test_recall  std_test_recall  \n",
       "897           0.755057         0.021107  \n",
       "1553          0.754313         0.028125  \n",
       "1597          0.754313         0.029411  \n",
       "1161          0.750607         0.022274  \n",
       "1381          0.749378         0.027966  \n",
       "1065          0.756978         0.028340  \n",
       "1549          0.756978         0.032125  \n",
       "809           0.750796         0.022982  \n",
       "1725          0.755841         0.033783  \n",
       "1329          0.755841         0.031009  "
      ]
     },
     "metadata": {},
     "output_type": "display_data"
    }
   ],
   "source": [
    "# sort results using the f1 score and drop duplicate values\n",
    "results_sorted1 = results.sort_values('mean_test_f1', ascending = False)\n",
    "results_sorted1.drop_duplicates(subset = results_sorted1.columns[3:], \n",
    "                                inplace = True) \n",
    "\n",
    "display(results_sorted1.head(10))"
   ]
  },
  {
   "cell_type": "markdown",
   "metadata": {},
   "source": [
    "### Gridsearch for different types of kernels and different hyperparameters using Recall score as the standard"
   ]
  },
  {
   "cell_type": "code",
   "execution_count": 24,
   "metadata": {},
   "outputs": [
    {
     "name": "stdout",
     "output_type": "stream",
     "text": [
      "time spent:  1142.1205389499664\n"
     ]
    }
   ],
   "source": [
    "start = time.time()\n",
    "\n",
    "# fit training data using GridSearch and cross validation\n",
    "svm_2 = svm.SVC()\n",
    "CV_svm2 = GridSearchCV(estimator = svm_2, param_grid = param_grid, cv = 5, \n",
    "                       scoring = scoring, refit = 'recall')\n",
    "CV_svm2.fit(X_train, y_train)\n",
    "\n",
    "time_spend = time.time() - start\n",
    "print('time spent: ', time_spend)"
   ]
  },
  {
   "cell_type": "code",
   "execution_count": 25,
   "metadata": {},
   "outputs": [],
   "source": [
    "# A DataFrame to keep track of the results\n",
    "params_2 = CV_svm2.cv_results_['params']\n",
    "result2 = {k : [dic[k] for dic in params_] for k in params_[0]}\n",
    "cln = ['kernel', 'C', 'gamma', 'degree']\n",
    "\n",
    "for i in ['f1', 'recall']: # 'Accuracy', 'Precision', and 'recall'\n",
    "                           # are left out here for the report\n",
    "    result2['mean_test_' + i] = CV_svm2.cv_results_['mean_test_' + i]\n",
    "    result2['std_test_' + i] = CV_svm2.cv_results_['std_test_' + i]\n",
    "    cln.append('mean_test_' + i)\n",
    "\n",
    "results2 = pd.DataFrame(result2)\n",
    "\n",
    "# replace the hyperparameters that are not applicable \n",
    "# for certain kernels with NaN values\n",
    "results2.loc[results.kernel == 'linear', ['degree', 'gamma']] = np.nan\n",
    "results2.loc[results.kernel == 'rbf', 'degree'] = np.nan\n",
    "results2.loc[results.kernel == 'sigmoid', 'degree'] = np.nan"
   ]
  },
  {
   "cell_type": "markdown",
   "metadata": {},
   "source": [
    "#### Find hyperparameter combo that optimizes recall"
   ]
  },
  {
   "cell_type": "code",
   "execution_count": 26,
   "metadata": {},
   "outputs": [
    {
     "data": {
      "text/html": [
       "<div>\n",
       "<style scoped>\n",
       "    .dataframe tbody tr th:only-of-type {\n",
       "        vertical-align: middle;\n",
       "    }\n",
       "\n",
       "    .dataframe tbody tr th {\n",
       "        vertical-align: top;\n",
       "    }\n",
       "\n",
       "    .dataframe thead th {\n",
       "        text-align: right;\n",
       "    }\n",
       "</style>\n",
       "<table border=\"1\" class=\"dataframe\">\n",
       "  <thead>\n",
       "    <tr style=\"text-align: right;\">\n",
       "      <th></th>\n",
       "      <th>C</th>\n",
       "      <th>degree</th>\n",
       "      <th>gamma</th>\n",
       "      <th>kernel</th>\n",
       "      <th>mean_test_f1</th>\n",
       "      <th>std_test_f1</th>\n",
       "      <th>mean_test_recall</th>\n",
       "      <th>std_test_recall</th>\n",
       "    </tr>\n",
       "  </thead>\n",
       "  <tbody>\n",
       "    <tr>\n",
       "      <th>1585</th>\n",
       "      <td>100.0</td>\n",
       "      <td>NaN</td>\n",
       "      <td>0.006738</td>\n",
       "      <td>rbf</td>\n",
       "      <td>0.737507</td>\n",
       "      <td>0.037810</td>\n",
       "      <td>0.757475</td>\n",
       "      <td>0.031416</td>\n",
       "    </tr>\n",
       "    <tr>\n",
       "      <th>889</th>\n",
       "      <td>80.0</td>\n",
       "      <td>NaN</td>\n",
       "      <td>0.014996</td>\n",
       "      <td>rbf</td>\n",
       "      <td>0.739284</td>\n",
       "      <td>0.036059</td>\n",
       "      <td>0.757167</td>\n",
       "      <td>0.029002</td>\n",
       "    </tr>\n",
       "    <tr>\n",
       "      <th>1417</th>\n",
       "      <td>95.0</td>\n",
       "      <td>NaN</td>\n",
       "      <td>0.014996</td>\n",
       "      <td>rbf</td>\n",
       "      <td>0.740284</td>\n",
       "      <td>0.040092</td>\n",
       "      <td>0.756978</td>\n",
       "      <td>0.032125</td>\n",
       "    </tr>\n",
       "    <tr>\n",
       "      <th>1065</th>\n",
       "      <td>85.0</td>\n",
       "      <td>NaN</td>\n",
       "      <td>0.014996</td>\n",
       "      <td>rbf</td>\n",
       "      <td>0.740370</td>\n",
       "      <td>0.035987</td>\n",
       "      <td>0.756978</td>\n",
       "      <td>0.028340</td>\n",
       "    </tr>\n",
       "    <tr>\n",
       "      <th>706</th>\n",
       "      <td>75.0</td>\n",
       "      <td>NaN</td>\n",
       "      <td>NaN</td>\n",
       "      <td>linear</td>\n",
       "      <td>0.738127</td>\n",
       "      <td>0.032489</td>\n",
       "      <td>0.756123</td>\n",
       "      <td>0.027576</td>\n",
       "    </tr>\n",
       "    <tr>\n",
       "      <th>189</th>\n",
       "      <td>45.0</td>\n",
       "      <td>NaN</td>\n",
       "      <td>0.018316</td>\n",
       "      <td>rbf</td>\n",
       "      <td>0.738587</td>\n",
       "      <td>0.032866</td>\n",
       "      <td>0.756041</td>\n",
       "      <td>0.027056</td>\n",
       "    </tr>\n",
       "    <tr>\n",
       "      <th>1593</th>\n",
       "      <td>100.0</td>\n",
       "      <td>NaN</td>\n",
       "      <td>0.014996</td>\n",
       "      <td>rbf</td>\n",
       "      <td>0.739486</td>\n",
       "      <td>0.041260</td>\n",
       "      <td>0.755841</td>\n",
       "      <td>0.033783</td>\n",
       "    </tr>\n",
       "    <tr>\n",
       "      <th>1241</th>\n",
       "      <td>90.0</td>\n",
       "      <td>NaN</td>\n",
       "      <td>0.014996</td>\n",
       "      <td>rbf</td>\n",
       "      <td>0.739418</td>\n",
       "      <td>0.039184</td>\n",
       "      <td>0.755841</td>\n",
       "      <td>0.031009</td>\n",
       "    </tr>\n",
       "    <tr>\n",
       "      <th>713</th>\n",
       "      <td>75.0</td>\n",
       "      <td>NaN</td>\n",
       "      <td>0.014996</td>\n",
       "      <td>rbf</td>\n",
       "      <td>0.735809</td>\n",
       "      <td>0.035984</td>\n",
       "      <td>0.755189</td>\n",
       "      <td>0.028965</td>\n",
       "    </tr>\n",
       "    <tr>\n",
       "      <th>1586</th>\n",
       "      <td>100.0</td>\n",
       "      <td>NaN</td>\n",
       "      <td>NaN</td>\n",
       "      <td>linear</td>\n",
       "      <td>0.735972</td>\n",
       "      <td>0.030761</td>\n",
       "      <td>0.755176</td>\n",
       "      <td>0.024985</td>\n",
       "    </tr>\n",
       "  </tbody>\n",
       "</table>\n",
       "</div>"
      ],
      "text/plain": [
       "          C  degree     gamma  kernel  mean_test_f1  std_test_f1  \\\n",
       "1585  100.0     NaN  0.006738     rbf      0.737507     0.037810   \n",
       "889    80.0     NaN  0.014996     rbf      0.739284     0.036059   \n",
       "1417   95.0     NaN  0.014996     rbf      0.740284     0.040092   \n",
       "1065   85.0     NaN  0.014996     rbf      0.740370     0.035987   \n",
       "706    75.0     NaN       NaN  linear      0.738127     0.032489   \n",
       "189    45.0     NaN  0.018316     rbf      0.738587     0.032866   \n",
       "1593  100.0     NaN  0.014996     rbf      0.739486     0.041260   \n",
       "1241   90.0     NaN  0.014996     rbf      0.739418     0.039184   \n",
       "713    75.0     NaN  0.014996     rbf      0.735809     0.035984   \n",
       "1586  100.0     NaN       NaN  linear      0.735972     0.030761   \n",
       "\n",
       "      mean_test_recall  std_test_recall  \n",
       "1585          0.757475         0.031416  \n",
       "889           0.757167         0.029002  \n",
       "1417          0.756978         0.032125  \n",
       "1065          0.756978         0.028340  \n",
       "706           0.756123         0.027576  \n",
       "189           0.756041         0.027056  \n",
       "1593          0.755841         0.033783  \n",
       "1241          0.755841         0.031009  \n",
       "713           0.755189         0.028965  \n",
       "1586          0.755176         0.024985  "
      ]
     },
     "metadata": {},
     "output_type": "display_data"
    }
   ],
   "source": [
    "# sort results using the Recall score and drop duplicate values\n",
    "results2.drop_duplicates(inplace = True) \n",
    "results_sorted2 = results2.sort_values('mean_test_recall', ascending = False)\n",
    "\n",
    "display(results_sorted2.head(10))"
   ]
  },
  {
   "cell_type": "markdown",
   "metadata": {},
   "source": [
    "### Part 4 Analysis\n",
    "\n",
    "On our gridsearch, no model is a clear winner for everyone. For a data scientist, the model with the best $f_{1}$ score might be the best one, whereas the model with the best Recall score might be the best for the medical team. To find a balance, the $f_{3}$ score could possibly be used. The $f_{3}$ score has a focus on the $f_{1}$ score but also weighs Recall over Precision.\n",
    "\n",
    "Overall, the optimization led to a similar score for both metrics. From a model perspective, RBF and linear kernels outperformed polynomial and sigmoid kernels. Regarding the hyperparameters, C values over 60 and a gamma below 0.02 appear to be optimal. Further tuning with a narrower range of values could improve these results. "
   ]
  },
  {
   "cell_type": "markdown",
   "metadata": {},
   "source": [
    "## Part 5. Second round of tuning based on previous observations"
   ]
  },
  {
   "cell_type": "code",
   "execution_count": 27,
   "metadata": {},
   "outputs": [],
   "source": [
    "del Cs, gammas, param_grid, scoring\n",
    "\n",
    "# define narrower ranges for hyperparameters for the\n",
    "# second round\n",
    "Cs = np.array([ 60. , 70. , 80. , 90. , 100. , 110.])\n",
    "gammas = np.array([0.001, 0.0025, 0.004, 0.0055, 0.007, \n",
    "                   0.0085, 0.01, 0.02, 0.03])\n",
    "\n",
    "param_grid = {'kernel' : ['rbf', 'linear'],\n",
    "              'C' : Cs,\n",
    "              'gamma' : gammas}        \n",
    "\n",
    "scoring = {'Accuracy' : 'accuracy',\n",
    "           'Precision' : 'precision', \n",
    "           'recall' : recall,\n",
    "           'f1' : f1, \n",
    "           'f2' : f2}"
   ]
  },
  {
   "cell_type": "markdown",
   "metadata": {},
   "source": [
    "### Second tuning using $f_{1}$ score as metric"
   ]
  },
  {
   "cell_type": "code",
   "execution_count": 28,
   "metadata": {},
   "outputs": [
    {
     "name": "stdout",
     "output_type": "stream",
     "text": [
      "time spent:  124.04504299163818\n"
     ]
    }
   ],
   "source": [
    "start = time.time()\n",
    "\n",
    "# fit training data using GridSearch and cross validation\n",
    "svm_3 = svm.SVC()\n",
    "CV_svm3 = GridSearchCV(estimator = svm_3, param_grid = param_grid, cv = 5, \n",
    "                      scoring = scoring, refit = 'f1')\n",
    "CV_svm3.fit(X_train, y_train)\n",
    "\n",
    "time_spend = time.time() - start\n",
    "print('time spent: ', time_spend)"
   ]
  },
  {
   "cell_type": "code",
   "execution_count": 29,
   "metadata": {},
   "outputs": [
    {
     "data": {
      "text/html": [
       "<div>\n",
       "<style scoped>\n",
       "    .dataframe tbody tr th:only-of-type {\n",
       "        vertical-align: middle;\n",
       "    }\n",
       "\n",
       "    .dataframe tbody tr th {\n",
       "        vertical-align: top;\n",
       "    }\n",
       "\n",
       "    .dataframe thead th {\n",
       "        text-align: right;\n",
       "    }\n",
       "</style>\n",
       "<table border=\"1\" class=\"dataframe\">\n",
       "  <thead>\n",
       "    <tr style=\"text-align: right;\">\n",
       "      <th></th>\n",
       "      <th>C</th>\n",
       "      <th>gamma</th>\n",
       "      <th>kernel</th>\n",
       "      <th>mean_test_f1</th>\n",
       "      <th>std_test_f1</th>\n",
       "      <th>mean_test_recall</th>\n",
       "      <th>std_test_recall</th>\n",
       "      <th>degree</th>\n",
       "    </tr>\n",
       "  </thead>\n",
       "  <tbody>\n",
       "    <tr>\n",
       "      <th>104</th>\n",
       "      <td>110.0</td>\n",
       "      <td>0.0200</td>\n",
       "      <td>rbf</td>\n",
       "      <td>0.744233</td>\n",
       "      <td>0.035829</td>\n",
       "      <td>0.756399</td>\n",
       "      <td>0.031679</td>\n",
       "      <td>NaN</td>\n",
       "    </tr>\n",
       "    <tr>\n",
       "      <th>68</th>\n",
       "      <td>90.0</td>\n",
       "      <td>0.0200</td>\n",
       "      <td>rbf</td>\n",
       "      <td>0.740693</td>\n",
       "      <td>0.036042</td>\n",
       "      <td>0.754421</td>\n",
       "      <td>0.030758</td>\n",
       "      <td>NaN</td>\n",
       "    </tr>\n",
       "    <tr>\n",
       "      <th>106</th>\n",
       "      <td>110.0</td>\n",
       "      <td>0.0300</td>\n",
       "      <td>rbf</td>\n",
       "      <td>0.740539</td>\n",
       "      <td>0.029553</td>\n",
       "      <td>0.745709</td>\n",
       "      <td>0.034475</td>\n",
       "      <td>NaN</td>\n",
       "    </tr>\n",
       "    <tr>\n",
       "      <th>34</th>\n",
       "      <td>70.0</td>\n",
       "      <td>0.0300</td>\n",
       "      <td>rbf</td>\n",
       "      <td>0.740258</td>\n",
       "      <td>0.026635</td>\n",
       "      <td>0.750714</td>\n",
       "      <td>0.024345</td>\n",
       "      <td>NaN</td>\n",
       "    </tr>\n",
       "    <tr>\n",
       "      <th>16</th>\n",
       "      <td>60.0</td>\n",
       "      <td>0.0300</td>\n",
       "      <td>rbf</td>\n",
       "      <td>0.739809</td>\n",
       "      <td>0.030668</td>\n",
       "      <td>0.752053</td>\n",
       "      <td>0.027206</td>\n",
       "      <td>NaN</td>\n",
       "    </tr>\n",
       "    <tr>\n",
       "      <th>86</th>\n",
       "      <td>100.0</td>\n",
       "      <td>0.0200</td>\n",
       "      <td>rbf</td>\n",
       "      <td>0.739752</td>\n",
       "      <td>0.040647</td>\n",
       "      <td>0.753274</td>\n",
       "      <td>0.034925</td>\n",
       "      <td>NaN</td>\n",
       "    </tr>\n",
       "    <tr>\n",
       "      <th>100</th>\n",
       "      <td>110.0</td>\n",
       "      <td>0.0085</td>\n",
       "      <td>rbf</td>\n",
       "      <td>0.739305</td>\n",
       "      <td>0.033930</td>\n",
       "      <td>0.757188</td>\n",
       "      <td>0.027309</td>\n",
       "      <td>NaN</td>\n",
       "    </tr>\n",
       "    <tr>\n",
       "      <th>50</th>\n",
       "      <td>80.0</td>\n",
       "      <td>0.0200</td>\n",
       "      <td>rbf</td>\n",
       "      <td>0.739027</td>\n",
       "      <td>0.034670</td>\n",
       "      <td>0.752135</td>\n",
       "      <td>0.029342</td>\n",
       "      <td>NaN</td>\n",
       "    </tr>\n",
       "    <tr>\n",
       "      <th>32</th>\n",
       "      <td>70.0</td>\n",
       "      <td>0.0200</td>\n",
       "      <td>rbf</td>\n",
       "      <td>0.738039</td>\n",
       "      <td>0.034423</td>\n",
       "      <td>0.753555</td>\n",
       "      <td>0.028357</td>\n",
       "      <td>NaN</td>\n",
       "    </tr>\n",
       "    <tr>\n",
       "      <th>66</th>\n",
       "      <td>90.0</td>\n",
       "      <td>0.0100</td>\n",
       "      <td>rbf</td>\n",
       "      <td>0.737180</td>\n",
       "      <td>0.035185</td>\n",
       "      <td>0.755000</td>\n",
       "      <td>0.029716</td>\n",
       "      <td>NaN</td>\n",
       "    </tr>\n",
       "  </tbody>\n",
       "</table>\n",
       "</div>"
      ],
      "text/plain": [
       "         C   gamma kernel  mean_test_f1  std_test_f1  mean_test_recall  \\\n",
       "104  110.0  0.0200    rbf      0.744233     0.035829          0.756399   \n",
       "68    90.0  0.0200    rbf      0.740693     0.036042          0.754421   \n",
       "106  110.0  0.0300    rbf      0.740539     0.029553          0.745709   \n",
       "34    70.0  0.0300    rbf      0.740258     0.026635          0.750714   \n",
       "16    60.0  0.0300    rbf      0.739809     0.030668          0.752053   \n",
       "86   100.0  0.0200    rbf      0.739752     0.040647          0.753274   \n",
       "100  110.0  0.0085    rbf      0.739305     0.033930          0.757188   \n",
       "50    80.0  0.0200    rbf      0.739027     0.034670          0.752135   \n",
       "32    70.0  0.0200    rbf      0.738039     0.034423          0.753555   \n",
       "66    90.0  0.0100    rbf      0.737180     0.035185          0.755000   \n",
       "\n",
       "     std_test_recall  degree  \n",
       "104         0.031679     NaN  \n",
       "68          0.030758     NaN  \n",
       "106         0.034475     NaN  \n",
       "34          0.024345     NaN  \n",
       "16          0.027206     NaN  \n",
       "86          0.034925     NaN  \n",
       "100         0.027309     NaN  \n",
       "50          0.029342     NaN  \n",
       "32          0.028357     NaN  \n",
       "66          0.029716     NaN  "
      ]
     },
     "metadata": {},
     "output_type": "display_data"
    }
   ],
   "source": [
    "# A DataFrame to keep track of the results\n",
    "params_ = CV_svm3.cv_results_['params']\n",
    "result3 = {k : [dic[k] for dic in params_] for k in params_[0]}\n",
    "cln = ['kernel', 'C', 'gamma', 'degree']\n",
    "\n",
    "for i in ['f1', 'recall']: # 'Accuracy', 'Precision', and 'recall'\n",
    "                           # are left out here for the report\n",
    "    result3['mean_test_' + i] = CV_svm3.cv_results_['mean_test_' + i]\n",
    "    result3['std_test_' + i] = CV_svm3.cv_results_['std_test_' + i]\n",
    "    cln.append('mean_test_' + i)\n",
    "\n",
    "results3 = pd.DataFrame(result3)\n",
    "\n",
    "# replace the hyperparameters that are not applicable \n",
    "# for certain kernels with NaN values\n",
    "results3.loc[results3.kernel == 'linear', ['degree', 'gamma']] = np.nan\n",
    "results3.loc[results3.kernel == 'rbf', 'degree'] = np.nan\n",
    "results3.loc[results3.kernel == 'sigmoid', 'degree'] = np.nan\n",
    "\n",
    "# sort results using the Recall score and drop duplicate values\n",
    "results_sorted3 = results3.sort_values('mean_test_f1', ascending = False)\n",
    "results_sorted3.drop_duplicates(subset = results_sorted3.columns[3:], inplace = True) \n",
    "\n",
    "display(results_sorted3.head(10))"
   ]
  },
  {
   "cell_type": "markdown",
   "metadata": {},
   "source": [
    "### Second tuning for recall"
   ]
  },
  {
   "cell_type": "code",
   "execution_count": 30,
   "metadata": {},
   "outputs": [
    {
     "name": "stdout",
     "output_type": "stream",
     "text": [
      "time spent:  124.1988878250122\n"
     ]
    }
   ],
   "source": [
    "start = time.time()\n",
    "\n",
    "# fit training data using GridSearch and cross validation\n",
    "svm_4 = svm.SVC()\n",
    "CV_svm4 = GridSearchCV(estimator = svm_4, param_grid = param_grid, cv = 5, \n",
    "                      scoring = scoring, refit = 'recall')\n",
    "CV_svm4.fit(X_train, y_train)\n",
    "\n",
    "time_spend = time.time() - start\n",
    "print('time spent: ', time_spend)"
   ]
  },
  {
   "cell_type": "code",
   "execution_count": 31,
   "metadata": {},
   "outputs": [
    {
     "data": {
      "text/html": [
       "<div>\n",
       "<style scoped>\n",
       "    .dataframe tbody tr th:only-of-type {\n",
       "        vertical-align: middle;\n",
       "    }\n",
       "\n",
       "    .dataframe tbody tr th {\n",
       "        vertical-align: top;\n",
       "    }\n",
       "\n",
       "    .dataframe thead th {\n",
       "        text-align: right;\n",
       "    }\n",
       "</style>\n",
       "<table border=\"1\" class=\"dataframe\">\n",
       "  <thead>\n",
       "    <tr style=\"text-align: right;\">\n",
       "      <th></th>\n",
       "      <th>C</th>\n",
       "      <th>gamma</th>\n",
       "      <th>kernel</th>\n",
       "      <th>mean_test_f1</th>\n",
       "      <th>std_test_f1</th>\n",
       "      <th>mean_test_recall</th>\n",
       "      <th>std_test_recall</th>\n",
       "      <th>degree</th>\n",
       "    </tr>\n",
       "  </thead>\n",
       "  <tbody>\n",
       "    <tr>\n",
       "      <th>100</th>\n",
       "      <td>110.0</td>\n",
       "      <td>0.0085</td>\n",
       "      <td>rbf</td>\n",
       "      <td>0.739305</td>\n",
       "      <td>0.033930</td>\n",
       "      <td>0.757188</td>\n",
       "      <td>0.027309</td>\n",
       "      <td>NaN</td>\n",
       "    </tr>\n",
       "    <tr>\n",
       "      <th>104</th>\n",
       "      <td>110.0</td>\n",
       "      <td>0.0200</td>\n",
       "      <td>rbf</td>\n",
       "      <td>0.744233</td>\n",
       "      <td>0.035829</td>\n",
       "      <td>0.756399</td>\n",
       "      <td>0.031679</td>\n",
       "      <td>NaN</td>\n",
       "    </tr>\n",
       "    <tr>\n",
       "      <th>98</th>\n",
       "      <td>110.0</td>\n",
       "      <td>0.0070</td>\n",
       "      <td>rbf</td>\n",
       "      <td>0.736751</td>\n",
       "      <td>0.034208</td>\n",
       "      <td>0.756349</td>\n",
       "      <td>0.028358</td>\n",
       "      <td>NaN</td>\n",
       "    </tr>\n",
       "    <tr>\n",
       "      <th>80</th>\n",
       "      <td>100.0</td>\n",
       "      <td>0.0070</td>\n",
       "      <td>rbf</td>\n",
       "      <td>0.736671</td>\n",
       "      <td>0.038448</td>\n",
       "      <td>0.756338</td>\n",
       "      <td>0.032170</td>\n",
       "      <td>NaN</td>\n",
       "    </tr>\n",
       "    <tr>\n",
       "      <th>24</th>\n",
       "      <td>70.0</td>\n",
       "      <td>0.0055</td>\n",
       "      <td>rbf</td>\n",
       "      <td>0.732901</td>\n",
       "      <td>0.036666</td>\n",
       "      <td>0.755699</td>\n",
       "      <td>0.031023</td>\n",
       "      <td>NaN</td>\n",
       "    </tr>\n",
       "    <tr>\n",
       "      <th>62</th>\n",
       "      <td>90.0</td>\n",
       "      <td>0.0070</td>\n",
       "      <td>rbf</td>\n",
       "      <td>0.735112</td>\n",
       "      <td>0.038137</td>\n",
       "      <td>0.755297</td>\n",
       "      <td>0.031156</td>\n",
       "      <td>NaN</td>\n",
       "    </tr>\n",
       "    <tr>\n",
       "      <th>79</th>\n",
       "      <td>100.0</td>\n",
       "      <td>NaN</td>\n",
       "      <td>linear</td>\n",
       "      <td>0.735972</td>\n",
       "      <td>0.030761</td>\n",
       "      <td>0.755176</td>\n",
       "      <td>0.024985</td>\n",
       "      <td>NaN</td>\n",
       "    </tr>\n",
       "    <tr>\n",
       "      <th>66</th>\n",
       "      <td>90.0</td>\n",
       "      <td>0.0100</td>\n",
       "      <td>rbf</td>\n",
       "      <td>0.737180</td>\n",
       "      <td>0.035185</td>\n",
       "      <td>0.755000</td>\n",
       "      <td>0.029716</td>\n",
       "      <td>NaN</td>\n",
       "    </tr>\n",
       "    <tr>\n",
       "      <th>68</th>\n",
       "      <td>90.0</td>\n",
       "      <td>0.0200</td>\n",
       "      <td>rbf</td>\n",
       "      <td>0.740693</td>\n",
       "      <td>0.036042</td>\n",
       "      <td>0.754421</td>\n",
       "      <td>0.030758</td>\n",
       "      <td>NaN</td>\n",
       "    </tr>\n",
       "    <tr>\n",
       "      <th>1</th>\n",
       "      <td>60.0</td>\n",
       "      <td>NaN</td>\n",
       "      <td>linear</td>\n",
       "      <td>0.734581</td>\n",
       "      <td>0.030616</td>\n",
       "      <td>0.754156</td>\n",
       "      <td>0.024890</td>\n",
       "      <td>NaN</td>\n",
       "    </tr>\n",
       "  </tbody>\n",
       "</table>\n",
       "</div>"
      ],
      "text/plain": [
       "         C   gamma  kernel  mean_test_f1  std_test_f1  mean_test_recall  \\\n",
       "100  110.0  0.0085     rbf      0.739305     0.033930          0.757188   \n",
       "104  110.0  0.0200     rbf      0.744233     0.035829          0.756399   \n",
       "98   110.0  0.0070     rbf      0.736751     0.034208          0.756349   \n",
       "80   100.0  0.0070     rbf      0.736671     0.038448          0.756338   \n",
       "24    70.0  0.0055     rbf      0.732901     0.036666          0.755699   \n",
       "62    90.0  0.0070     rbf      0.735112     0.038137          0.755297   \n",
       "79   100.0     NaN  linear      0.735972     0.030761          0.755176   \n",
       "66    90.0  0.0100     rbf      0.737180     0.035185          0.755000   \n",
       "68    90.0  0.0200     rbf      0.740693     0.036042          0.754421   \n",
       "1     60.0     NaN  linear      0.734581     0.030616          0.754156   \n",
       "\n",
       "     std_test_recall  degree  \n",
       "100         0.027309     NaN  \n",
       "104         0.031679     NaN  \n",
       "98          0.028358     NaN  \n",
       "80          0.032170     NaN  \n",
       "24          0.031023     NaN  \n",
       "62          0.031156     NaN  \n",
       "79          0.024985     NaN  \n",
       "66          0.029716     NaN  \n",
       "68          0.030758     NaN  \n",
       "1           0.024890     NaN  "
      ]
     },
     "metadata": {},
     "output_type": "display_data"
    }
   ],
   "source": [
    "# A DataFrame to keep track of the results\n",
    "params_ = CV_svm4.cv_results_['params']\n",
    "result4 = {k : [dic[k] for dic in params_] for k in params_[0]}\n",
    "cln = ['kernel', 'C', 'gamma', 'degree']\n",
    "\n",
    "for i in ['f1', 'recall']: # 'Accuracy', 'Precision', and 'recall'\n",
    "                           # are left out here for the report\n",
    "    result4['mean_test_' + i] = CV_svm4.cv_results_['mean_test_' + i]\n",
    "    result4['std_test_' + i] = CV_svm4.cv_results_['std_test_' + i]\n",
    "    cln.append('mean_test_' + i)\n",
    "\n",
    "results4 = pd.DataFrame(result4)\n",
    "\n",
    "# replace the hyperparameters that are not applicable \n",
    "# for certain kernels with NaN values\n",
    "results4.loc[results4.kernel == 'linear', ['degree', 'gamma']] = np.nan\n",
    "results4.loc[results4.kernel == 'rbf', 'degree'] = np.nan\n",
    "results4.loc[results4.kernel == 'sigmoid', 'degree'] = np.nan\n",
    "\n",
    "# sort results using the Recall score and drop duplicate values\n",
    "results_sorted4 = results4.sort_values('mean_test_recall', ascending = False)\n",
    "results_sorted4.drop_duplicates(subset = results_sorted4.columns[3:], inplace = True) \n",
    "\n",
    "display(results_sorted4.head(10))"
   ]
  },
  {
   "cell_type": "markdown",
   "metadata": {},
   "source": [
    "### Part 5 Analysis\n",
    "The final hyperparameters after this round of tuning are:"
   ]
  },
  {
   "cell_type": "markdown",
   "metadata": {},
   "source": [
    "Metric | Kernel | C | gamma\n",
    "--- | --- | --- | ---\n",
    "$f_{1}$ score | rbf  | 110  | 0.02\n",
    "Recall score  | rbf  | 110  | 0.0085"
   ]
  },
  {
   "cell_type": "markdown",
   "metadata": {},
   "source": [
    "## Part 6. Confusion matrix"
   ]
  },
  {
   "cell_type": "markdown",
   "metadata": {},
   "source": [
    "### Using $f_{1}$ score as metric"
   ]
  },
  {
   "cell_type": "code",
   "execution_count": 32,
   "metadata": {},
   "outputs": [
    {
     "name": "stdout",
     "output_type": "stream",
     "text": [
      "C         110.0\n",
      "gamma      0.02\n",
      "kernel      rbf\n",
      "Name: 0, dtype: object\n",
      "Confusion matrix of training sample: \n",
      " [[402  37]\n",
      " [121 360]]\n",
      "Confusion matrix of test sample: \n",
      " [[81 20]\n",
      " [42 88]]\n",
      "f1 score of training sample:  0.8200455580865604\n",
      "f1 score of test sample:  0.7394957983193278\n"
     ]
    }
   ],
   "source": [
    "# We use the best one for f1:\n",
    "results_sorted3 = results_sorted3.reset_index(drop=True)\n",
    "print(results_sorted3.loc[0, ['C', 'gamma', 'kernel']])\n",
    "\n",
    "# fit the training data again with this \"best\"\n",
    "# combination of hyperparameters\n",
    "svm_bestf1 = svm.SVC(C = results_sorted3.loc[0, 'C'], \n",
    "                     gamma = results_sorted3.loc[0, 'gamma'],\n",
    "                     kernel = results_sorted3.loc[0, 'kernel'])\n",
    "svm_bestf1.fit(X_train, y_train)\n",
    "\n",
    "# use model to predict using test data\n",
    "y_train_pred = svm_bestf1.predict(X_train)\n",
    "y_test_pred = svm_bestf1.predict(X_test)\n",
    "\n",
    "# construct confusion matrix\n",
    "conf_mat_train = confusion_matrix(y_train, y_train_pred)\n",
    "conf_mat_test = confusion_matrix(y_test, y_test_pred)\n",
    "\n",
    "# calculate f1 scores\n",
    "f1_train = f1_scorer(y_train, y_train_pred)\n",
    "f1_test = f1_scorer(y_test, y_test_pred)\n",
    "\n",
    "print('Confusion matrix of training sample: \\n', conf_mat_train)\n",
    "print('Confusion matrix of test sample: \\n', conf_mat_test)\n",
    "print('f1 score of training sample: ', f1_train)\n",
    "print('f1 score of test sample: ', f1_test)"
   ]
  },
  {
   "cell_type": "markdown",
   "metadata": {},
   "source": [
    "### Using Recall score as metric"
   ]
  },
  {
   "cell_type": "code",
   "execution_count": 33,
   "metadata": {},
   "outputs": [
    {
     "name": "stdout",
     "output_type": "stream",
     "text": [
      "C          110.0\n",
      "gamma     0.0085\n",
      "kernel       rbf\n",
      "Name: 0, dtype: object\n",
      "Confusion matrix of training sample: \n",
      " [[391  48]\n",
      " [139 342]]\n",
      "Confusion matrix of test sample: \n",
      " [[81 20]\n",
      " [45 85]]\n",
      "Recall of training sample:  0.8008396516369182\n",
      "Recall of test sample:  0.727913175932978\n"
     ]
    }
   ],
   "source": [
    "# We use the best one for recall:\n",
    "results_sorted4 = results_sorted4.reset_index(drop=True)\n",
    "print(results_sorted4.loc[0, ['C', 'gamma', 'kernel']])\n",
    "\n",
    "# fit the training data again with this \"best\"\n",
    "# combination of hyperparameters\n",
    "svm_best_rc = svm.SVC(C = results_sorted4.loc[0, 'C'], \n",
    "                     gamma = results_sorted4.loc[0, 'gamma'],\n",
    "                     kernel = results_sorted4.loc[0, 'kernel'])\n",
    "                     #random_state = 0)\n",
    "svm_best_rc.fit(X_train, y_train)\n",
    "\n",
    "# use model to predict using test data\n",
    "y_train_pred2 = svm_best_rc.predict(X_train)\n",
    "y_test_pred2 = svm_best_rc.predict(X_test)\n",
    "\n",
    "# construct confusion matrix\n",
    "conf_mat_train2 = confusion_matrix(y_train, y_train_pred2)\n",
    "conf_mat_test2 = confusion_matrix(y_test, y_test_pred2)\n",
    "\n",
    "# calculate Recall scores\n",
    "rc_train = recall_scorer(y_train, y_train_pred2)\n",
    "rc_test = recall_scorer(y_test, y_test_pred2)\n",
    "\n",
    "print('Confusion matrix of training sample: \\n', conf_mat_train2)\n",
    "print('Confusion matrix of test sample: \\n', conf_mat_test2)\n",
    "print('Recall of training sample: ', rc_train)\n",
    "print('Recall of test sample: ', rc_test)"
   ]
  },
  {
   "cell_type": "code",
   "execution_count": 34,
   "metadata": {},
   "outputs": [
    {
     "name": "stdout",
     "output_type": "stream",
     "text": [
      "Total time spent:  3013.7397859096527\n"
     ]
    }
   ],
   "source": [
    "total_time_spend = time.time() - start_0\n",
    "print('Total time spent: ', total_time_spend)"
   ]
  },
  {
   "cell_type": "markdown",
   "metadata": {},
   "source": [
    "### Part 6 Conclusions\n",
    "\n",
    "Regarding the confusion matrices, we can see a similar behavior for both metrics. We can see that there is an imbalance of false negative and false positive. From a medical perspective, assuming we cannot eliminate false positive or negative results, it is better to have more false positives than false negatives. This is because generally more than one test is performed to determine whether a patient actually has a disease. One good example nowadays is the coronavirus. In many places, the procedure is to perform a quick test and in case of a positive result, perform a pcr test. Having a false negative in this case is worse than false positive. \n",
    "\n",
    "Even though the $f_{1}$ and Recall scores have a formidable performance, we cannot ignore the fact that a third of sick patients go undetected. This small dataset does not allow the model to be properly trained and thus accurately diagnose. With more data, we may be able to improve the scores."
   ]
  },
  {
   "cell_type": "code",
   "execution_count": null,
   "metadata": {},
   "outputs": [],
   "source": []
  }
 ],
 "metadata": {
  "kernelspec": {
   "display_name": "Python 3",
   "language": "python",
   "name": "python3"
  },
  "language_info": {
   "codemirror_mode": {
    "name": "ipython",
    "version": 3
   },
   "file_extension": ".py",
   "mimetype": "text/x-python",
   "name": "python",
   "nbconvert_exporter": "python",
   "pygments_lexer": "ipython3",
   "version": "3.8.5"
  }
 },
 "nbformat": 4,
 "nbformat_minor": 4
}
